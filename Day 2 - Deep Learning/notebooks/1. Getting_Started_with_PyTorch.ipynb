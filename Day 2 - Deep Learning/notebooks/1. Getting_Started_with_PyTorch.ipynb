{
 "cells": [
  {
   "cell_type": "markdown",
   "id": "6f0c9ff2",
   "metadata": {},
   "source": [
    "![ACM SIGCHI Summer School on Computational Interaction  \n",
    "Inference, optimization and modeling for the engineering of interactive systems  \n",
    "13th June - 18th June 2022  \n",
    "Saarland University in Saarbrücken, Germany](imgs/header.png)"
   ]
  },
  {
   "cell_type": "markdown",
   "id": "b122c503",
   "metadata": {},
   "source": [
    "# <font face=\"gotham\" color=\"Brown\">  Getting started with  </font>\n",
    "\n",
    "\n",
    "![PyTorch](imgs/pytorch.png)\n",
    "\n",
    "\n"
   ]
  },
  {
   "cell_type": "markdown",
   "id": "b2cf95b1",
   "metadata": {},
   "source": [
    "Official resources:\n",
    "* [Deep Learning with PyTorch: a 60 Minute Blitz](https://pytorch.org/tutorials/beginner/deep_learning_60min_blitz.html)\n",
    "* [PyTorch documentation](https://pytorch.org/docs/stable/index.html)"
   ]
  },
  {
   "cell_type": "markdown",
   "id": "587776dc",
   "metadata": {},
   "source": [
    "\n",
    "## 1. Basic concepts\n",
    "\n",
    "Tensors\n",
    "--------------------------------------------\n",
    "\n",
    "Tensors are a specialized data structure that are very similar to arrays\n",
    "and matrices. In PyTorch, we use tensors to encode the inputs and\n",
    "outputs of a model, as well as the model’s parameters.\n",
    "\n",
    "Tensors are similar to NumPy’s ndarrays, except that tensors can run on\n",
    "GPUs or other specialized hardware to accelerate computing. If you’re familiar with ndarrays, you’ll\n",
    "be right at home with the Tensor API. If not, follow along in this quick\n",
    "API walkthrough.\n",
    "\n",
    "> Tensors are IMMUTABLE. Just like python tuples and sets you can NOT update the contents of a tensor. You can only create a new tensor. \n",
    "\n",
    "\n"
   ]
  },
  {
   "cell_type": "markdown",
   "id": "4063c924",
   "metadata": {},
   "source": [
    "Install [PyTorch](https://pytorch.org/get-started/locally/)"
   ]
  },
  {
   "cell_type": "code",
   "execution_count": 1,
   "id": "d8f88f2f",
   "metadata": {},
   "outputs": [],
   "source": [
    "#!pip3 install torch torchvision torchaudio"
   ]
  },
  {
   "cell_type": "code",
   "execution_count": 49,
   "id": "33970c4f",
   "metadata": {},
   "outputs": [],
   "source": [
    "import torch\n",
    "import numpy as np"
   ]
  },
  {
   "cell_type": "markdown",
   "id": "a6f2fae5",
   "metadata": {},
   "source": [
    "Tensor Initialization\n",
    "\n",
    "Tensors can be initialized in various ways. Take a look at the following examples:\n",
    "\n",
    "**Directly from data**\n",
    "\n",
    "Tensors can be created directly from data. The data type is automatically inferred.\n",
    "\n"
   ]
  },
  {
   "cell_type": "code",
   "execution_count": 3,
   "id": "1a02d949",
   "metadata": {},
   "outputs": [],
   "source": [
    "data = [[1, 2], [3, 4]]\n",
    "x_data = torch.tensor(data)"
   ]
  },
  {
   "cell_type": "code",
   "execution_count": 4,
   "id": "8e15ebc0",
   "metadata": {},
   "outputs": [
    {
     "data": {
      "text/plain": [
       "torch.Tensor"
      ]
     },
     "execution_count": 4,
     "metadata": {},
     "output_type": "execute_result"
    }
   ],
   "source": [
    "type(x_data)"
   ]
  },
  {
   "cell_type": "code",
   "execution_count": 5,
   "id": "fd83ce54",
   "metadata": {},
   "outputs": [
    {
     "data": {
      "text/plain": [
       "tensor([[1, 2],\n",
       "        [3, 4]])"
      ]
     },
     "execution_count": 5,
     "metadata": {},
     "output_type": "execute_result"
    }
   ],
   "source": [
    "x_data"
   ]
  },
  {
   "cell_type": "markdown",
   "id": "83f52fe3",
   "metadata": {},
   "source": [
    "**From a NumPy array**\n",
    "\n",
    "Tensors can be created from NumPy arrays.\n",
    "\n"
   ]
  },
  {
   "cell_type": "code",
   "execution_count": 6,
   "id": "9d9a8df0",
   "metadata": {},
   "outputs": [],
   "source": [
    "#coverts list to np.array\n",
    "np_array = np.array(data)\n",
    "#convert np.array to tensor\n",
    "x_np = torch.from_numpy(np_array)"
   ]
  },
  {
   "cell_type": "code",
   "execution_count": 7,
   "id": "ef149a4d",
   "metadata": {},
   "outputs": [
    {
     "data": {
      "text/plain": [
       "tensor([[1, 2],\n",
       "        [3, 4]])"
      ]
     },
     "execution_count": 7,
     "metadata": {},
     "output_type": "execute_result"
    }
   ],
   "source": [
    "x_np"
   ]
  },
  {
   "cell_type": "markdown",
   "id": "0fd310b6",
   "metadata": {},
   "source": [
    "**From another tensor:**\n",
    "\n",
    "The new tensor retains the properties (shape, datatype) of the argument tensor, unless explicitly overridden.\n",
    "\n"
   ]
  },
  {
   "cell_type": "code",
   "execution_count": 8,
   "id": "b14a456b",
   "metadata": {},
   "outputs": [
    {
     "name": "stdout",
     "output_type": "stream",
     "text": [
      "Ones Tensor: \n",
      " tensor([[1, 1],\n",
      "        [1, 1]]) \n",
      "\n",
      "Random Tensor: \n",
      " tensor([[0.8422, 0.0790],\n",
      "        [0.9027, 0.9163]]) \n",
      "\n"
     ]
    }
   ],
   "source": [
    "x_ones = torch.ones_like(x_data) \n",
    "print(f\"Ones Tensor: \\n {x_ones} \\n\")\n",
    "\n",
    "x_rand = torch.rand_like(x_data, dtype=torch.float) \n",
    "print(f\"Random Tensor: \\n {x_rand} \\n\")"
   ]
  },
  {
   "cell_type": "markdown",
   "id": "98237297",
   "metadata": {},
   "source": [
    "**With random or constant values:**\n",
    "\n",
    "``shape`` is a tuple of tensor dimensions. In the functions below, it determines the dimensionality of the output tensor.\n",
    "\n"
   ]
  },
  {
   "cell_type": "code",
   "execution_count": 9,
   "id": "723f72da",
   "metadata": {},
   "outputs": [
    {
     "name": "stdout",
     "output_type": "stream",
     "text": [
      "Random Tensor: \n",
      " tensor([[0.8898, 0.7953, 0.0666],\n",
      "        [0.6766, 0.2228, 0.0447]]) \n",
      "\n",
      "Ones Tensor: \n",
      " tensor([[1., 1., 1.],\n",
      "        [1., 1., 1.]]) \n",
      "\n",
      "Zeros Tensor: \n",
      " tensor([[0., 0., 0.],\n",
      "        [0., 0., 0.]])\n"
     ]
    }
   ],
   "source": [
    "shape = (2, 3,)\n",
    "rand_tensor = torch.rand(shape)\n",
    "ones_tensor = torch.ones(shape)\n",
    "zeros_tensor = torch.zeros(shape)\n",
    "\n",
    "print(f\"Random Tensor: \\n {rand_tensor} \\n\")\n",
    "print(f\"Ones Tensor: \\n {ones_tensor} \\n\")\n",
    "print(f\"Zeros Tensor: \\n {zeros_tensor}\")"
   ]
  },
  {
   "cell_type": "code",
   "execution_count": null,
   "id": "7da6b4f8",
   "metadata": {},
   "outputs": [],
   "source": []
  },
  {
   "cell_type": "markdown",
   "id": "7c39e904",
   "metadata": {},
   "source": [
    "#### Tensor Attributes\n",
    "\n",
    "\n",
    "Tensor attributes describe their shape, datatype, and the device on which they are stored.\n",
    "\n"
   ]
  },
  {
   "cell_type": "code",
   "execution_count": 10,
   "id": "37053ad2",
   "metadata": {},
   "outputs": [
    {
     "name": "stdout",
     "output_type": "stream",
     "text": [
      "Shape of tensor: torch.Size([3, 4])\n",
      "Datatype of tensor: torch.float32\n",
      "Device tensor is stored on: cpu\n"
     ]
    }
   ],
   "source": [
    "tensor = torch.rand(3, 4)\n",
    "print(f\"Shape of tensor: {tensor.shape}\")\n",
    "print(f\"Datatype of tensor: {tensor.dtype}\")\n",
    "print(f\"Device tensor is stored on: {tensor.device}\")"
   ]
  },
  {
   "cell_type": "markdown",
   "id": "8b919343",
   "metadata": {},
   "source": [
    "--------------\n",
    "\n",
    "\n"
   ]
  },
  {
   "cell_type": "markdown",
   "id": "5c92511a",
   "metadata": {},
   "source": [
    "#### Tensor Operations\n",
    "\n",
    "\n",
    "Over 100 tensor operations, including transposing, indexing, slicing,\n",
    "mathematical operations, linear algebra, random sampling, and more are\n",
    "comprehensively described\n",
    "[here](https://pytorch.org/docs/stable/torch.html)\n",
    "\n",
    "Each of them can be run on the GPU (at typically higher speeds than on a\n",
    "CPU). If you’re using Colab, allocate a GPU by going to Edit > Notebook\n",
    "Settings.\n",
    "\n",
    "\n"
   ]
  },
  {
   "cell_type": "markdown",
   "id": "aff560db",
   "metadata": {},
   "source": [
    "**Multiplying tensors**\n",
    "\n"
   ]
  },
  {
   "cell_type": "code",
   "execution_count": 11,
   "id": "12bf502c",
   "metadata": {},
   "outputs": [
    {
     "name": "stdout",
     "output_type": "stream",
     "text": [
      "tensor.mul(tensor) \n",
      " tensor([[0.0685, 0.5781, 0.1865, 0.6219],\n",
      "        [0.8056, 0.1168, 0.5647, 0.7733],\n",
      "        [0.1257, 0.6320, 0.2365, 0.1907]]) \n",
      "\n",
      "tensor * tensor \n",
      " tensor([[0.0685, 0.5781, 0.1865, 0.6219],\n",
      "        [0.8056, 0.1168, 0.5647, 0.7733],\n",
      "        [0.1257, 0.6320, 0.2365, 0.1907]])\n"
     ]
    }
   ],
   "source": [
    "# This computes the element-wise product\n",
    "print(f\"tensor.mul(tensor) \\n {tensor.mul(tensor)} \\n\")\n",
    "# Alternative syntax:\n",
    "print(f\"tensor * tensor \\n {tensor * tensor}\")"
   ]
  },
  {
   "cell_type": "markdown",
   "id": "a0252948",
   "metadata": {},
   "source": [
    "This computes the matrix multiplication between two tensors\n",
    "\n"
   ]
  },
  {
   "cell_type": "code",
   "execution_count": 12,
   "id": "6fa0d40f",
   "metadata": {},
   "outputs": [
    {
     "name": "stdout",
     "output_type": "stream",
     "text": [
      "tensor.matmul(tensor.T) \n",
      " tensor([[1.4550, 1.5129, 1.2516],\n",
      "        [1.5129, 2.2605, 1.3394],\n",
      "        [1.2516, 1.3394, 1.1849]]) \n",
      "\n",
      "tensor @ tensor.T \n",
      " tensor([[1.4550, 1.5129, 1.2516],\n",
      "        [1.5129, 2.2605, 1.3394],\n",
      "        [1.2516, 1.3394, 1.1849]])\n"
     ]
    }
   ],
   "source": [
    "print(f\"tensor.matmul(tensor.T) \\n {tensor.matmul(tensor.T)} \\n\")\n",
    "# Alternative syntax:\n",
    "print(f\"tensor @ tensor.T \\n {tensor @ tensor.T}\")"
   ]
  },
  {
   "cell_type": "code",
   "execution_count": null,
   "id": "ec9187bd",
   "metadata": {},
   "outputs": [],
   "source": []
  },
  {
   "cell_type": "markdown",
   "id": "810213c1",
   "metadata": {},
   "source": [
    "#### Tensor to NumPy array\n",
    "\n",
    "\n"
   ]
  },
  {
   "cell_type": "code",
   "execution_count": 13,
   "id": "85f28d5e",
   "metadata": {},
   "outputs": [
    {
     "name": "stdout",
     "output_type": "stream",
     "text": [
      "t: tensor([1., 1., 1., 1., 1.])\n",
      "n: [1. 1. 1. 1. 1.]\n"
     ]
    }
   ],
   "source": [
    "t = torch.ones(5)\n",
    "print(f\"t: {t}\")\n",
    "n = t.numpy()\n",
    "print(f\"n: {n}\")"
   ]
  },
  {
   "cell_type": "markdown",
   "id": "faf1957f",
   "metadata": {},
   "source": [
    "A change in the tensor reflects in the NumPy array.\n",
    "\n"
   ]
  },
  {
   "cell_type": "code",
   "execution_count": 14,
   "id": "d2759ec1",
   "metadata": {},
   "outputs": [
    {
     "name": "stdout",
     "output_type": "stream",
     "text": [
      "t: tensor([2., 2., 2., 2., 2.])\n",
      "n: [2. 2. 2. 2. 2.]\n"
     ]
    }
   ],
   "source": [
    "t.add_(1)\n",
    "print(f\"t: {t}\")\n",
    "print(f\"n: {n}\")"
   ]
  },
  {
   "cell_type": "markdown",
   "id": "bb0f803e",
   "metadata": {},
   "source": [
    "NumPy array to Tensor\n",
    "\n",
    "\n"
   ]
  },
  {
   "cell_type": "code",
   "execution_count": 15,
   "id": "2125acff",
   "metadata": {},
   "outputs": [],
   "source": [
    "n = np.ones(5)\n",
    "t = torch.from_numpy(n)"
   ]
  },
  {
   "cell_type": "code",
   "execution_count": null,
   "id": "036fa952",
   "metadata": {},
   "outputs": [],
   "source": []
  },
  {
   "cell_type": "markdown",
   "id": "d949d7a1",
   "metadata": {},
   "source": [
    " # 2. Building a Neural Network"
   ]
  },
  {
   "cell_type": "markdown",
   "id": "f6f9350c",
   "metadata": {},
   "source": [
    "## 2.1. Data"
   ]
  },
  {
   "cell_type": "markdown",
   "id": "b119a954",
   "metadata": {},
   "source": [
    "**Handling data** ( i.e. steps of  acquiring, preprocessing and how you will iterate over your data) consumes majority of your time while working on ML projects. In this tutorial we will learn a popular dataset called MNIST and use a package called [torchvision](https://pytorch.org/vision/stable/index.html). "
   ]
  },
  {
   "cell_type": "markdown",
   "id": "076fcb3c",
   "metadata": {},
   "source": [
    "[MNIST](http://yann.lecun.com/exdb/mnist/) dataset has 70k small grayscale images."
   ]
  },
  {
   "cell_type": "code",
   "execution_count": 16,
   "id": "7b129ef5",
   "metadata": {},
   "outputs": [],
   "source": [
    "#!pip install torchvision"
   ]
  },
  {
   "cell_type": "code",
   "execution_count": 50,
   "id": "ec2d793d",
   "metadata": {},
   "outputs": [],
   "source": [
    "import torch\n",
    "import torchvision\n",
    "from torchvision import transforms, datasets\n",
    "from IPython.display import Image"
   ]
  },
  {
   "cell_type": "markdown",
   "id": "48f840dd",
   "metadata": {},
   "source": [
    "![MNIST](imgs/mnist.png)"
   ]
  },
  {
   "cell_type": "markdown",
   "id": "91307fec",
   "metadata": {},
   "source": [
    "#### Download MNIST dataset"
   ]
  },
  {
   "cell_type": "code",
   "execution_count": null,
   "id": "0ec3d2ef",
   "metadata": {},
   "outputs": [],
   "source": [
    " '''Eventhough we are grabbing the data from Pytorch,\n",
    "    it's not in tensor format so we use the transform \n",
    "    method to convert it to tensors.'''\n",
    "\n",
    "train_dataset = torchvision.datasets.MNIST(root='./data', \n",
    "                                           train=True, \n",
    "                                           transform=transforms.ToTensor(),  \n",
    "                                           download=True)\n",
    "\n",
    "test_dataset = torchvision.datasets.MNIST(root='./data', \n",
    "                                          train=False, \n",
    "                                          transform=transforms.ToTensor())"
   ]
  },
  {
   "cell_type": "markdown",
   "id": "f50d1181",
   "metadata": {},
   "source": [
    "***Loading data***"
   ]
  },
  {
   "cell_type": "code",
   "execution_count": 27,
   "id": "2f9eaaab",
   "metadata": {},
   "outputs": [],
   "source": [
    "train_set = torch.utils.data.DataLoader(train_dataset, batch_size=10, shuffle=True) \n",
    "test_set = torch.utils.data.DataLoader(test_dataset, batch_size=10, shuffle=True)"
   ]
  },
  {
   "cell_type": "markdown",
   "id": "c5772c31",
   "metadata": {},
   "source": [
    "batch_size is how many datapoints we want to pass at a time."
   ]
  },
  {
   "cell_type": "code",
   "execution_count": 28,
   "id": "4406694c",
   "metadata": {},
   "outputs": [
    {
     "name": "stdout",
     "output_type": "stream",
     "text": [
      "[tensor([[[[0., 0., 0.,  ..., 0., 0., 0.],\n",
      "          [0., 0., 0.,  ..., 0., 0., 0.],\n",
      "          [0., 0., 0.,  ..., 0., 0., 0.],\n",
      "          ...,\n",
      "          [0., 0., 0.,  ..., 0., 0., 0.],\n",
      "          [0., 0., 0.,  ..., 0., 0., 0.],\n",
      "          [0., 0., 0.,  ..., 0., 0., 0.]]],\n",
      "\n",
      "\n",
      "        [[[0., 0., 0.,  ..., 0., 0., 0.],\n",
      "          [0., 0., 0.,  ..., 0., 0., 0.],\n",
      "          [0., 0., 0.,  ..., 0., 0., 0.],\n",
      "          ...,\n",
      "          [0., 0., 0.,  ..., 0., 0., 0.],\n",
      "          [0., 0., 0.,  ..., 0., 0., 0.],\n",
      "          [0., 0., 0.,  ..., 0., 0., 0.]]],\n",
      "\n",
      "\n",
      "        [[[0., 0., 0.,  ..., 0., 0., 0.],\n",
      "          [0., 0., 0.,  ..., 0., 0., 0.],\n",
      "          [0., 0., 0.,  ..., 0., 0., 0.],\n",
      "          ...,\n",
      "          [0., 0., 0.,  ..., 0., 0., 0.],\n",
      "          [0., 0., 0.,  ..., 0., 0., 0.],\n",
      "          [0., 0., 0.,  ..., 0., 0., 0.]]],\n",
      "\n",
      "\n",
      "        ...,\n",
      "\n",
      "\n",
      "        [[[0., 0., 0.,  ..., 0., 0., 0.],\n",
      "          [0., 0., 0.,  ..., 0., 0., 0.],\n",
      "          [0., 0., 0.,  ..., 0., 0., 0.],\n",
      "          ...,\n",
      "          [0., 0., 0.,  ..., 0., 0., 0.],\n",
      "          [0., 0., 0.,  ..., 0., 0., 0.],\n",
      "          [0., 0., 0.,  ..., 0., 0., 0.]]],\n",
      "\n",
      "\n",
      "        [[[0., 0., 0.,  ..., 0., 0., 0.],\n",
      "          [0., 0., 0.,  ..., 0., 0., 0.],\n",
      "          [0., 0., 0.,  ..., 0., 0., 0.],\n",
      "          ...,\n",
      "          [0., 0., 0.,  ..., 0., 0., 0.],\n",
      "          [0., 0., 0.,  ..., 0., 0., 0.],\n",
      "          [0., 0., 0.,  ..., 0., 0., 0.]]],\n",
      "\n",
      "\n",
      "        [[[0., 0., 0.,  ..., 0., 0., 0.],\n",
      "          [0., 0., 0.,  ..., 0., 0., 0.],\n",
      "          [0., 0., 0.,  ..., 0., 0., 0.],\n",
      "          ...,\n",
      "          [0., 0., 0.,  ..., 0., 0., 0.],\n",
      "          [0., 0., 0.,  ..., 0., 0., 0.],\n",
      "          [0., 0., 0.,  ..., 0., 0., 0.]]]]), tensor([7, 9, 4, 8, 4, 6, 1, 7, 5, 5])]\n"
     ]
    }
   ],
   "source": [
    "#Iterate over the trainset\n",
    "#Output 10 examples of handwritten digits(x) and 10 tensors of the actual outpputs(y)\n",
    "for data in train_set:\n",
    "    print(data)\n",
    "    break"
   ]
  },
  {
   "cell_type": "markdown",
   "id": "f38b21aa",
   "metadata": {},
   "source": [
    "Each iteration will contain a batch of 10 elements (that was the batch size we chose), and 10 classes. Let's just look at one:"
   ]
  },
  {
   "cell_type": "code",
   "execution_count": 29,
   "id": "26f64131",
   "metadata": {},
   "outputs": [
    {
     "name": "stdout",
     "output_type": "stream",
     "text": [
      "tensor(9)\n"
     ]
    }
   ],
   "source": [
    "X, y = data[0][0], data[1][1]\n",
    "\n",
    "print(y)"
   ]
  },
  {
   "cell_type": "markdown",
   "id": "ffee49b4",
   "metadata": {},
   "source": [
    "* X is our input data. The features. The thing we want to predict.\n",
    "* y is our label. The classification. The thing we hope the neural network can learn to predict.\n",
    "\n",
    "We can see this by doing.\n",
    "\n",
    "```data[0]``` is a bunch of features for things and ```data[1]``` is all the targets."
   ]
  },
  {
   "cell_type": "code",
   "execution_count": 30,
   "id": "5446189f",
   "metadata": {},
   "outputs": [
    {
     "data": {
      "text/plain": [
       "tensor([[[[0., 0., 0.,  ..., 0., 0., 0.],\n",
       "          [0., 0., 0.,  ..., 0., 0., 0.],\n",
       "          [0., 0., 0.,  ..., 0., 0., 0.],\n",
       "          ...,\n",
       "          [0., 0., 0.,  ..., 0., 0., 0.],\n",
       "          [0., 0., 0.,  ..., 0., 0., 0.],\n",
       "          [0., 0., 0.,  ..., 0., 0., 0.]]],\n",
       "\n",
       "\n",
       "        [[[0., 0., 0.,  ..., 0., 0., 0.],\n",
       "          [0., 0., 0.,  ..., 0., 0., 0.],\n",
       "          [0., 0., 0.,  ..., 0., 0., 0.],\n",
       "          ...,\n",
       "          [0., 0., 0.,  ..., 0., 0., 0.],\n",
       "          [0., 0., 0.,  ..., 0., 0., 0.],\n",
       "          [0., 0., 0.,  ..., 0., 0., 0.]]],\n",
       "\n",
       "\n",
       "        [[[0., 0., 0.,  ..., 0., 0., 0.],\n",
       "          [0., 0., 0.,  ..., 0., 0., 0.],\n",
       "          [0., 0., 0.,  ..., 0., 0., 0.],\n",
       "          ...,\n",
       "          [0., 0., 0.,  ..., 0., 0., 0.],\n",
       "          [0., 0., 0.,  ..., 0., 0., 0.],\n",
       "          [0., 0., 0.,  ..., 0., 0., 0.]]],\n",
       "\n",
       "\n",
       "        ...,\n",
       "\n",
       "\n",
       "        [[[0., 0., 0.,  ..., 0., 0., 0.],\n",
       "          [0., 0., 0.,  ..., 0., 0., 0.],\n",
       "          [0., 0., 0.,  ..., 0., 0., 0.],\n",
       "          ...,\n",
       "          [0., 0., 0.,  ..., 0., 0., 0.],\n",
       "          [0., 0., 0.,  ..., 0., 0., 0.],\n",
       "          [0., 0., 0.,  ..., 0., 0., 0.]]],\n",
       "\n",
       "\n",
       "        [[[0., 0., 0.,  ..., 0., 0., 0.],\n",
       "          [0., 0., 0.,  ..., 0., 0., 0.],\n",
       "          [0., 0., 0.,  ..., 0., 0., 0.],\n",
       "          ...,\n",
       "          [0., 0., 0.,  ..., 0., 0., 0.],\n",
       "          [0., 0., 0.,  ..., 0., 0., 0.],\n",
       "          [0., 0., 0.,  ..., 0., 0., 0.]]],\n",
       "\n",
       "\n",
       "        [[[0., 0., 0.,  ..., 0., 0., 0.],\n",
       "          [0., 0., 0.,  ..., 0., 0., 0.],\n",
       "          [0., 0., 0.,  ..., 0., 0., 0.],\n",
       "          ...,\n",
       "          [0., 0., 0.,  ..., 0., 0., 0.],\n",
       "          [0., 0., 0.,  ..., 0., 0., 0.],\n",
       "          [0., 0., 0.,  ..., 0., 0., 0.]]]])"
      ]
     },
     "execution_count": 30,
     "metadata": {},
     "output_type": "execute_result"
    }
   ],
   "source": [
    "data[0]"
   ]
  },
  {
   "cell_type": "code",
   "execution_count": 31,
   "id": "ae17b8e1",
   "metadata": {},
   "outputs": [
    {
     "data": {
      "text/plain": [
       "tensor([7, 9, 4, 8, 4, 6, 1, 7, 5, 5])"
      ]
     },
     "execution_count": 31,
     "metadata": {},
     "output_type": "execute_result"
    }
   ],
   "source": [
    "data[1]"
   ]
  },
  {
   "cell_type": "markdown",
   "id": "28e5d85e",
   "metadata": {},
   "source": [
    "As you can see, ```data[1]``` is just a bunch of labels. So, since ```data[1][0]``` is a 7, we can expect ```data[0][0]``` to be an image of a 7. Let's see!"
   ]
  },
  {
   "cell_type": "code",
   "execution_count": 32,
   "id": "af5dd4ea",
   "metadata": {},
   "outputs": [],
   "source": [
    "import matplotlib.pyplot as plt"
   ]
  },
  {
   "cell_type": "code",
   "execution_count": 33,
   "id": "53c2920e",
   "metadata": {},
   "outputs": [
    {
     "data": {
      "image/png": "[encoded data removed]",
      "text/plain": [
       "<Figure size 432x288 with 1 Axes>"
      ]
     },
     "metadata": {
      "needs_background": "light"
     },
     "output_type": "display_data"
    }
   ],
   "source": [
    "#plt.imshow(data[0][0])\n",
    "#throws shape error \n",
    "plt.imshow(data[0][0].view(28,28), cmap='gray')\n",
    "plt.show()"
   ]
  },
  {
   "cell_type": "markdown",
   "id": "590b6213",
   "metadata": {},
   "source": [
    "To learn Visualization with Python check out [matplotlib](https://matplotlib.org/stable/tutorials/index)"
   ]
  },
  {
   "cell_type": "code",
   "execution_count": 34,
   "id": "37a7bedf",
   "metadata": {},
   "outputs": [
    {
     "name": "stdout",
     "output_type": "stream",
     "text": [
      "torch.Size([1, 28, 28])\n"
     ]
    }
   ],
   "source": [
    "print(data[0][0].shape)"
   ]
  },
  {
   "cell_type": "markdown",
   "id": "e5916d4c",
   "metadata": {},
   "source": [
    "Now we have our data downloaded and loaded to memory as train_set and test_set"
   ]
  },
  {
   "cell_type": "code",
   "execution_count": 35,
   "id": "82f80f92",
   "metadata": {},
   "outputs": [
    {
     "data": {
      "text/plain": [
       "6000"
      ]
     },
     "execution_count": 35,
     "metadata": {},
     "output_type": "execute_result"
    }
   ],
   "source": [
    "len(train_set)"
   ]
  },
  {
   "cell_type": "code",
   "execution_count": 36,
   "id": "07cbc640",
   "metadata": {},
   "outputs": [
    {
     "data": {
      "text/plain": [
       "1000"
      ]
     },
     "execution_count": 36,
     "metadata": {},
     "output_type": "execute_result"
    }
   ],
   "source": [
    "len(test_set)"
   ]
  },
  {
   "cell_type": "markdown",
   "id": "48a9eb92",
   "metadata": {},
   "source": [
    "## 2.2. Defining a Neural Network"
   ]
  },
  {
   "cell_type": "code",
   "execution_count": 37,
   "id": "c43a3e3e",
   "metadata": {},
   "outputs": [],
   "source": [
    "import torch.nn as nn # OOP\n",
    "import torch.nn.functional as F"
   ]
  },
  {
   "cell_type": "markdown",
   "id": "72cfe862",
   "metadata": {},
   "source": [
    "The ```torch.nn``` import gives us access to some helpful neural network things, such as various neural network layer types (things like regular fully-connected layers, convolutional layers (for imagery), recurrent layers...etc)\n",
    "\n",
    "The ```torch.nn.functional```  specifically gives us access to some handy functions that we might not want to write ourselves. such as relu or \"rectified linear\" activation function. Instead of writing all of the code for these things this allows us to just import and use them."
   ]
  },
  {
   "cell_type": "markdown",
   "id": "b6ccc6be",
   "metadata": {},
   "source": [
    "To build our model, we're going to create a class. We'll call this class net and this net will inhereit from the nn.Module class:\n",
    "\n"
   ]
  },
  {
   "cell_type": "code",
   "execution_count": 38,
   "id": "c23d0d1c",
   "metadata": {},
   "outputs": [],
   "source": [
    "class Net(nn.Module):\n",
    "    def __init__(self):\n",
    "        super().__init__()\n",
    "        self.fc1 = nn.Linear(28*28, 64)  #784 is 28*28 flattened image Input output is 64 can be any\n",
    "        self.fc2 = nn.Linear(64, 64) #Hidden layers\n",
    "        self.fc3 = nn.Linear(64 , 64)\n",
    "        self.fc4 = nn.Linear(64, 10) #There are 10 classes\n",
    "        \n",
    "        #We defined our NN but no way to feed in data\n",
    "\n",
    "    def forward(self, x):\n",
    "        x = F.relu(self.fc1(x)) #  relu, activation function\n",
    "        x = F.relu(self.fc2(x))\n",
    "        x = F.relu(self.fc3(x))\n",
    "        output = self.fc4(x) #No activation\n",
    "        return output\n",
    "        \n",
    "\n",
    "net = Net()\n",
    "#print(model)"
   ]
  },
  {
   "cell_type": "markdown",
   "id": "27ef3f9a",
   "metadata": {},
   "source": [
    "First layer takes in 28x28, because our images are 28x28 images of hand-drawn digits. A basic neural network is going to expect to have a flattened array, so not a 28x28, but instead a 1x784.\n",
    "\n",
    "We used relu(rectified linear unint) as activation function. \n",
    "\n",
    "Basically, these activation functions are keeping our data scaled between 0 and 1.\n",
    "\n",
    "Finally, for the output layer, we used softmax. Softmax makes sense to use for a multi-class problem, where each thing can only be one class or the other. This means the outputs themselves are a confidence score, adding up to 1"
   ]
  },
  {
   "cell_type": "markdown",
   "id": "f716f82d",
   "metadata": {},
   "source": [
    "There are many rule-of-thumb methods for determining the correct number of neurons to use in the hidden layers, such as the following:\n",
    "- The number of hidden neurons should be between the size of the input layer and the size of the output layer.\n",
    "- The number of hidden neurons should be 2/3 the size of the input layer, plus the size of the output layer.\n",
    "- The number of hidden neurons should be less than twice the size of the input layer.\n",
    "\n",
    "Moreover, the number of neurons and number layers required for the hidden layer also depends upon training cases, the complexity of, data that is to be learned, and the type of activation functions used.\n"
   ]
  },
  {
   "cell_type": "markdown",
   "id": "f49292c1",
   "metadata": {},
   "source": [
    "## 2.3. Defining a Loss function and optimizer"
   ]
  },
  {
   "cell_type": "code",
   "execution_count": 39,
   "id": "53b3097d",
   "metadata": {},
   "outputs": [],
   "source": [
    "import torch.optim as optim\n",
    "\n",
    "loss_function = nn.CrossEntropyLoss()\n",
    "optimizer = optim.Adam(net.parameters(), lr=0.001) # Adam:Adaptive momentm ,  lr: learning rate "
   ]
  },
  {
   "cell_type": "markdown",
   "id": "27f63edf",
   "metadata": {},
   "source": [
    "* Our ```loss_function``` is what calculates \"how far off\" our classifications are from reality.\n",
    "It is a measurement of how far off the neural network is from the targeted output.\n",
    "\n",
    "\n",
    "![Softmax](imgs/softmax.png)\n",
    "\n",
    "\n",
    "\n",
    "In pytorch the ```nn.CrossEntropyLoss()``` already applies softmax so no need to add softmax at the last layer.\n",
    "\n",
    "![Sigmoid](imgs/Sigmoid.png)\n",
    "\n"
   ]
  },
  {
   "cell_type": "code",
   "execution_count": 40,
   "id": "df41233f",
   "metadata": {},
   "outputs": [],
   "source": [
    "class Binary_Net(nn.Module):\n",
    "    def __init__(self):\n",
    "        super().__init__()\n",
    "        self.fc1 = nn.Linear(28*28, 64)  #784 is 28*28 flattened image Input output is 64 can be any\n",
    "        self.fc2 = nn.Linear(64, 64) #Hidden layers\n",
    "        self.fc3 = nn.Linear(64 , 64)\n",
    "        self.fc4 = nn.Linear(64, 1) #one out put Yes or No\n",
    "        \n",
    "        #\n",
    "\n",
    "    def forward(self, x):\n",
    "        x = F.relu(self.fc1(x)) #  relu, activation function\n",
    "        x = F.relu(self.fc2(x))\n",
    "        x = F.relu(self.fc3(x))\n",
    "        output = self.fc4(x) \n",
    "        #Sigmoid at the end\n",
    "        y_pred = torch.sigmoid(output)\n",
    "        return ypred\n",
    "        #F.log_softmax(x, dim=1)"
   ]
  },
  {
   "cell_type": "markdown",
   "id": "52044395",
   "metadata": {},
   "source": [
    "* ```optimizer``` adjusts our model's adjustable parameters like the weights, to slowly, over time, fit our data.\n",
    "\n",
    "* The learning rate dictates the magnitude of changes that the optimizer can make at a time. Thus, the larger the LR, the quicker the model can learn, but also you might find that the steps you allow the optimizer to make are actually too big and the optimizer gets stuck bouncing around rather than improving. Too small, and the model can take much longer to learn as well as also possibly getting stuck. Indeed a too small value will require a very large number of epochs to converge while the algorithm might not converged by setting a too large value.\n"
   ]
  },
  {
   "cell_type": "markdown",
   "id": "ef389580",
   "metadata": {},
   "source": [
    "![LR](https://deeplearningmath.org/images/learning_rate_choice.png)"
   ]
  },
  {
   "cell_type": "markdown",
   "id": "2961eea0",
   "metadata": {},
   "source": [
    "Moreover, it is not recommended to use a constant learning rate. Indeed, even if a large value can help the algorithm to arrive quickly to a good solution, then it might oscillate around this state for a long time or diverge if the learning rate is maintained. A solution is to allow the learning rate to decay over time."
   ]
  },
  {
   "cell_type": "markdown",
   "id": "dd4f8b3d",
   "metadata": {},
   "source": [
    "> For simpler tasks, a learning rate of 0.001 usually is more than fine. For more complex tasks, you will see a learning rate with what's called a decay. Basically you start the learning rate at something like 0.001, or 0.01...etc, and then over time, that learning rate gets smaller and smaller. The idea being you can initially train fast, and slowly take smaller steps, hopefully getthing the best of both worlds.\n",
    "\n",
    "A common approach is to half the learning rate every 5 epochs, or by 0.1 every 20 epochs. A proposed heuristic is to track the validation error while training with a fixed learning rate, and if the validation error stops improving then reduce the learning rate by a constant (e.g. 0.5)."
   ]
  },
  {
   "cell_type": "markdown",
   "id": "a7ba46a9",
   "metadata": {},
   "source": [
    "## 2.4. Training the network"
   ]
  },
  {
   "cell_type": "markdown",
   "id": "08f28ab5",
   "metadata": {},
   "source": [
    "### Epoch\n",
    "\n",
    "![Epoch](https://miro.medium.com/max/1024/1*cDhZ56QNC5mrl6kjE0C2JA.png)\n",
    "\n",
    "In deep learning an epoch is a [hyperparameter](https://en.wikipedia.org/wiki/Hyperparameter_(machine_learning)) which is defined before training a model. In other words, one epoch is when an entire dataset is passed both forward and backward through the neural network only once.\n",
    "\n",
    "The reason why we have to split the training step by epochs is decrease the amount of data we feed to the computer at once. So, we divide it in several smaller batches. \n",
    "\n",
    "We use more than one epoch because passing the entire dataset through a neural network is not enough and we need to pass the full dataset multiple times to the same neural network. But since we are using a limited dataset we can do it in an iterative process. A batch is the total number of training examples present in a single batch and an iteration is the number of batches needed to complete one epoch.\n",
    "\n",
    "**Example**: \n",
    "\n",
    "If we divide a dataset of 2000 training examples into 500 batches, then 4 iterations will complete 1 epoch."
   ]
  },
  {
   "cell_type": "markdown",
   "id": "2b2b866f",
   "metadata": {},
   "source": [
    "* Too few epochs, and your model wont learn everything it could have.\n",
    "\n",
    "* Too many epochs and your model will over fit to your in-sample data (basically memorize the in-sample data, and perform poorly on out of sample data).\n",
    "\n",
    "Let's go with 3 epochs for now. So we will loop over epochs, and each epoch will loop over our data"
   ]
  },
  {
   "cell_type": "code",
   "execution_count": 41,
   "id": "105ce981",
   "metadata": {},
   "outputs": [
    {
     "name": "stdout",
     "output_type": "stream",
     "text": [
      "Epoch [1/3], Step [3000/6000], Loss: 0.7423\n",
      "Epoch [1/3], Step [6000/6000], Loss: 0.0186\n",
      "Epoch [2/3], Step [3000/6000], Loss: 0.2267\n",
      "Epoch [2/3], Step [6000/6000], Loss: 0.0317\n",
      "Epoch [3/3], Step [3000/6000], Loss: 0.0137\n",
      "Epoch [3/3], Step [6000/6000], Loss: 0.9441\n"
     ]
    }
   ],
   "source": [
    "# Train the model\n",
    "n_total_steps = len(train_set)\n",
    "num_epochs = 3\n",
    "\n",
    "for epoch in range(num_epochs): #3 full passes over the data\n",
    "    for i, (images, labels) in enumerate(train_set):  \n",
    "        # origin shape: [10, 1, 28, 28]\n",
    "        # resized: [10, 784]\n",
    "        images = images.reshape(-1, 28*28) #with -1 Pytorch will automatically identify the first dimentions\n",
    "        labels = labels\n",
    "        \n",
    "        \n",
    "        # Forward pass\n",
    "        outputs = net(images) # pass in the reshaped batch (recall they are 28x28 atm)\n",
    "        loss = loss_function(outputs, labels) # calculate and grab the loss value\n",
    "        \n",
    "        # Backward and optimize\n",
    "        optimizer.zero_grad()\n",
    "        loss.backward()  # apply this loss backwards thru the network's parameters\n",
    "        optimizer.step() # attempt to optimize weights to account for loss/gradients\n",
    "        \n",
    "        if (i+1) % 3000 == 0: #Every 3000 steps prinyt some info \n",
    "            print (f'Epoch [{epoch+1}/{num_epochs}], Step [{i+1}/{n_total_steps}], Loss: {loss.item():.4f}')"
   ]
  },
  {
   "cell_type": "markdown",
   "id": "75ebb7a4",
   "metadata": {},
   "source": [
    "Once we pass data through our neural network, getting an output, we can compare that output to the desired output. With this, we can compute the gradients for each parameter, which our optimizer (Adam, SGD...etc) uses as information for updating weights.\n",
    "\n",
    "\n",
    "This is why it's important to do a ```net.zero_grad()``` for every step, otherwise these gradients will add up for every pass, and then we'll be re-optimizing for previous gradients that we already optimized for."
   ]
  },
  {
   "cell_type": "markdown",
   "id": "312a57af",
   "metadata": {},
   "source": [
    "So, for each epoch, and for each batch in our dataset, what do we do?\n",
    "\n",
    "* Grab the features (X) and labels (y) from current batch\n",
    "* Zero the gradients (net.zero_grad)\n",
    "* Pass the data through the network\n",
    "* Calculate the loss\n",
    "* Adjust weights in the network with the hopes of decreasing loss\n",
    "\n",
    "\n"
   ]
  },
  {
   "cell_type": "markdown",
   "id": "7403cf0f",
   "metadata": {},
   "source": [
    "## 2.5. Test the network on the test data\n",
    "\n",
    "As we iterate, we get loss, which is an important metric, but we care about accuracy. So, how did we do? To test this, all we need to do is iterate over our test set, measuring for correctness by comparing output to target values."
   ]
  },
  {
   "cell_type": "code",
   "execution_count": 43,
   "id": "6332d8fc",
   "metadata": {},
   "outputs": [
    {
     "name": "stdout",
     "output_type": "stream",
     "text": [
      "Accuracy of the network on the 10000 test images: 96.72 %\n"
     ]
    }
   ],
   "source": [
    "# Test the model\n",
    "# In test phase, we don't need to compute gradients (for memory efficiency)\n",
    "# This is out of sample data and we just want to know how good is the network \n",
    "\n",
    "with torch.no_grad():\n",
    "    n_correct = 0\n",
    "    n_samples = 0\n",
    "    for images, labels in test_set:\n",
    "        images = images.reshape(-1, 28*28)\n",
    "        labels = labels\n",
    "        outputs = net(images)\n",
    "        \n",
    "        for idx, i in enumerate(outputs):\n",
    "            #print(torch.argmax(i), y[idx])\n",
    "            if torch.argmax(i) == labels[idx]:\n",
    "                n_correct += 1\n",
    "            n_samples += 1\n",
    "\n",
    "    acc = 100.0 * n_correct / n_samples\n",
    "    print(f'Accuracy of the network on the 10000 test images: {acc} %')\n",
    "\n"
   ]
  },
  {
   "cell_type": "code",
   "execution_count": 44,
   "id": "a5e82447",
   "metadata": {},
   "outputs": [],
   "source": [
    "# get some random testing images\n",
    "dataiter = iter(test_set)\n",
    "images, labels = dataiter.next()"
   ]
  },
  {
   "cell_type": "code",
   "execution_count": 45,
   "id": "f731d4e8",
   "metadata": {},
   "outputs": [
    {
     "data": {
      "image/png": "[encoded data removed]",
      "text/plain": [
       "<Figure size 432x288 with 1 Axes>"
      ]
     },
     "metadata": {
      "needs_background": "light"
     },
     "output_type": "display_data"
    }
   ],
   "source": [
    "import matplotlib.pyplot as plt\n",
    "plt.imshow(images[9].view(28,28))\n",
    "plt.show()"
   ]
  },
  {
   "cell_type": "code",
   "execution_count": 46,
   "id": "797e96e9",
   "metadata": {},
   "outputs": [
    {
     "name": "stdout",
     "output_type": "stream",
     "text": [
      "tensor(9)\n"
     ]
    }
   ],
   "source": [
    "print(torch.argmax(net(images[9].view(-1,784))[0]))"
   ]
  },
  {
   "cell_type": "markdown",
   "id": "c0cf1fd8",
   "metadata": {},
   "source": [
    "## 2.6.  Saving and Loading the model\n",
    "\n",
    "Model training usually takes a lot of time, so once the model is trained it is smart to save it."
   ]
  },
  {
   "cell_type": "code",
   "execution_count": 47,
   "id": "2a83d143",
   "metadata": {},
   "outputs": [],
   "source": [
    "torch.save(net, 'Models/torch_model.pth')"
   ]
  },
  {
   "cell_type": "code",
   "execution_count": 48,
   "id": "828dad91",
   "metadata": {},
   "outputs": [],
   "source": [
    "model = torch.load('Models/torch_model.pth')"
   ]
  },
  {
   "cell_type": "markdown",
   "id": "a22465b9",
   "metadata": {},
   "source": [
    "## 🏁 6. Conclusion\n",
    "\n",
    "Now, you know:\n",
    "\n",
    "1. a popular deep learning framework: PyTorch,\n",
    "2. the basic building blocks of deep learning,\n",
    "3. how to load data and define a Neural Network, \n",
    "4. how to train and test a Neural Network using PyTorch."
   ]
  },
  {
   "cell_type": "code",
   "execution_count": null,
   "id": "af6db06d",
   "metadata": {},
   "outputs": [],
   "source": []
  }
 ],
 "metadata": {
  "kernelspec": {
   "display_name": "Python 3 (ipykernel)",
   "language": "python",
   "name": "python3"
  },
  "language_info": {
   "codemirror_mode": {
    "name": "ipython",
    "version": 3
   },
   "file_extension": ".py",
   "mimetype": "text/x-python",
   "name": "python",
   "nbconvert_exporter": "python",
   "pygments_lexer": "ipython3",
   "version": "3.9.6"
  }
 },
 "nbformat": 4,
 "nbformat_minor": 5
}
