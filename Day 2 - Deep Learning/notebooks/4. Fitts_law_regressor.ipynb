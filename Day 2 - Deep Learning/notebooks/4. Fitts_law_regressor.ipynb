{
 "cells": [
  {
   "cell_type": "markdown",
   "metadata": {},
   "source": [
    "![ACM SIGCHI Summer School on Computational Interaction  \n",
    "Inference, optimization and modeling for the engineering of interactive systems  \n",
    "13th June - 18th June 2022  \n",
    "Saarland University in Saarbrücken, Germany](imgs/header.png)"
   ]
  },
  {
   "cell_type": "markdown",
   "metadata": {
    "colab_type": "text",
    "id": "1DFmcMGfgO6D"
   },
   "source": [
    "# Fitts Law Regressor"
   ]
  },
  {
   "cell_type": "markdown",
   "metadata": {
    "colab_type": "text",
    "id": "e37YcDN_gXGQ"
   },
   "source": [
    "## 🔑 Introduction"
   ]
  },
  {
   "cell_type": "markdown",
   "metadata": {
    "colab_type": "text",
    "id": "Cku272TDgbfo"
   },
   "source": [
    "### 💻 Fitts's law\n",
    "\n",
    "In this exercise, we are going to use the key concept from human-interaction  theory - the [Fitts's](https://en.wikipedia.org/wiki/Fitts%27s_law) law.\n",
    "\n",
    "🤓 ~~Dry~~ theory:\n",
    "\n",
    "Fitts’ law states that the amount of time required for a person to move a pointer (e.g., mouse cursor) to a target area is a function of the distance to the target divided by the size of the target. Thus, the longer the distance and the smaller the target’s size, the longer it takes.\n",
    "\n",
    "⛔ It is important to mention that constants are always picked manually in the formula below since the problem of computing all possible combinations is [NP-hard](https://en.wikipedia.org/wiki/NP-hardness).\n",
    "\n",
    "🧐 Minute of history:\n",
    "\n",
    "In 1954, psychologist Paul Fitts, examining the human motor system, showed that the time required to move to a target depends on the distance to it, yet relates inversely to its size. By his law, fast movements and small targets result in greater error rates, due to the speed-accuracy trade-off. Although multiple variants of Fitts’ law exist, all encompass this idea."
   ]
  },
  {
   "cell_type": "markdown",
   "metadata": {
    "colab": {
     "base_uri": "https://localhost:8080/",
     "height": 483
    },
    "colab_type": "code",
    "id": "OALzG8Jwkung",
    "outputId": "91fd5a49-882a-4636-897e-b1fb847fa803"
   },
   "source": [
    "![fits formula](imgs/fits_formula.png)"
   ]
  },
  {
   "cell_type": "markdown",
   "metadata": {},
   "source": [
    "Fitts' law is applicable to rapid, pointing\n",
    "movements: the longer the distance to a target and the smaller the\n",
    "target size, the longer it takes to reach that target. To actually use\n",
    "this law in practice, HCI researchers must estimate the two constants that\n",
    "depend on the choice of input device, therefore, in this excercise will develop a\n",
    "regression model for computer mice so that they do not have to derive\n",
    "such device-dependent constants anymore.\n",
    "\n",
    "\n",
    "![Fits example](imgs/fit.png)"
   ]
  },
  {
   "cell_type": "markdown",
   "metadata": {
    "colab_type": "text",
    "id": "BSq9LDtzmp6v"
   },
   "source": [
    "## 1. Import dependencies"
   ]
  },
  {
   "cell_type": "code",
   "execution_count": 5,
   "metadata": {
    "colab": {
     "base_uri": "https://localhost:8080/",
     "height": 62
    },
    "colab_type": "code",
    "id": "4XV56xTBgg2Q",
    "outputId": "8c415a2a-1043-4dfe-f62c-6d9e1027e821"
   },
   "outputs": [],
   "source": [
    "import csv\n",
    "import numpy as np\n",
    "import pandas as pd\n",
    "from sklearn.model_selection import train_test_split\n",
    "from tensorflow.python.keras.models import Sequential\n",
    "from tensorflow.python.keras.layers import Dense\n",
    "from tensorflow.python.keras.callbacks import TensorBoard, EarlyStopping"
   ]
  },
  {
   "cell_type": "markdown",
   "metadata": {},
   "source": [
    "## 2. Load data "
   ]
  },
  {
   "cell_type": "markdown",
   "metadata": {
    "colab_type": "text",
    "id": "GMl4Ug3tm7Ad"
   },
   "source": [
    "🚩 The data contains four key features:\n",
    "* the distance between different points on the screen\n",
    "* width of the screen\n",
    "* id\n",
    "* transition time from one point to another"
   ]
  },
  {
   "cell_type": "code",
   "execution_count": 21,
   "metadata": {},
   "outputs": [
    {
     "data": {
      "text/html": [
       "<div>\n",
       "<style scoped>\n",
       "    .dataframe tbody tr th:only-of-type {\n",
       "        vertical-align: middle;\n",
       "    }\n",
       "\n",
       "    .dataframe tbody tr th {\n",
       "        vertical-align: top;\n",
       "    }\n",
       "\n",
       "    .dataframe thead th {\n",
       "        text-align: right;\n",
       "    }\n",
       "</style>\n",
       "<table border=\"1\" class=\"dataframe\">\n",
       "  <thead>\n",
       "    <tr style=\"text-align: right;\">\n",
       "      <th></th>\n",
       "      <th>distance width id time</th>\n",
       "    </tr>\n",
       "  </thead>\n",
       "  <tbody>\n",
       "    <tr>\n",
       "      <th>0</th>\n",
       "      <td>13 80 0.217230716220669 104.31569422738</td>\n",
       "    </tr>\n",
       "    <tr>\n",
       "      <th>1</th>\n",
       "      <td>67 73 0.939458458064949 196.15104242622</td>\n",
       "    </tr>\n",
       "    <tr>\n",
       "      <th>2</th>\n",
       "      <td>48 29 1.40880554556733 273.344081725751</td>\n",
       "    </tr>\n",
       "    <tr>\n",
       "      <th>3</th>\n",
       "      <td>44 9 2.55799545312089 445.222458063303</td>\n",
       "    </tr>\n",
       "    <tr>\n",
       "      <th>4</th>\n",
       "      <td>96 41 1.74048007834244 326.544789490528</td>\n",
       "    </tr>\n",
       "    <tr>\n",
       "      <th>...</th>\n",
       "      <td>...</td>\n",
       "    </tr>\n",
       "    <tr>\n",
       "      <th>495</th>\n",
       "      <td>96 41 1.74048007834244 304.099924207911</td>\n",
       "    </tr>\n",
       "    <tr>\n",
       "      <th>496</th>\n",
       "      <td>20 20 1 209.63644102588</td>\n",
       "    </tr>\n",
       "    <tr>\n",
       "      <th>497</th>\n",
       "      <td>90 46 1.56390088519333 281.754315783647</td>\n",
       "    </tr>\n",
       "    <tr>\n",
       "      <th>498</th>\n",
       "      <td>75 57 1.21150410519371 239.717689665151</td>\n",
       "    </tr>\n",
       "    <tr>\n",
       "      <th>499</th>\n",
       "      <td>46 13 2.18220333122075 392.326248102422</td>\n",
       "    </tr>\n",
       "  </tbody>\n",
       "</table>\n",
       "<p>500 rows × 1 columns</p>\n",
       "</div>"
      ],
      "text/plain": [
       "                      distance width id time\n",
       "0    13 80 0.217230716220669 104.31569422738\n",
       "1    67 73 0.939458458064949 196.15104242622\n",
       "2    48 29 1.40880554556733 273.344081725751\n",
       "3     44 9 2.55799545312089 445.222458063303\n",
       "4    96 41 1.74048007834244 326.544789490528\n",
       "..                                       ...\n",
       "495  96 41 1.74048007834244 304.099924207911\n",
       "496                  20 20 1 209.63644102588\n",
       "497  90 46 1.56390088519333 281.754315783647\n",
       "498  75 57 1.21150410519371 239.717689665151\n",
       "499  46 13 2.18220333122075 392.326248102422\n",
       "\n",
       "[500 rows x 1 columns]"
      ]
     },
     "execution_count": 21,
     "metadata": {},
     "output_type": "execute_result"
    }
   ],
   "source": [
    "df = pd.read_csv('data/fitts-gen.csv')\n",
    "df"
   ]
  },
  {
   "cell_type": "code",
   "execution_count": 12,
   "metadata": {
    "colab": {},
    "colab_type": "code",
    "id": "HS_KTVR9gkmD"
   },
   "outputs": [],
   "source": [
    "def load_dataset(filename):\n",
    "    X, y = [], []\n",
    "    with open(filename) as csv_file:\n",
    "        csv_reader = csv.DictReader(csv_file, delimiter=' ')\n",
    "        for row in csv_reader:\n",
    "            w, d, t = int(row['width']), int(row['distance']), float(row['time'])\n",
    "            X.append([w, d])\n",
    "            y.append(t)\n",
    "    X, y = np.array(X), np.array(y)\n",
    "    return X, y"
   ]
  },
  {
   "cell_type": "code",
   "execution_count": 17,
   "metadata": {},
   "outputs": [],
   "source": [
    "filename = 'data/fitts-gen.csv'\n",
    "X,y = load_dataset(filename)"
   ]
  },
  {
   "cell_type": "code",
   "execution_count": 19,
   "metadata": {},
   "outputs": [
    {
     "data": {
      "text/plain": [
       "(500, 2)"
      ]
     },
     "execution_count": 19,
     "metadata": {},
     "output_type": "execute_result"
    }
   ],
   "source": [
    "X.shape"
   ]
  },
  {
   "cell_type": "code",
   "execution_count": 20,
   "metadata": {},
   "outputs": [
    {
     "data": {
      "text/plain": [
       "(500,)"
      ]
     },
     "execution_count": 20,
     "metadata": {},
     "output_type": "execute_result"
    }
   ],
   "source": [
    "y.shape"
   ]
  },
  {
   "cell_type": "markdown",
   "metadata": {
    "colab_type": "text",
    "id": "VOIlr6i3g26n"
   },
   "source": [
    "## ⚡3. Create Model "
   ]
  },
  {
   "cell_type": "markdown",
   "metadata": {
    "colab_type": "text",
    "id": "hsmNoVKJnxCY"
   },
   "source": [
    "A neural network with a linear activation function is simply a linear regression model. It has limited power and the ability to handle complexity varying parameters of input data. It takes the inputs, multiplied by the weights for each neuron, and creates an output signal proportional to the input. In one sense, a linear function is better than a step function because it allows multiple outputs, not just yes and no.\n",
    "\n",
    "However, a linear activation function has two major problems:\n",
    "\n",
    "1. Not possible to use [backpropagation](https://en.wikipedia.org/wiki/Backpropagation)  (gradient descent) to train the model—the derivative of the function is a constant, and has no relation to the input. So it’s not possible to go back and understand which weights in the input neurons can provide a better prediction.\n",
    "  \n",
    "2. All layers of the neural network collapse into one—with linear activation functions, no matter how many layers in the neural network, the last layer will be a linear function of the first layer (because a linear combination of linear functions is still a linear function). So a linear activation function turns the neural network into just one layer.\n",
    "\n",
    "🔔You are encouraged to try another activation function.\n"
   ]
  },
  {
   "cell_type": "markdown",
   "metadata": {
    "colab_type": "text",
    "id": "wLcgXgiNpI37"
   },
   "source": [
    "Here, we use *optimizer='rmsprop'*, but you can try [more](https://keras.io/optimizers/#rmsprop) and compare the results.\n",
    "\n",
    "\n",
    "The MSE, MAE (also RMSE and R-Squared) metrics are mainly used to evaluate the prediction error rates and model performance in regression analysis.\n",
    "\n",
    "* <font color=lightgreen>MAE</font> (Mean absolute error) represents the difference between the original and predicted values extracted by averaged the absolute difference over the data set.\n",
    "\n",
    "* <font color=lightblue>MSE</font> (Mean Squared Error) represents the difference between the original and predicted values extracted by squared the average difference over the data set.\n"
   ]
  },
  {
   "cell_type": "markdown",
   "metadata": {
    "colab": {
     "base_uri": "https://localhost:8080/",
     "height": 387
    },
    "colab_type": "code",
    "id": "aYDHaVyXroEr",
    "outputId": "d770154b-7f37-47e4-b9ea-17fc95229a6c"
   },
   "source": [
    "![MAE, MSE](https://econbrowser.com/wp-content/uploads/2019/07/msemae.png')"
   ]
  },
  {
   "cell_type": "code",
   "execution_count": 23,
   "metadata": {
    "colab": {},
    "colab_type": "code",
    "id": "dAJRN2YUgsxK"
   },
   "outputs": [],
   "source": [
    "def create_model(dim):\n",
    "    model = Sequential()\n",
    "    model.add(Dense(dim, activation=\"relu\", input_dim=dim))\n",
    "    model.add(Dense(1, activation='linear'))\n",
    "    model.compile(loss='mse', optimizer='rmsprop', metrics=['mae', 'mse'])\n",
    "    return model"
   ]
  },
  {
   "cell_type": "markdown",
   "metadata": {},
   "source": [
    "## ⚡4. Model Training"
   ]
  },
  {
   "cell_type": "code",
   "execution_count": null,
   "metadata": {
    "colab": {
     "base_uri": "https://localhost:8080/",
     "height": 1000
    },
    "colab_type": "code",
    "id": "nCQFX9sDi7og",
    "outputId": "16bdebac-54df-46ab-befa-17b0340d89ce"
   },
   "outputs": [],
   "source": [
    "# Create partitions.\n",
    "X_train, X_test, y_train, y_test = train_test_split(X, y, train_size=0.8,random_state=1)\n",
    "\n",
    "# Set callbacks, for monitoring progress.\n",
    "cb_tensorboard = TensorBoard(log_dir='/tmp/fitts_logs')\n",
    "cb_earlystopping = EarlyStopping(patience=80)\n",
    "\n",
    "# Train the model.\n",
    "model = create_model(X_train.shape[1])\n",
    "print(model.summary())\n",
    "history = model.fit(\n",
    "    X_train,\n",
    "    y_train,\n",
    "    validation_data=(X_test, y_test),\n",
    "    epochs=100,\n",
    "    callbacks=[cb_tensorboard, cb_earlystopping]\n",
    ")\n",
    "\n",
    "# Evaluate the model.\n",
    "loss, mae, mse = model.evaluate(X_test, y_test)\n",
    "print('MAE: {:.2f}, MSE: {:.2f}'.format(mae, mse))\n",
    "\n",
    "# Save the model.\n",
    "model.save('Models/fitts_model.h5')\n"
   ]
  },
  {
   "cell_type": "markdown",
   "metadata": {
    "colab_type": "text",
    "id": "-gY-n_pzg-Q3"
   },
   "source": [
    "## 💎 5. Model testing\n",
    "\n",
    "<font color=green>R-Squared</font> (Coefficient of determination) represents the coefficient of how well the values fit compared to the original values. Usually, the value from 0 to 1 if there no additional constraints. The higher the value is, the better the model is. You can see an adjusted version of R-Squared in the Figure below."
   ]
  },
  {
   "cell_type": "markdown",
   "metadata": {
    "colab": {
     "base_uri": "https://localhost:8080/",
     "height": 311
    },
    "colab_type": "code",
    "id": "mNzQcZgvuBXD",
    "outputId": "ceacf93d-ee53-4e08-b0bf-486a67a2d42e"
   },
   "source": [
    "![Rsq](https://i.stack.imgur.com/xb1VY.png)"
   ]
  },
  {
   "cell_type": "markdown",
   "metadata": {
    "colab_type": "text",
    "id": "Qbl95pCsuAwG"
   },
   "source": [
    "[MinMaxScaler](https://scikit-learn.org/stable/modules/generated/sklearn.preprocessing.MinMaxScaler.html) transforms features by scaling each feature to a given range.\n",
    "\n",
    "This estimator scales and translates each feature individually such that it is in the given range on the training set, e.g. between zero and one. You will find a simple example of using this technique below."
   ]
  },
  {
   "cell_type": "code",
   "execution_count": 25,
   "metadata": {
    "colab": {},
    "colab_type": "code",
    "id": "Hfd9jpnMtd_r"
   },
   "outputs": [],
   "source": [
    "import csv\n",
    "import numpy as np\n",
    "import matplotlib.pyplot as plt\n",
    "from sklearn.model_selection import train_test_split\n",
    "from sklearn.preprocessing import MinMaxScaler\n",
    "from sklearn.metrics import r2_score\n",
    "from tensorflow.python.keras.models import load_model\n",
    "#from fitts_train import load_dataset"
   ]
  },
  {
   "cell_type": "code",
   "execution_count": 41,
   "metadata": {
    "colab": {
     "base_uri": "https://localhost:8080/",
     "height": 296
    },
    "colab_type": "code",
    "id": "IbwGLXU6k8FN",
    "outputId": "9c58bdd7-b14c-455a-a00b-b2b6c52cd7b1"
   },
   "outputs": [
    {
     "name": "stdout",
     "output_type": "stream",
     "text": [
      "R-squared: -0.16820112982755786\n"
     ]
    },
    {
     "data": {
      "image/png": "[encoded data removed]",
      "text/plain": [
       "<Figure size 432x288 with 1 Axes>"
      ]
     },
     "metadata": {
      "needs_background": "light"
     },
     "output_type": "display_data"
    }
   ],
   "source": [
    "dataset_file = 'data/fitts-gen.csv'\n",
    "X, y = load_dataset(dataset_file)\n",
    "\n",
    "# Create partitions.\n",
    "X_train, X_test, y_train, y_test = train_test_split(X, y, train_size=0.8)\n",
    "\n",
    "model = load_model('fitts_model.h5', compile=False)\n",
    "y_pred = model.predict(X_test)\n",
    "\n",
    "# Evaluate the quality of the fit.\n",
    "print('R-squared:', r2_score(y_test, y_pred))\n",
    "\n",
    "# Plot predictions against ground-truth.\n",
    "plt.xlabel('True values')\n",
    "plt.ylabel('Predictions')\n",
    "plt.axis('square')\n",
    "# Add some padding to the plot so that all the data can fit in well.\n",
    "max_val = 1.1 * max(y_test.max(), y_pred.max())\n",
    "plt.xlim([0, max_val])\n",
    "plt.ylim([0, max_val])\n",
    "# Add a diagonal line to appreciate better the predictions.\n",
    "plt.plot([0, max_val], [0, max_val], color='gray')\n",
    "plt.scatter(y_test, y_pred)\n",
    "# Save as PNG file and display plot.\n",
    "plt.savefig('Models/fitts.png')\n",
    "plt.show()"
   ]
  },
  {
   "cell_type": "markdown",
   "metadata": {
    "colab_type": "text",
    "id": "_Gsdpb96yzMJ"
   },
   "source": [
    "🆘 As you can see R-Squared is negative. You might wonder at this point, how it can be negative?\n",
    "\n",
    "In fact, R-Squared compares the fit of the chosen model with that of a horizontal straight line (the null hypothesis). If the chosen model fits worse than a horizontal line, then R-Squared is negative. Note that R-Squared is not always the square of anything, so it can have a negative value without violating any rules of math. R-Squared is negative only when the chosen model does not follow the trend of the data, so fits worse than a horizontal line.\n",
    "\n",
    "💡 To sum up, a <font color=red>negative R-Squared</font> is not a mathematical impossibility or the sign of a bug. It simply means that the chosen model (with its constraints) fits the data really poorly."
   ]
  },
  {
   "cell_type": "markdown",
   "metadata": {
    "colab_type": "text",
    "id": "UAS-CpF5iLoa"
   },
   "source": [
    "## 🏁 6. Conclusion\n",
    "\n",
    "Now, you know:\n",
    "\n",
    "1.   How to apply linear model according to Fitt's law.\n",
    "2.   How to scale the data using MinMaxScaler from Sk-learn.\n",
    "3.   How to use different regression metrics and how to interpret them.\n",
    "3.   How to work with different parameters of the model.\n",
    "\n"
   ]
  },
  {
   "cell_type": "code",
   "execution_count": null,
   "metadata": {},
   "outputs": [],
   "source": []
  }
 ],
 "metadata": {
  "accelerator": "GPU",
  "colab": {
   "name": "Fitts_exercise.ipynb",
   "provenance": []
  },
  "kernelspec": {
   "display_name": "Python 3 (ipykernel)",
   "language": "python",
   "name": "python3"
  },
  "language_info": {
   "codemirror_mode": {
    "name": "ipython",
    "version": 3
   },
   "file_extension": ".py",
   "mimetype": "text/x-python",
   "name": "python",
   "nbconvert_exporter": "python",
   "pygments_lexer": "ipython3",
   "version": "3.9.6"
  }
 },
 "nbformat": 4,
 "nbformat_minor": 1
}
