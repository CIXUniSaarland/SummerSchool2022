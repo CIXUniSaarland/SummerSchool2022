{
 "cells": [
  {
   "cell_type": "markdown",
   "id": "unavailable-light",
   "metadata": {},
   "source": [
    "## Visualise the model's behaviour\n",
    "Andrew Howes & Xiuli Chen"
   ]
  },
  {
   "cell_type": "code",
   "execution_count": null,
   "id": "understood-constitution",
   "metadata": {},
   "outputs": [],
   "source": [
    "# Install baselines3\n",
    "# Only needs to be run once\n",
    "\n",
    "#!pip install stable_baselines3"
   ]
  },
  {
   "cell_type": "code",
   "execution_count": null,
   "id": "forbidden-solution",
   "metadata": {},
   "outputs": [],
   "source": [
    "# This cell only for users of Google Colab.\n",
    "# No need to run this if you are using Jupyter notebooks\n",
    "# Mount Google drive and change directory into the project folder\n",
    "# Only needs to be run once\n",
    "\n",
    "#from google.colab import drive\n",
    "#drive.mount('/content/drive')\n",
    "\n",
    "#%cd '/content/drive/MyDrive/CHI22CMT/CHI22_CogMod_Tutorial/03-Reinforcement-Learning/034_Gaze_based_Interaction'"
   ]
  },
  {
   "cell_type": "code",
   "execution_count": null,
   "id": "auburn-journalism",
   "metadata": {
    "scrolled": false
   },
   "outputs": [],
   "source": [
    "import numpy as np\n",
    "import math\n",
    "import matplotlib.pyplot as plt\n",
    "\n",
    "import gym\n",
    "from gym import spaces\n",
    "\n",
    "import matplotlib as mpl\n",
    "%matplotlib inline\n",
    "mpl.style.use('ggplot')\n",
    "\n",
    "from gazetools import *"
   ]
  },
  {
   "cell_type": "code",
   "execution_count": null,
   "id": "periodic-ferry",
   "metadata": {
    "scrolled": false
   },
   "outputs": [],
   "source": [
    "data = pd.read_csv('output/behaviour_trace.csv')\n",
    "\n",
    "print(data.head())\n",
    "\n",
    "animate_multiple_episodes(data, n=30)\n",
    "\n",
    "# note that you may need to turn scrolling off to get the animation to work properly. \n",
    "# In Jupyter this can be done with 'toggle scrolling' in the Cell menu."
   ]
  },
  {
   "cell_type": "markdown",
   "id": "invalid-renaissance",
   "metadata": {},
   "source": [
    "### Exercises\n",
    "\n",
    "* Explain why multiple fixations are needed even in the optimal solution.\n",
    "* Why does the initial saccade move to the centre of the distribution of targets even before the target is available?\n",
    "* Does the learned strategy appear to 'undershoot' or 'oversshoot' the target? Why?\n",
    "* Show that the model's behaviour corresponds to human data.\n",
    "* How could we determine a human-like reward function?\n",
    "* Implement jitter and dwell time. How does the model adapt?\n"
   ]
  }
 ],
 "metadata": {
  "kernelspec": {
   "display_name": "Python 3",
   "language": "python",
   "name": "python3"
  },
  "language_info": {
   "codemirror_mode": {
    "name": "ipython",
    "version": 3
   },
   "file_extension": ".py",
   "mimetype": "text/x-python",
   "name": "python",
   "nbconvert_exporter": "python",
   "pygments_lexer": "ipython3",
   "version": "3.8.8"
  }
 },
 "nbformat": 4,
 "nbformat_minor": 5
}
