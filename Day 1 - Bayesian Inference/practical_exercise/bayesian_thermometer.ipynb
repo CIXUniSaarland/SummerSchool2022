{
 "cells": [
  {
   "cell_type": "code",
   "execution_count": null,
   "metadata": {},
   "outputs": [],
   "source": [
    "import pandas as pd \n",
    "import numpy as np\n",
    "import scipy.stats as ss\n",
    "import time\n",
    "\n",
    "import matplotlib as mpl\n",
    "import matplotlib.pyplot as plt\n",
    "import numpy as np\n",
    "from IPython.display import display\n",
    "# set some styling defaults for matplotlib\n",
    "plt.style.use(\"seaborn-talk\")\n",
    "mpl.rcParams[\"figure.dpi\"] = 90  # change this to set apparent figure size\n",
    "mpl.rcParams[\"figure.figsize\"] = (10, 4)\n",
    "mpl.rcParams[\"figure.frameon\"] = False\n",
    "\n",
    "# set decimal precision to 3 dec. places\n",
    "%precision 3\n",
    "\n"
   ]
  },
  {
   "cell_type": "markdown",
   "metadata": {},
   "source": [
    "### Data generating process\n",
    "\n",
    "We have a data generating process for the thermometer. We can both sample from it, and compute the likelihood of observations. \n",
    "\n",
    "The following functions take these parameters:\n",
    "* `real_temp` the real temperature at the probe location [unknown]\n",
    "* `init_temp` room temperature (assumed known=20)\n",
    "* `watch_time` the time since the probe was inserted (known)\n",
    "* `k` the smoothing of the temperature sensor [known]\n",
    "\n"
   ]
  },
  {
   "cell_type": "code",
   "execution_count": null,
   "metadata": {},
   "outputs": [],
   "source": [
    "from temperature import noise_latency\n",
    "\n",
    "def thermometer_sample(real_temp, init_temp, watch_time, k):\n",
    "    noise_level, beta = noise_latency(k)    \n",
    "    temp = real_temp + (init_temp - real_temp) * np.exp(-beta * watch_time)\n",
    "    return temp + np.random.normal(0, noise_level, temp.shape)\n",
    "    \n",
    "\n",
    "def thermometer_llik(real_temp, init_temp, watch_time, k, t):\n",
    "    noise_level, beta = noise_latency(k)    \n",
    "    temp = real_temp + (init_temp - real_temp) * np.exp(-beta * watch_time)\n",
    "    return ss.norm(temp, noise_level).logpdf(t)\n",
    "\n",
    "thermometer_llik(200, 20, 5, 10, 120)\n"
   ]
  },
  {
   "cell_type": "code",
   "execution_count": null,
   "metadata": {},
   "outputs": [],
   "source": [
    "%load_ext autoreload\n",
    "%autoreload 2\n"
   ]
  },
  {
   "cell_type": "code",
   "execution_count": null,
   "metadata": {},
   "outputs": [],
   "source": [
    "from temperature import create_game_ui\n",
    "create_game_ui()"
   ]
  },
  {
   "cell_type": "code",
   "execution_count": null,
   "metadata": {},
   "outputs": [],
   "source": [
    "from temperature import thermometer, food_model, meat_temps\n",
    "\n",
    "\n",
    "\n",
    "watch_time = np.linspace(0, 1.0, 100)\n",
    "fig, ax = plt.subplots()\n",
    "for k in [10,9,8,7,6,5,4,3,2,1]:\n",
    "    noise, beta = noise_latency(k)\n",
    "    temps = thermometer(100, 20, watch_time, noise_level=noise, beta=beta)\n",
    "    ax.scatter(watch_time*60, temps, label=str(k))\n",
    "ax.legend()"
   ]
  },
  {
   "cell_type": "code",
   "execution_count": null,
   "metadata": {},
   "outputs": [],
   "source": [
    "def game():\n",
    "    chilled = random.choice([\"room temperature\", \"chilled\", \"frozen\"])\n",
    "    init_temps = {\"room temperature\":20, \"chilled\":4, \"frozen\":-27}\n",
    "    init_temp = init_temps[chilled]\n",
    "    density = 0.9\n",
    "    heat_capacity = 0.01\n",
    "    oven_temp = np.random.randint(0, 5) * 10 + 150\n",
    "    meat = random.choice(list(meat_temps.keys()))\n",
    "    mass = get_mass(radius, density)\n",
    "    print(f\"You are cooking {mass/1000:.1f}kg of {meat} in an oven at {oven_temp}C\")\n",
    "    for i in range(100):\n",
    "        print(f\"Time = {i} minutes\")\n",
    "        t = thermometer_model(radius, radius, room_temp, i, oven_temp, 1000.0, density, heat_capacity, 0.0)\n",
    "        print(f\"True internal temperature = {t:.0f}C\")\n",
    "        t = thermometer_model(radius, 0, room_temp, i, oven_temp, 1000.0, density, heat_capacity, 0.0)\n",
    "        print(f\"True surface temperature = {t:.0f}C\")\n",
    "        t = thermometer_model(radius, radius/2, room_temp, i, oven_temp, 0.5, density, heat_capacity, 0.1)\n",
    "        print(f\"Thermometer temperature at half-way = {t:.0f}C\")\n",
    "        \n"
   ]
  },
  {
   "cell_type": "code",
   "execution_count": null,
   "metadata": {},
   "outputs": [],
   "source": []
  }
 ],
 "metadata": {
  "interpreter": {
   "hash": "2eddf4f4d750c89334ec483a20beff3a977ef7807bc2815549a2bacb7799a306"
  },
  "kernelspec": {
   "display_name": "Python 3 (ipykernel)",
   "language": "python",
   "name": "python3"
  },
  "language_info": {
   "codemirror_mode": {
    "name": "ipython",
    "version": 3
   },
   "file_extension": ".py",
   "mimetype": "text/x-python",
   "name": "python",
   "nbconvert_exporter": "python",
   "pygments_lexer": "ipython3",
   "version": "3.9.7"
  },
  "toc": {
   "base_numbering": 1,
   "nav_menu": {},
   "number_sections": true,
   "sideBar": true,
   "skip_h1_title": false,
   "title_cell": "Table of Contents",
   "title_sidebar": "Contents",
   "toc_cell": false,
   "toc_position": {},
   "toc_section_display": true,
   "toc_window_display": false
  },
  "varInspector": {
   "cols": {
    "lenName": 16,
    "lenType": 16,
    "lenVar": 40
   },
   "kernels_config": {
    "python": {
     "delete_cmd_postfix": "",
     "delete_cmd_prefix": "del ",
     "library": "var_list.py",
     "varRefreshCmd": "print(var_dic_list())"
    },
    "r": {
     "delete_cmd_postfix": ") ",
     "delete_cmd_prefix": "rm(",
     "library": "var_list.r",
     "varRefreshCmd": "cat(var_dic_list()) "
    }
   },
   "types_to_exclude": [
    "module",
    "function",
    "builtin_function_or_method",
    "instance",
    "_Feature"
   ],
   "window_display": false
  }
 },
 "nbformat": 4,
 "nbformat_minor": 2
}
