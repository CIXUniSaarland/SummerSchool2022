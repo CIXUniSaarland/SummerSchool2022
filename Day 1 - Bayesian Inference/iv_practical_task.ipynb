{
 "cells": [
  {
   "cell_type": "markdown",
   "metadata": {},
   "source": [
    "# Practical task: Bayesian product design\n",
    "\n",
    "https://app.sli.do/event/rDUA5XYTvm9RmYtLHAQit9\n",
    "\n",
    "## What's the goal?\n",
    "\n",
    "### A Bayesian food thermometer\n",
    "\n",
    "<img src=\"imgs/grill.jpg\" width=\"70%\">\n",
    "\n",
    "**[Image by Ahmed Ardity: https://pixabay.com/photos/food-temperature-safety-hot-cook-5053725/]**\n",
    "\n",
    "We'll explore how Bayesian ideas could be used in product design for everyday devices. We'll build a **Bayesian meat thermometer** (or food thermometer, if you are vegetarian).\n",
    "\n",
    "Meat thermometers are essential tools in correctly cooking meats and fish (they're also essential for making candy). They are especially useful with unpredictable heating sources like barbecues. It's dangerous to eat undercooked food, and some foods (like shellfish) become unpleasant rapidly if overcooked. Chefs use thermometers to ensure their food is safe and tasty.\n",
    "\n",
    "### The problem\n",
    "\n",
    "<img src=\"imgs/thermometer_meat.png\" width=\"65%\">\n",
    "\n",
    "What we want to know is how well cooked the food is (the hidden state). What we observe is a digitised voltage from a temperature sensor. Unfortunately, we bought cheap temperature sensors, which are slow to react and quite noisy. Standard thermometers just display a calibrated version of the sensor voltage on an LCD: the raw sensor value. \n",
    "\n",
    "Problems:\n",
    "\n",
    "* It takes quite some time for the temperature reading to stabilise\n",
    "* The readings aren't accurate (mis-calibration) or precise (noise).\n",
    "* We don't know how far into the food the thermometer has been pushed. Deeper regions are likely to be less cooked.\n",
    "* The true temperature is continuously changing\n",
    "* We want a goodness of cooking, not a temperature\n",
    "\n",
    "> Caveat: We don't really need a Bayesian meat thermometer -- careful use of a standard thermometer works just fine. But we'll explore how Bayesian representations could be used in a product like this.\n",
    "\n",
    "<img src=\"imgs/temperature_problem.png\" width=\"95%\">\n",
    "\n",
    "### The steps\n",
    "We'll look at three aspects of this design in the next hour. In Part I, you'll apply Bayesian optimisation to select a smoothing parameter for the temperature sensor. In Part II, you'll perform Bayesian inference to infer the cookedness, and display it to the user. In Part III, you'll analyse how well you did in a Bayesian analysis.\n",
    "\n",
    "## How should you approach this?\n",
    "\n",
    "* Work in teams\n",
    "* There's a skeleton *non-Bayesian* meat thermometer working and implemented\n",
    "* There are helper functions that can be plugged in to add Bayesian super powers\n",
    "\n",
    "### Thermometer simulator\n",
    "\n",
    "### Controls\n",
    "* When you use the thermometer, you have the following controls:\n",
    "\n",
    "    * **Cook 30, 10, 5, 1**: cook the food for another 30, 10, 5 or 1 minutes\n",
    "    * **In**: move the thermometer in a bit\n",
    "    * **Out**: move the thermometer out a bit    \n",
    "    * **Serve**: take the food and out and serve it\n",
    "    \n",
    "* The display updates continuously.\n",
    "\n",
    "### Cookedness\n",
    "<img src=\"imgs/chicken_curve.png\">\n",
    "\n",
    "### Metrics\n",
    "The metric is the best cooked food with the least time spent looking at the display. The cookedness will automatically be computed for you. You'll get a single overall score that combines time and cookedness.\n",
    "\n",
    "## First steps\n",
    "\n",
    "Open the **[exercise_notebook](practical_exercise/bayesian_thermometer.ipynb)**.\n",
    "\n",
    "### Establishing a baseline\n",
    "Use the baseline thermometer, and cook five dishes each. Your scores will be recorded for you. Note: dishes are not always the same!\n",
    "\n",
    "### Planning your time\n",
    "\n",
    "## Part I: optimising the sensor\n",
    "\n",
    "## Part II: Bayesian interaction and display\n",
    "\n",
    "## Part III: Bayesian analysis\n",
    "\n",
    "\n",
    "\n",
    "\n"
   ]
  }
 ],
 "metadata": {
  "kernelspec": {
   "display_name": "Python 3 (ipykernel)",
   "language": "python",
   "name": "python3"
  },
  "language_info": {
   "codemirror_mode": {
    "name": "ipython",
    "version": 3
   },
   "file_extension": ".py",
   "mimetype": "text/x-python",
   "name": "python",
   "nbconvert_exporter": "python",
   "pygments_lexer": "ipython3",
   "version": "3.9.7"
  },
  "toc": {
   "base_numbering": 1,
   "nav_menu": {},
   "number_sections": true,
   "sideBar": true,
   "skip_h1_title": false,
   "title_cell": "Table of Contents",
   "title_sidebar": "Contents",
   "toc_cell": false,
   "toc_position": {},
   "toc_section_display": true,
   "toc_window_display": false
  },
  "varInspector": {
   "cols": {
    "lenName": 16,
    "lenType": 16,
    "lenVar": 40
   },
   "kernels_config": {
    "python": {
     "delete_cmd_postfix": "",
     "delete_cmd_prefix": "del ",
     "library": "var_list.py",
     "varRefreshCmd": "print(var_dic_list())"
    },
    "r": {
     "delete_cmd_postfix": ") ",
     "delete_cmd_prefix": "rm(",
     "library": "var_list.r",
     "varRefreshCmd": "cat(var_dic_list()) "
    }
   },
   "types_to_exclude": [
    "module",
    "function",
    "builtin_function_or_method",
    "instance",
    "_Feature"
   ],
   "window_display": false
  }
 },
 "nbformat": 4,
 "nbformat_minor": 2
}
