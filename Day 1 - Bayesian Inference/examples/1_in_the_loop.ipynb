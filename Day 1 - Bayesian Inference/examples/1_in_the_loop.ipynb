{
 "cells": [
  {
   "cell_type": "code",
   "execution_count": 1,
   "metadata": {
    "ExecuteTime": {
     "end_time": "2022-06-13T13:18:27.870681Z",
     "start_time": "2022-06-13T13:18:26.195904Z"
    }
   },
   "outputs": [
    {
     "data": {
      "text/plain": [
       "'%.3f'"
      ]
     },
     "execution_count": 1,
     "metadata": {},
     "output_type": "execute_result"
    }
   ],
   "source": [
    "import pandas as pd \n",
    "import numpy as np\n",
    "import scipy.stats as ss\n",
    "import time\n",
    "\n",
    "import matplotlib as mpl\n",
    "import matplotlib.pyplot as plt\n",
    "import numpy as np\n",
    "from IPython.display import display\n",
    "# set some styling defaults for matplotlib\n",
    "plt.style.use(\"seaborn-talk\")\n",
    "mpl.rcParams[\"figure.dpi\"] = 90  # change this to set apparent figure size\n",
    "mpl.rcParams[\"figure.figsize\"] = (7, 3)\n",
    "mpl.rcParams[\"figure.frameon\"] = False\n",
    "\n",
    "# set decimal precision to 3 dec. places\n",
    "%precision 3"
   ]
  },
  {
   "cell_type": "code",
   "execution_count": 2,
   "metadata": {
    "ExecuteTime": {
     "end_time": "2022-06-13T13:18:30.440520Z",
     "start_time": "2022-06-13T13:18:30.425523Z"
    }
   },
   "outputs": [],
   "source": [
    "#%pip install pfilter\n",
    "#%pip install ipycanvas\n",
    "# uncomment and run the above if you don't have pfilter and/or ipycanvas installed"
   ]
  },
  {
   "cell_type": "code",
   "execution_count": 4,
   "metadata": {
    "ExecuteTime": {
     "end_time": "2022-06-13T13:23:22.841283Z",
     "start_time": "2022-06-13T13:23:22.754284Z"
    }
   },
   "outputs": [],
   "source": [
    "from pfilter import ParticleFilter, gaussian_noise, squared_error, independent_sample\n",
    "from scipy.stats import norm, gamma, uniform \n",
    "from particle_tools import FilterCanvas\n"
   ]
  },
  {
   "cell_type": "markdown",
   "metadata": {},
   "source": [
    "# Example 1: probabilistic filters\n",
    "\n",
    "## Outcomes\n",
    "You will understand:\n",
    "* How probabilistic filtering works\n",
    "* How to implement basic probabilistic filters\n",
    "* How filtering can be used to extract hidden states\n",
    "* How to integrate a particle filter into an interactive system\n",
    "\n",
    "    "
   ]
  },
  {
   "cell_type": "markdown",
   "metadata": {},
   "source": [
    "\n",
    "## Goal\n",
    "* Estimate a hidden state in a continuous process from a stream of observations.\n",
    "* Be able to deal with missing or noisy observations.\n",
    "* Be able to project forward into the future as needed.\n",
    "* Be able to quantify uncertainty and the expected value of possible states.\n",
    "\n",
    "## Task\n",
    "We'll build a simple \"swipe\" gesture recogniser. This is intended to recognise a swipe-left or swipe-right movement. Obviously, this is a relatively simple problem to solve, but we'll see how to properly represent uncertainty when approaching it from a Bayesian perspective.\n",
    "\n",
    "<img src=\"imgs/swipe.png\" width=\"50%\">\n",
    "\n",
    "## Process\n",
    "* We build a **filter**, which in this context means a process that combines observations that occur sequentially.\n",
    "* Note: it's not really the same as a filter in the sense of signal processing, though the concept of processing sequential signals is the same.\n",
    "    \n",
    "* The data generating process is assumed to have some temporal coherence; predictions of the future depend on past states.\n",
    "* Typically, we make a *Markov assumption*: that the current unobserved state encodes everything we know about the next state.\n",
    "    \n",
    "### Predictor-corrector\n",
    "\n",
    "The concept is simple: we first build a model that just predicts what we think might be going on -- a pure simulator. Then we can take observations and use them to \"filter out\" predictions that are unrealistic given those observations. This is formulated as a Bayesian belief update.\n",
    "\n",
    "* Prior at time t + evidence at time t -> posterior at time t\n",
    "\n",
    "$$P(X_{t+1}|Y_t, X_t) \\propto P(Y_t | X_{t+1}) P(X_{t+1})$$\n",
    "$$P(X_{t+1}|Y_t, X_t) \\propto P(Y_t | X_{t+1}) P(X_{t})$$\n",
    "\n",
    "* (we don't typically care about normalising this distribution, we just want to track *relative* likelihoods of hypotheses)\n",
    "\n",
    "<img src=\"imgs/stochastic.png\" width=\"50%\">"
   ]
  },
  {
   "cell_type": "markdown",
   "metadata": {},
   "source": [
    "## Package: `pfilter`\n",
    "\n",
    "We'll use the `pfilter` package for this example. This implements a simple interface to a particle filter. *Caveat: I wrote `pfilter`, so my definition of simple may not be everyone's!*\n",
    "\n",
    "### Particle filter\n",
    "A particle filter just represents the current posterior distribution as a collection of samples (definite estimates) and updates them given evidence observed, and a forward model of what evidence *would be expected* for any given sample. It operates in discrete time, feeding the posterior from one step as the prior from the next.\n",
    "\n",
    "We can include dynamics, which specify how the unknown state is believed to be changing over time. Usually, these are *stochastic* dynamics -- they add some diffusion or noise to accommodate the inexact dynamics we implement.\n",
    "\n",
    "Likelihood is implemented by *weighting* samples according to how similar their hypothesised observations are to the true observation. This gives a pseudo-likelihood that is easy to apply.\n",
    "\n",
    "This is a sequential Monte Carlo: we push forward a block of samples through some expected dynamics, compare them to an observation, and reproduce those samples that best approximate the current observation: predict-correct.\n",
    "\n"
   ]
  },
  {
   "cell_type": "markdown",
   "metadata": {},
   "source": [
    "## Setup\n",
    "\n",
    "### Latent variables\n",
    "\n",
    "We need define the variables we want to infer; we'll form distributions over these. We'll stick to a very simple model, which has three variables:\n",
    "\n",
    "* `direction`: + or - for left or right swipe\n",
    "* `phase`: the proportion through the swipe, as a number from 0->1\n",
    "* `phase_rate`: the current rate of movement through the swipe, as a number from 0->1\n",
    "\n",
    "From this, we'll compute a distribution over whether or not a gesture is completed, which we can use to trigger actions. We'll do this by computing the how much evidence there is that the user is at the end of a swipe, with a consistent direction."
   ]
  },
  {
   "cell_type": "markdown",
   "metadata": {},
   "source": [
    "### Initial priors for time t=0\n",
    "We need to set prior distributions on these variables at time t=0. We'll assume we can equally likely be going left or right, and that swipes  start at the beginning (phase close to 0) and have some variable possible rates.\n",
    "\n",
    "* direction: uniform -1, 1\n",
    "* phase: uniform 0, 0.2 (could start just a bit through a swipe)\n",
    "* phase_rate: normal 1, 0.5 (going at a steady rate, with some variation)"
   ]
  },
  {
   "cell_type": "code",
   "execution_count": 5,
   "metadata": {
    "ExecuteTime": {
     "end_time": "2022-06-13T13:23:23.998049Z",
     "start_time": "2022-06-13T13:23:23.963051Z"
    }
   },
   "outputs": [
    {
     "data": {
      "text/plain": [
       "array([[-0.042,  0.024,  0.981],\n",
       "       [-0.266,  0.164,  1.041],\n",
       "       [ 0.364,  0.186,  1.119],\n",
       "       [ 0.129,  0.187,  0.787],\n",
       "       [-0.614,  0.02 ,  0.88 ],\n",
       "       [-0.277,  0.157,  0.943],\n",
       "       [ 0.679,  0.177,  0.714],\n",
       "       [-0.231,  0.023,  0.995],\n",
       "       [-0.863,  0.071,  0.633],\n",
       "       [ 0.929,  0.063,  0.582]])"
      ]
     },
     "execution_count": 5,
     "metadata": {},
     "output_type": "execute_result"
    }
   ],
   "source": [
    "columns = [\"direction\", \"phase\", \"phase_rate\"]\n",
    "\n",
    "# some basic guesses for how these variables might start out\n",
    "# note: direction is actually -1, 0 or 1, but I've used a continuous\n",
    "# distribution just to make things a bit easier\n",
    "prior_fn = independent_sample([uniform(loc=-1, scale=2).rvs, \n",
    "                                uniform(loc=0.0, scale=0.2).rvs, \n",
    "                                norm(loc=1,scale=0.25).rvs])\n",
    "                               \n",
    "prior_fn(10)\n"
   ]
  },
  {
   "cell_type": "markdown",
   "metadata": {},
   "source": [
    "### Dynamic model\n",
    "Our filter is applied to a *process* that unfolds over time. The previous timestep posterior is used as the prior for the next timestep. Because we can *predict* what will happen, we can push this posterior through some dynamics to make a better prior for the next timestep.\n",
    "\n",
    "Now we need a model of what would happen in the future *if we had no information about what the user was doing* -- that is, a pure forward simulator. We'll assume that a gesture that is active will continue in the direction it was going, at the same phase rate."
   ]
  },
  {
   "cell_type": "code",
   "execution_count": 6,
   "metadata": {
    "ExecuteTime": {
     "end_time": "2022-06-13T13:24:02.225320Z",
     "start_time": "2022-06-13T13:24:02.205322Z"
    }
   },
   "outputs": [],
   "source": [
    "def dynamics(x):\n",
    "    dt = 0.05\n",
    "    # phase += direction * phase_rate    \n",
    "    x[:,1] = np.tanh(x[:,1] + x[:,2] * dt)\n",
    "    return x"
   ]
  },
  {
   "cell_type": "code",
   "execution_count": 7,
   "metadata": {
    "ExecuteTime": {
     "end_time": "2022-06-13T13:24:11.287293Z",
     "start_time": "2022-06-13T13:24:11.268296Z"
    }
   },
   "outputs": [
    {
     "data": {
      "text/plain": [
       "array([[ 0.657,  0.151,  0.997],\n",
       "       [ 0.187,  0.232,  0.97 ],\n",
       "       [-0.632,  0.063,  1.135],\n",
       "       [-0.933,  0.177,  0.778],\n",
       "       [ 0.622,  0.142,  0.964],\n",
       "       [ 0.919,  0.231,  1.01 ],\n",
       "       [ 0.092,  0.128,  0.745],\n",
       "       [-0.9  ,  0.134,  1.041],\n",
       "       [-0.675,  0.062,  0.949],\n",
       "       [-0.678,  0.141,  0.923]])"
      ]
     },
     "execution_count": 7,
     "metadata": {},
     "output_type": "execute_result"
    }
   ],
   "source": [
    "dynamics(prior_fn(10)) # moves forward one timestep"
   ]
  },
  {
   "cell_type": "code",
   "execution_count": 8,
   "metadata": {
    "ExecuteTime": {
     "end_time": "2022-06-13T13:24:14.652652Z",
     "start_time": "2022-06-13T13:24:14.562655Z"
    }
   },
   "outputs": [],
   "source": [
    "%load_ext autoreload\n",
    "%autoreload 2"
   ]
  },
  {
   "cell_type": "code",
   "execution_count": 9,
   "metadata": {
    "ExecuteTime": {
     "end_time": "2022-06-13T13:24:17.355270Z",
     "start_time": "2022-06-13T13:24:17.256270Z"
    }
   },
   "outputs": [
    {
     "data": {
      "application/vnd.jupyter.widget-view+json": {
       "model_id": "02a27a1dd5244bd58d9d2eec11a7e51d",
       "version_major": 2,
       "version_minor": 0
      },
      "text/plain": [
       "Label(value='')"
      ]
     },
     "metadata": {},
     "output_type": "display_data"
    },
    {
     "data": {
      "application/vnd.jupyter.widget-view+json": {
       "model_id": "a4c25a303d2848ccaa31be1f86645335",
       "version_major": 2,
       "version_minor": 0
      },
      "text/plain": [
       "Button(icon='stop', style=ButtonStyle())"
      ]
     },
     "metadata": {},
     "output_type": "display_data"
    },
    {
     "data": {
      "application/vnd.jupyter.widget-view+json": {
       "model_id": "17188aa772874b969a2e2fd71e53bf29",
       "version_major": 2,
       "version_minor": 0
      },
      "text/plain": [
       "Output()"
      ]
     },
     "metadata": {},
     "output_type": "display_data"
    },
    {
     "data": {
      "application/vnd.jupyter.widget-view+json": {
       "model_id": "dd95288e9f374f9ca68beca8f5d84961",
       "version_major": 2,
       "version_minor": 0
      },
      "text/plain": [
       "Canvas(width=800)"
      ]
     },
     "metadata": {},
     "output_type": "display_data"
    }
   ],
   "source": [
    "pf = ParticleFilter(prior_fn=prior_fn, n_particles=100, dynamics_fn=dynamics)        \n",
    "c = FilterCanvas(pf)\n",
    "c.draw()\n",
    "c.start()"
   ]
  },
  {
   "cell_type": "markdown",
   "metadata": {},
   "source": [
    "### Diffusion\n",
    "The dynamics we implemented are *deterministic*; they assume that, for example, an initial hypothesis that a gesture is swiping left at 10px per second will continue to behave that way in the future. Given that we know our estimation is uncertain, this is a very strong assumption. A way to ameliorate this is to introduce some **diffusion**: stochastic (random) dynamics, that cause the distribution over latent states to \"spread out\" over time. This is trivial to implement: we just add a bit of noise to each of our particles at each time step:"
   ]
  },
  {
   "cell_type": "code",
   "execution_count": 10,
   "metadata": {
    "ExecuteTime": {
     "end_time": "2022-06-13T13:25:16.153490Z",
     "start_time": "2022-06-13T13:25:16.080486Z"
    }
   },
   "outputs": [],
   "source": [
    "def noise(x):\n",
    "    return gaussian_noise(x, sigmas=[0.00, 0.02, 0.05])"
   ]
  },
  {
   "cell_type": "markdown",
   "metadata": {},
   "source": [
    "If we look at the simulation now, we can see that the particles \"wander\" rather than following straight line paths."
   ]
  },
  {
   "cell_type": "code",
   "execution_count": 11,
   "metadata": {
    "ExecuteTime": {
     "end_time": "2022-06-13T13:25:20.501868Z",
     "start_time": "2022-06-13T13:25:20.412868Z"
    }
   },
   "outputs": [
    {
     "data": {
      "application/vnd.jupyter.widget-view+json": {
       "model_id": "79e9dee22cf9471ca2278f7192e236ac",
       "version_major": 2,
       "version_minor": 0
      },
      "text/plain": [
       "Label(value='')"
      ]
     },
     "metadata": {},
     "output_type": "display_data"
    },
    {
     "data": {
      "application/vnd.jupyter.widget-view+json": {
       "model_id": "072aa31aa20441b08dc978e72925b73b",
       "version_major": 2,
       "version_minor": 0
      },
      "text/plain": [
       "Button(icon='stop', style=ButtonStyle())"
      ]
     },
     "metadata": {},
     "output_type": "display_data"
    },
    {
     "data": {
      "application/vnd.jupyter.widget-view+json": {
       "model_id": "b642410fb4b648c1b37a7c0daa95a442",
       "version_major": 2,
       "version_minor": 0
      },
      "text/plain": [
       "Output()"
      ]
     },
     "metadata": {},
     "output_type": "display_data"
    },
    {
     "data": {
      "application/vnd.jupyter.widget-view+json": {
       "model_id": "17c3a53c9e5c42f8a2f8a2d114d4559a",
       "version_major": 2,
       "version_minor": 0
      },
      "text/plain": [
       "Canvas(width=800)"
      ]
     },
     "metadata": {},
     "output_type": "display_data"
    }
   ],
   "source": [
    "pf = ParticleFilter(prior_fn=prior_fn, n_particles=100, \n",
    "                    dynamics_fn=dynamics, noise_fn=noise)        \n",
    "c = FilterCanvas(pf)\n",
    "c.draw()\n",
    "c.start()"
   ]
  },
  {
   "cell_type": "markdown",
   "metadata": {},
   "source": [
    "### Observation and likelihood\n",
    "\n",
    "So far, we have a forward model that can sample: a data generating process that behaves as we expect the hidden state to behave. We need to implement the *corrector* step, by introducing likelihood. \n",
    "\n",
    "To do this, we introduce observations, and specify a function that tells us: given a hidden (latent) state predict a *definite* hypothesised observation. We can them approximate the (relative) likelihood by comparing each hypothesised observation against the real one, and weighting the result according to how close they are.\n",
    "\n",
    "We'll assume all we can see is the mouse x position at a given instant."
   ]
  },
  {
   "cell_type": "code",
   "execution_count": 12,
   "metadata": {
    "ExecuteTime": {
     "end_time": "2022-06-13T13:26:57.880080Z",
     "start_time": "2022-06-13T13:26:57.801343Z"
    }
   },
   "outputs": [],
   "source": [
    "def observe(x):\n",
    "    # return what we *expect* to observe, given the hypotheses we have\n",
    "    direction = np.sign(np.where(np.abs(x[:,0])<0.5, 0, x[:,0]))\n",
    "    return np.where(direction==0, np.random.uniform(-1,1,direction.shape), \n",
    "                    x[:, 1] * direction)\n",
    "\n",
    "def weight(x, y):\n",
    "    return squared_error(x, y, sigma=0.1)"
   ]
  },
  {
   "cell_type": "code",
   "execution_count": 13,
   "metadata": {
    "ExecuteTime": {
     "end_time": "2022-06-13T13:26:58.700013Z",
     "start_time": "2022-06-13T13:26:58.620016Z"
    }
   },
   "outputs": [],
   "source": [
    "pf = ParticleFilter(prior_fn=prior_fn, n_particles=200, dynamics_fn=dynamics, noise_fn=noise, observe_fn=observe,\n",
    "                   weight_fn=weight, resample_proportion=0.01)  \n",
    "pf.update([0.5]) # pass an observation"
   ]
  },
  {
   "cell_type": "code",
   "execution_count": 14,
   "metadata": {
    "ExecuteTime": {
     "end_time": "2022-06-13T13:27:00.965730Z",
     "start_time": "2022-06-13T13:27:00.862733Z"
    }
   },
   "outputs": [
    {
     "data": {
      "application/vnd.jupyter.widget-view+json": {
       "model_id": "629ac249bb0546b09d7d2ce377d6214f",
       "version_major": 2,
       "version_minor": 0
      },
      "text/plain": [
       "Label(value='')"
      ]
     },
     "metadata": {},
     "output_type": "display_data"
    },
    {
     "data": {
      "application/vnd.jupyter.widget-view+json": {
       "model_id": "1cef014985f645f697fd1af7c76e7b70",
       "version_major": 2,
       "version_minor": 0
      },
      "text/plain": [
       "Button(icon='stop', style=ButtonStyle())"
      ]
     },
     "metadata": {},
     "output_type": "display_data"
    },
    {
     "data": {
      "application/vnd.jupyter.widget-view+json": {
       "model_id": "f35edd743d724f1c9a58e53da5a783c0",
       "version_major": 2,
       "version_minor": 0
      },
      "text/plain": [
       "Output()"
      ]
     },
     "metadata": {},
     "output_type": "display_data"
    },
    {
     "data": {
      "application/vnd.jupyter.widget-view+json": {
       "model_id": "7be521e7a8a24acdae5489cf011bf415",
       "version_major": 2,
       "version_minor": 0
      },
      "text/plain": [
       "Canvas(width=800)"
      ]
     },
     "metadata": {},
     "output_type": "display_data"
    }
   ],
   "source": [
    "c = FilterCanvas(pf, observing=True)\n",
    "c.draw()\n",
    "c.start()"
   ]
  },
  {
   "cell_type": "markdown",
   "metadata": {},
   "source": [
    "## Applying"
   ]
  },
  {
   "cell_type": "markdown",
   "metadata": {},
   "source": [
    "### Estimating intention and triggering actions"
   ]
  },
  {
   "cell_type": "markdown",
   "metadata": {},
   "source": [
    "Now we can track *state*; what we want to do is form a distribution over *intention*. We'll apply simple post-processing to\n",
    "the particles to estimate how likely it is we have completed a left or right swipe. We'll just count the number of particles in different states, and use the proportions as our probabilities.\n",
    "\n",
    "This will give us a distribution over `swipe` with three outcomes:\n",
    "\n",
    "* no swipe\n",
    "* left swipe\n",
    "* right swipe\n"
   ]
  },
  {
   "cell_type": "code",
   "execution_count": 15,
   "metadata": {
    "ExecuteTime": {
     "end_time": "2022-06-13T13:28:32.398768Z",
     "start_time": "2022-06-13T13:28:32.317771Z"
    }
   },
   "outputs": [],
   "source": [
    "def estimate_swipe(particles):\n",
    "    # find all particles that have finished, and separate them into left and right\n",
    "    terminated_particles = particles[(particles[:,1]>0.5)]\n",
    "    left_particles = terminated_particles[terminated_particles[:,0]<0]\n",
    "    right_particles = terminated_particles[terminated_particles[:,0]>0]\n",
    "    n_left =len(left_particles)\n",
    "    n_right = len(right_particles)\n",
    "    n_total = len(particles)\n",
    "    n_none = n_total - (n_left+n_right)    \n",
    "    \n",
    "    swipe = {\"left\":n_left/n_total,\n",
    "             \"right\":n_right/n_total,\n",
    "             \"no\":n_none/n_total}\n",
    "    return swipe\n",
    "             \n",
    "    \n",
    "    "
   ]
  },
  {
   "cell_type": "code",
   "execution_count": 16,
   "metadata": {
    "ExecuteTime": {
     "end_time": "2022-06-13T13:28:34.647025Z",
     "start_time": "2022-06-13T13:28:34.567028Z"
    }
   },
   "outputs": [
    {
     "data": {
      "text/plain": [
       "{'left': 0.235, 'right': 0.045, 'no': 0.720}"
      ]
     },
     "execution_count": 16,
     "metadata": {},
     "output_type": "execute_result"
    }
   ],
   "source": [
    "estimate_swipe(pf.particles)"
   ]
  },
  {
   "cell_type": "code",
   "execution_count": 17,
   "metadata": {
    "ExecuteTime": {
     "end_time": "2022-06-13T13:28:35.515526Z",
     "start_time": "2022-06-13T13:28:35.407527Z"
    }
   },
   "outputs": [
    {
     "data": {
      "application/vnd.jupyter.widget-view+json": {
       "model_id": "806c127fe9064fa9abf4f4893dd2872e",
       "version_major": 2,
       "version_minor": 0
      },
      "text/plain": [
       "Label(value='')"
      ]
     },
     "metadata": {},
     "output_type": "display_data"
    },
    {
     "data": {
      "application/vnd.jupyter.widget-view+json": {
       "model_id": "3e2f01bfb0574d0a87d3b77cb954ef6e",
       "version_major": 2,
       "version_minor": 0
      },
      "text/plain": [
       "Button(icon='stop', style=ButtonStyle())"
      ]
     },
     "metadata": {},
     "output_type": "display_data"
    },
    {
     "data": {
      "application/vnd.jupyter.widget-view+json": {
       "model_id": "b89cb709fb484d98bf02bda292be2458",
       "version_major": 2,
       "version_minor": 0
      },
      "text/plain": [
       "Output()"
      ]
     },
     "metadata": {},
     "output_type": "display_data"
    },
    {
     "data": {
      "application/vnd.jupyter.widget-view+json": {
       "model_id": "64a8fe9add0645bf9634b577d482fa5e",
       "version_major": 2,
       "version_minor": 0
      },
      "text/plain": [
       "Canvas(width=800)"
      ]
     },
     "metadata": {},
     "output_type": "display_data"
    }
   ],
   "source": [
    "pf = ParticleFilter(prior_fn=prior_fn, n_particles=100, dynamics_fn=dynamics, noise_fn=noise, observe_fn=observe,\n",
    "                   weight_fn=weight, resample_proportion=0.01)      \n",
    "c = FilterCanvas(pf, observing=True, estimator=estimate_swipe)\n",
    "c.draw()\n",
    "c.start()"
   ]
  },
  {
   "cell_type": "markdown",
   "metadata": {},
   "source": [
    "### Actuation\n",
    "Bayesian interface estimate *beliefs* about state as probability distributions. While this is elegant, it does pose problems when we want to actually do something. \"Doing something\" means making an irreversible change of state. This is the **barrier of action**  -- the barrier that separates movement in belief space from discrete state changes.\n",
    "\n",
    "We need to decide on a decision rule to actuate based on beliefs.\n",
    "\n",
    "The *rational* way to do this is to compute the expected value of each outcome (using some utility function to ascribe a numerical goodness to each action) and choose the action with the highest expected value. In this case, we don't have different values for our actions, so we'll just use the probabilities directly. We'll threshold on the probability of each intention state, and if there is enough evidence, we'll trigger the action."
   ]
  },
  {
   "cell_type": "code",
   "execution_count": 18,
   "metadata": {
    "ExecuteTime": {
     "end_time": "2022-06-13T13:29:46.609924Z",
     "start_time": "2022-06-13T13:29:46.531926Z"
    }
   },
   "outputs": [],
   "source": [
    "def trigger_action(swipe):\n",
    "    # we trigger on crossing a probability threshold\n",
    "    # this is not the only choice; we could e.g. use entropy \n",
    "    # to detect a certain state, and select the max. prob. result\n",
    "    p_threshold = 0.75\n",
    "    if swipe[\"left\"]>p_threshold:\n",
    "        return \"left\"\n",
    "    if swipe[\"right\"]>p_threshold:\n",
    "        return \"right\"\n",
    "    return \"no\""
   ]
  },
  {
   "cell_type": "code",
   "execution_count": 19,
   "metadata": {
    "ExecuteTime": {
     "end_time": "2022-06-13T13:29:47.128713Z",
     "start_time": "2022-06-13T13:29:47.027718Z"
    }
   },
   "outputs": [
    {
     "data": {
      "application/vnd.jupyter.widget-view+json": {
       "model_id": "83e2ccb78a0347fb81933cef967568bd",
       "version_major": 2,
       "version_minor": 0
      },
      "text/plain": [
       "Label(value='')"
      ]
     },
     "metadata": {},
     "output_type": "display_data"
    },
    {
     "data": {
      "application/vnd.jupyter.widget-view+json": {
       "model_id": "70d0e683a3e64a3fa3a2a754e1c65485",
       "version_major": 2,
       "version_minor": 0
      },
      "text/plain": [
       "Button(icon='stop', style=ButtonStyle())"
      ]
     },
     "metadata": {},
     "output_type": "display_data"
    },
    {
     "data": {
      "application/vnd.jupyter.widget-view+json": {
       "model_id": "bf2e1d1af40e4fa4ac7885eabcc5ad73",
       "version_major": 2,
       "version_minor": 0
      },
      "text/plain": [
       "Output()"
      ]
     },
     "metadata": {},
     "output_type": "display_data"
    },
    {
     "data": {
      "application/vnd.jupyter.widget-view+json": {
       "model_id": "732b394ba3ed4eda8464c8136dd69422",
       "version_major": 2,
       "version_minor": 0
      },
      "text/plain": [
       "Canvas(width=800)"
      ]
     },
     "metadata": {},
     "output_type": "display_data"
    }
   ],
   "source": [
    "pf = ParticleFilter(prior_fn=prior_fn, n_particles=200, dynamics_fn=dynamics, noise_fn=noise, observe_fn=observe,\n",
    "                   weight_fn=weight, resample_proportion=0.05)      \n",
    "c = FilterCanvas(pf, observing=True, estimator=estimate_swipe, trigger=trigger_action)\n",
    "c.draw()\n",
    "c.start()"
   ]
  },
  {
   "cell_type": "markdown",
   "metadata": {},
   "source": [
    "### Prediction\n",
    "One of the major advantages of the particle filtering approach is that we have a generative model which we can *run without data* to make predictions about the future evolution of the system. This can be used to implement **predictive interfaces** which have appropriate uncertainty.\n",
    "\n",
    "All we do is call the particle filter update but decline to provide an observations; the particles are then driven by their internal dynamics alone (like disengaging the clutch in a car and coasting along)."
   ]
  },
  {
   "cell_type": "code",
   "execution_count": 20,
   "metadata": {
    "ExecuteTime": {
     "end_time": "2022-06-13T13:30:58.580610Z",
     "start_time": "2022-06-13T13:30:58.494611Z"
    }
   },
   "outputs": [
    {
     "name": "stdout",
     "output_type": "stream",
     "text": [
      "[[-0.163  0.031  1.047]\n",
      " [-0.514  0.204  1.217]\n",
      " [-0.294  0.152  0.142]\n",
      " [ 0.96   0.242  1.119]\n",
      " [ 0.072  0.194  0.87 ]\n",
      " [-0.86   0.272  1.118]\n",
      " [-0.54   0.501  0.98 ]\n",
      " [-0.902  0.364  0.334]\n",
      " [ 0.625  0.623  2.008]\n",
      " [ 0.732  0.592  1.709]\n",
      " [ 0.142  0.446  0.802]\n",
      " [ 0.069  0.469  0.787]\n",
      " [-0.405  0.357  1.148]\n",
      " [-0.217  0.293  1.126]\n",
      " [ 0.978  0.411  0.794]\n",
      " [-0.103  0.153  1.187]\n",
      " [-0.99   0.281  0.735]\n",
      " [-0.129  0.535  1.033]\n",
      " [-0.351  0.52   0.977]\n",
      " [ 0.3    0.4    0.695]\n",
      " [-0.51   0.458  0.699]\n",
      " [-0.365  0.447  1.013]\n",
      " [ 0.005  0.33   0.654]\n",
      " [-0.985  0.181  0.612]\n",
      " [-0.989  0.207  0.802]\n",
      " [-0.273  0.507  1.06 ]\n",
      " [-0.306  0.305  1.491]\n",
      " [-0.235  0.289  0.966]\n",
      " [-0.449  0.109  0.851]\n",
      " [-0.179  0.237  1.131]\n",
      " [ 0.687  0.376  1.078]\n",
      " [ 0.674  0.532  1.347]\n",
      " [ 0.964  0.372  0.883]\n",
      " [-0.88   0.298  0.895]\n",
      " [ 0.791  0.289  1.119]\n",
      " [ 0.228  0.443  1.416]\n",
      " [ 0.619  0.477  1.095]\n",
      " [ 0.564  0.045  1.381]\n",
      " [ 0.004  0.344  0.712]\n",
      " [ 0.67   0.344  1.324]\n",
      " [ 0.09   0.082  1.162]\n",
      " [-0.373  0.411  1.12 ]\n",
      " [-0.098  0.445  0.95 ]\n",
      " [-0.92   0.059  0.601]\n",
      " [-0.132  0.401  0.857]\n",
      " [-0.678  0.566  1.402]\n",
      " [ 0.474  0.436  0.737]\n",
      " [ 0.236  0.269  1.044]\n",
      " [-0.175  0.501  0.834]\n",
      " [ 0.528  0.15   0.954]\n",
      " [-0.281  0.351  1.1  ]\n",
      " [-0.284  0.548  1.494]\n",
      " [-0.633  0.495  1.231]\n",
      " [ 0.63   0.315  0.884]\n",
      " [-0.577  0.296  1.177]\n",
      " [-0.553  0.534  1.336]\n",
      " [-0.152  0.529  1.296]\n",
      " [ 0.875  0.369  0.993]\n",
      " [-0.359  0.133  0.994]\n",
      " [-0.966  0.397  0.936]\n",
      " [ 0.011  0.216  0.756]\n",
      " [ 0.24   0.431  0.849]\n",
      " [ 0.758  0.557  1.284]\n",
      " [-0.381  0.254  1.474]\n",
      " [ 0.542  0.385  0.472]\n",
      " [-0.991  0.542  1.347]\n",
      " [-0.812  0.323  1.384]\n",
      " [ 0.499  0.391  0.403]\n",
      " [ 0.301  0.475  0.894]\n",
      " [-0.07   0.197  1.042]\n",
      " [-0.462  0.591  1.879]\n",
      " [-0.774  0.496  0.792]\n",
      " [ 0.374  0.563  1.543]\n",
      " [ 0.97   0.239  1.302]\n",
      " [-0.95   0.304  0.706]\n",
      " [-0.31   0.467  0.826]\n",
      " [-0.476  0.493  0.937]\n",
      " [-0.823  0.203  0.929]\n",
      " [ 0.356  0.248  0.696]\n",
      " [-0.99   0.533  1.617]\n",
      " [ 0.836  0.42   0.596]\n",
      " [-0.17   0.4    0.693]\n",
      " [-0.3    0.535  1.529]\n",
      " [ 0.089  0.491  0.979]\n",
      " [ 0.749  0.532  1.369]\n",
      " [-0.076  0.519  1.426]\n",
      " [ 0.805  0.133  0.937]\n",
      " [ 0.016  0.398  1.145]\n",
      " [-0.318  0.246  1.687]\n",
      " [-0.51   0.198  0.606]\n",
      " [ 0.149  0.428  1.143]\n",
      " [-0.261  0.505  0.776]\n",
      " [ 0.153  0.295  0.515]\n",
      " [ 0.793  0.18   0.978]\n",
      " [-0.686  0.468  0.971]\n",
      " [ 0.414  0.075 -0.068]\n",
      " [-0.459  0.143  0.753]\n",
      " [-0.3    0.418  0.931]\n",
      " [ 0.52   0.381  1.175]\n",
      " [ 0.016  0.504  1.319]\n",
      " [-0.989  0.321  0.794]\n",
      " [-0.893  0.465  0.671]\n",
      " [ 0.64   0.485  0.928]\n",
      " [-0.375  0.501  1.187]\n",
      " [ 0.882  0.333  0.978]\n",
      " [ 0.734  0.547  1.117]\n",
      " [ 0.673  0.423  0.856]\n",
      " [-0.2    0.223  0.794]\n",
      " [-0.686  0.43   0.624]\n",
      " [-0.679  0.413  1.432]\n",
      " [-0.763  0.131  0.818]\n",
      " [ 0.344  0.546  1.297]\n",
      " [-0.189  0.4    0.393]\n",
      " [-0.118  0.49   1.274]\n",
      " [ 0.536  0.335  0.572]\n",
      " [-0.146  0.502  1.106]\n",
      " [-0.582  0.509  1.086]\n",
      " [-0.921  0.516  0.981]\n",
      " [ 0.95   0.545  1.312]\n",
      " [ 0.922  0.256  0.546]\n",
      " [-0.491  0.4    0.836]\n",
      " [-0.293  0.49   1.258]\n",
      " [ 0.64   0.292  0.822]\n",
      " [ 0.11   0.442  0.546]\n",
      " [ 0.987  0.448  0.714]\n",
      " [-0.991  0.525  1.352]\n",
      " [-0.059  0.404  0.536]\n",
      " [ 0.797  0.516  0.967]\n",
      " [ 0.038  0.484  0.894]\n",
      " [-0.089  0.098  1.109]\n",
      " [-0.333  0.518  1.088]\n",
      " [-0.473  0.47   1.35 ]\n",
      " [-0.788  0.551  0.908]\n",
      " [-0.739  0.257  1.435]\n",
      " [ 0.676  0.138  0.826]\n",
      " [-0.635  0.324  0.421]\n",
      " [-0.561  0.518  1.378]\n",
      " [ 0.072  0.359  1.194]\n",
      " [-0.674  0.548  1.289]\n",
      " [ 0.309  0.447  0.986]\n",
      " [ 0.584  0.038  1.15 ]\n",
      " [ 0.134  0.535  1.232]\n",
      " [ 0.717  0.474  0.903]\n",
      " [ 0.689  0.236  1.29 ]\n",
      " [ 0.573  0.454  1.09 ]\n",
      " [ 0.794  0.222  0.338]\n",
      " [ 0.548  0.583  1.949]\n",
      " [ 0.423  0.562  1.308]\n",
      " [-0.498  0.452  1.015]\n",
      " [ 0.928  0.302  0.69 ]\n",
      " [-0.705  0.388  0.48 ]\n",
      " [ 0.544  0.447  0.422]\n",
      " [-0.965  0.512  1.146]\n",
      " [-0.005  0.275  1.518]\n",
      " [-0.594  0.17   0.94 ]\n",
      " [ 0.824  0.415  1.079]\n",
      " [ 0.174  0.551  1.412]\n",
      " [ 0.149  0.374  0.569]\n",
      " [-0.079  0.432  1.048]\n",
      " [-0.853  0.105  1.082]\n",
      " [-0.977  0.547  1.239]\n",
      " [-0.345  0.5    1.084]\n",
      " [-0.9    0.541  1.147]\n",
      " [ 0.923  0.474  1.083]\n",
      " [-0.433  0.35   0.396]\n",
      " [-0.985  0.17   0.36 ]\n",
      " [-0.652  0.526  1.391]\n",
      " [-0.909  0.218  1.041]\n",
      " [ 0.837  0.464  1.37 ]\n",
      " [-0.787  0.5    0.923]\n",
      " [ 0.167  0.345  1.478]\n",
      " [ 0.04   0.539  1.225]\n",
      " [ 0.299  0.368  0.69 ]\n",
      " [-0.047  0.545  1.314]\n",
      " [ 0.828  0.522  1.068]\n",
      " [-0.78   0.156  1.508]\n",
      " [ 0.493  0.465  1.017]\n",
      " [ 0.935  0.41   0.722]\n",
      " [ 0.866  0.059  0.866]\n",
      " [-0.854  0.592  1.536]\n",
      " [ 0.552  0.094  1.068]\n",
      " [-0.219  0.33   0.865]\n",
      " [ 0.483  0.417  0.9  ]\n",
      " [-0.677  0.398  0.601]\n",
      " [-0.371  0.278  0.703]\n",
      " [ 0.887  0.551  1.178]\n",
      " [-0.868  0.114  0.649]\n",
      " [-0.335  0.512  1.27 ]\n",
      " [ 0.867  0.385  0.624]\n",
      " [ 0.349  0.181  1.141]\n",
      " [ 0.946  0.37   0.889]\n",
      " [ 0.032  0.385  0.757]\n",
      " [ 0.081  0.335  0.952]\n",
      " [ 0.949  0.408  0.828]\n",
      " [ 0.398  0.439  1.084]\n",
      " [-0.38   0.476  1.222]\n",
      " [-0.712  0.172  0.349]\n",
      " [-0.658  0.196  1.023]\n",
      " [-0.627  0.439  0.903]\n",
      " [ 0.245  0.353  1.206]]\n"
     ]
    }
   ],
   "source": [
    "# update, but don't provide observations\n",
    "pf.update()\n",
    "pf.update()\n",
    "pf.update()\n",
    "\n",
    "print(pf.particles)"
   ]
  },
  {
   "cell_type": "code",
   "execution_count": 21,
   "metadata": {
    "ExecuteTime": {
     "end_time": "2022-06-13T13:30:59.636665Z",
     "start_time": "2022-06-13T13:30:59.539663Z"
    }
   },
   "outputs": [
    {
     "data": {
      "application/vnd.jupyter.widget-view+json": {
       "model_id": "69fd3ffe7397460891184ccff9f0a5be",
       "version_major": 2,
       "version_minor": 0
      },
      "text/plain": [
       "Label(value='')"
      ]
     },
     "metadata": {},
     "output_type": "display_data"
    },
    {
     "data": {
      "application/vnd.jupyter.widget-view+json": {
       "model_id": "3a79f24e30504b468338dace9eed4812",
       "version_major": 2,
       "version_minor": 0
      },
      "text/plain": [
       "Button(icon='stop', style=ButtonStyle())"
      ]
     },
     "metadata": {},
     "output_type": "display_data"
    },
    {
     "data": {
      "application/vnd.jupyter.widget-view+json": {
       "model_id": "c04d11accb7b4740aa5719d30239d462",
       "version_major": 2,
       "version_minor": 0
      },
      "text/plain": [
       "Output()"
      ]
     },
     "metadata": {},
     "output_type": "display_data"
    },
    {
     "data": {
      "application/vnd.jupyter.widget-view+json": {
       "model_id": "ca757562129d4b648fdf3980375b9b30",
       "version_major": 2,
       "version_minor": 0
      },
      "text/plain": [
       "Canvas(width=800)"
      ]
     },
     "metadata": {},
     "output_type": "display_data"
    }
   ],
   "source": [
    "pf = ParticleFilter(prior_fn=prior_fn, n_particles=50, dynamics_fn=dynamics, noise_fn=noise, observe_fn=observe,\n",
    "                   weight_fn=weight, resample_proportion=0.01)      \n",
    "c = FilterCanvas(pf, observing=True, predict=True)\n",
    "c.draw()\n",
    "c.start()"
   ]
  },
  {
   "cell_type": "markdown",
   "metadata": {},
   "source": [
    "## Reflection\n",
    "### What did we gain?\n",
    "* We were able to track gestures even with not-very-reliable mouse input.\n",
    "* We maintained uncertainty, and could choose to actuate gestures actions when we were quantifiably sure the intention was there.\n",
    "* We could display uncertainty in estimation to the user.\n",
    "* We could also predict the future: this could be useful for display or to reduce apparent latency.\n",
    "### What was difficult?\n",
    "* The filter can be tricky to tune, particularly in weighting the hypothesised sensor values against the real ones\n",
    "* A sample based approach is easy to understand, but isn't the most efficient, and the quality of interaction depends on the sample number.\n",
    "* Any time we are dealing with uncertainty in the loop we have to find ways of reflecting that to the user -- doing so in effectively can be challenging.\n",
    "\n",
    "### What else could we do?\n",
    "* We could obviously extend this to much more complex gestures, or other input devices.\n",
    "* We could use the uncertainty more intelligently in the interaction\n",
    "* We could take better advantage of the fact we don't have to be locked to real-time"
   ]
  },
  {
   "cell_type": "code",
   "execution_count": null,
   "metadata": {},
   "outputs": [],
   "source": []
  }
 ],
 "metadata": {
  "kernelspec": {
   "display_name": "Python 3 (ipykernel)",
   "language": "python",
   "name": "python3"
  },
  "language_info": {
   "codemirror_mode": {
    "name": "ipython",
    "version": 3
   },
   "file_extension": ".py",
   "mimetype": "text/x-python",
   "name": "python",
   "nbconvert_exporter": "python",
   "pygments_lexer": "ipython3",
   "version": "3.9.12"
  },
  "toc": {
   "base_numbering": 1,
   "nav_menu": {},
   "number_sections": true,
   "sideBar": true,
   "skip_h1_title": false,
   "title_cell": "Table of Contents",
   "title_sidebar": "Contents",
   "toc_cell": false,
   "toc_position": {},
   "toc_section_display": true,
   "toc_window_display": false
  },
  "varInspector": {
   "cols": {
    "lenName": 16,
    "lenType": 16,
    "lenVar": 40
   },
   "kernels_config": {
    "python": {
     "delete_cmd_postfix": "",
     "delete_cmd_prefix": "del ",
     "library": "var_list.py",
     "varRefreshCmd": "print(var_dic_list())"
    },
    "r": {
     "delete_cmd_postfix": ") ",
     "delete_cmd_prefix": "rm(",
     "library": "var_list.r",
     "varRefreshCmd": "cat(var_dic_list()) "
    }
   },
   "types_to_exclude": [
    "module",
    "function",
    "builtin_function_or_method",
    "instance",
    "_Feature"
   ],
   "window_display": false
  }
 },
 "nbformat": 4,
 "nbformat_minor": 2
}
