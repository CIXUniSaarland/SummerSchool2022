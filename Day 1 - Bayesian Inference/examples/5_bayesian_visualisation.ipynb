{
 "cells": [
  {
   "cell_type": "code",
   "execution_count": null,
   "id": "b270487a",
   "metadata": {
    "ExecuteTime": {
     "end_time": "2022-06-10T13:17:41.610628Z",
     "start_time": "2022-06-10T13:17:41.598907Z"
    }
   },
   "outputs": [],
   "source": [
    "import pandas as pd \n",
    "import numpy as np\n",
    "import scipy.stats as ss\n",
    "import seaborn as sns\n",
    "import matplotlib as mpl\n",
    "import matplotlib.pyplot as plt\n",
    "import numpy as np\n",
    "\n",
    "# set some styling defaults for matplotlib\n",
    "plt.style.use(\"seaborn-talk\")\n",
    "mpl.rcParams[\"figure.dpi\"] = 90  # change this to set apparent figure size\n",
    "mpl.rcParams[\"figure.figsize\"] = (10, 4)\n",
    "mpl.rcParams[\"figure.frameon\"] = False\n",
    "\n",
    "%matplotlib notebook\n",
    "\n",
    "# set decimal precision to 3 dec. places\n",
    "%precision 3\n",
    "import arviz as az"
   ]
  },
  {
   "cell_type": "markdown",
   "id": "05f40900",
   "metadata": {},
   "source": [
    "# Example 5: Bayesian visualsiation\n",
    "## Outcomes\n",
    "You will know how to:\n",
    "\n",
    "* How to explore and visualise posterior distributions that result from Bayesian analysis.\n",
    "* Use basic visualisations of uncertainty to represent distributions.\n",
    "* How to apply animation in representing distributions.\n",
    "* Use interaction to explore posterior distributions by conditioning on variables."
   ]
  },
  {
   "cell_type": "markdown",
   "id": "3423ef52",
   "metadata": {},
   "source": [
    "## Goals\n",
    "\n",
    "## Task\n",
    "We will visualise the results of the hierarchical model of Fitts' law that included per-participant a,b coefficients. This is a relatively simple model, but it can still be hard to understand the implications of the posterior distribution that results from a Bayesian analysis. This is because the joint posterior distribution has many dimensions, and they may not be independent of each other (in fact, we'd expect they would *not* be, if we learned something interesting in the inference).\n",
    "\n",
    "## Process\n",
    "\n",
    "## Package\n",
    "We'll use a mix of `seaborn`, `matplotlib`, `arviz` and `ipywidgets`\n",
    "\n",
    "## Setup\n",
    "We'll load the posterior distribution from the very end of the Bayesian analysis example. I've stored this in a CSV file, ready for use:"
   ]
  },
  {
   "cell_type": "code",
   "execution_count": null,
   "id": "60f0875a",
   "metadata": {
    "ExecuteTime": {
     "end_time": "2022-06-10T20:53:52.613092Z",
     "start_time": "2022-06-10T20:53:52.567200Z"
    }
   },
   "outputs": [],
   "source": [
    "posterior_trace = pd.read_csv(\"fitts_pooled_model.csv\")\n",
    "posterior_trace.head()"
   ]
  },
  {
   "cell_type": "markdown",
   "id": "de3d905e",
   "metadata": {},
   "source": [
    "For the moment, we'll just focus on representing $b$, the slope of the MT:ID line."
   ]
  },
  {
   "cell_type": "markdown",
   "id": "d0588427",
   "metadata": {
    "ExecuteTime": {
     "end_time": "2022-06-09T13:41:51.388914Z",
     "start_time": "2022-06-09T13:41:51.385007Z"
    }
   },
   "source": [
    "## Applying\n",
    "\n",
    "### Static"
   ]
  },
  {
   "cell_type": "code",
   "execution_count": null,
   "id": "22431ad7",
   "metadata": {
    "ExecuteTime": {
     "end_time": "2022-06-10T20:53:54.232105Z",
     "start_time": "2022-06-10T20:53:54.221365Z"
    }
   },
   "outputs": [],
   "source": [
    "# extract the b columns\n",
    "# from a dataframe\n",
    "def extract_b_cols(df):\n",
    "    extracted_b = df.filter(regex=\"\\(\\'b\\[*\")\n",
    "    extracted_b = extracted_b.rename(columns=lambda x:(int(x[-3:-1])))\n",
    "    extracted_b = extracted_b.reindex(sorted(extracted_b.columns), axis=1)\n",
    "    extracted_b = extracted_b.to_dict('list')\n",
    "    return extracted_b\n",
    "\n",
    "extracted_b = extract_b_cols(posterior_trace)"
   ]
  },
  {
   "cell_type": "markdown",
   "id": "cc65e7fc",
   "metadata": {},
   "source": [
    "The worst thing, as always, is just to show means:"
   ]
  },
  {
   "cell_type": "code",
   "execution_count": null,
   "id": "248f8691",
   "metadata": {
    "ExecuteTime": {
     "end_time": "2022-06-10T20:53:56.231485Z",
     "start_time": "2022-06-10T20:53:56.135270Z"
    }
   },
   "outputs": [],
   "source": [
    "def rotate_labels():\n",
    "    ax = plt.gca()\n",
    "    ax.set_xticklabels(ax.get_xticklabels(),rotation = 45)\n",
    "    plt.tight_layout()\n",
    " \n",
    "\n",
    "def show_samples_mean(samples):\n",
    "    fig, ax = plt.subplots()    \n",
    "    ax.scatter(np.arange(len(samples)), [np.mean(v) for v in samples.values()])\n",
    "    ax.set_xticks(np.arange(len(samples)))\n",
    "    ax.set_xticklabels(samples.keys())\n",
    "    ax.set_ylabel(\"b\")\n",
    "    rotate_labels()\n",
    "    \n",
    "show_samples_mean(extracted_b)"
   ]
  },
  {
   "cell_type": "code",
   "execution_count": null,
   "id": "58a6ac8f",
   "metadata": {
    "ExecuteTime": {
     "end_time": "2022-06-10T20:54:02.058907Z",
     "start_time": "2022-06-10T20:54:01.976272Z"
    }
   },
   "outputs": [],
   "source": [
    "def show_samples_mean_error(samples):\n",
    "    fig, ax = plt.subplots()    \n",
    "    ax.errorbar(np.arange(len(samples)),  [np.mean(v) for v in samples.values()], yerr=[np.std(v) for v in samples.values()], fmt='o')\n",
    "    ax.set_xticks(np.arange(len(samples)))\n",
    "    ax.set_xticklabels(samples.keys())\n",
    "    ax.set_ylabel(\"b\")\n",
    "    rotate_labels()\n",
    "    \n",
    "show_samples_mean_error(extracted_b)"
   ]
  },
  {
   "cell_type": "code",
   "execution_count": null,
   "id": "1577a3a3",
   "metadata": {
    "ExecuteTime": {
     "end_time": "2022-06-10T20:54:02.416456Z",
     "start_time": "2022-06-10T20:54:02.214775Z"
    }
   },
   "outputs": [],
   "source": [
    "az.plot_forest(extracted_b, kind=\"ridgeplot\", ridgeplot_overlap=8, figsize=(10, 4), colors='cycle')"
   ]
  },
  {
   "cell_type": "code",
   "execution_count": null,
   "id": "386699a3",
   "metadata": {
    "ExecuteTime": {
     "end_time": "2022-06-10T20:54:03.820596Z",
     "start_time": "2022-06-10T20:54:03.803017Z"
    }
   },
   "outputs": [],
   "source": [
    "    \n",
    "def show_samples_box(products):\n",
    "    fig, ax = plt.subplots()\n",
    "    samps = products\n",
    "    ax.boxplot(samps.values(), labels=samps.keys())\n",
    "    ax.set_ylabel(\"b\")\n",
    "    rotate_labels()\n",
    "\n",
    "def show_samples_violin(products):\n",
    "    fig, ax = plt.subplots()\n",
    "    samps = products\n",
    "    sns.violinplot(data=list(samps.values()), scale=\"width\")\n",
    "    ax.set_xticklabels(samps.keys())    \n",
    "    ax.set_ylabel(\"b\")\n",
    "    rotate_labels()\n",
    "\n",
    "    \n",
    "def show_samples_raw(products):\n",
    "    fig, ax = plt.subplots()\n",
    "    samps = products\n",
    "    x = 0\n",
    "    for name, values in samps.items():\n",
    "        values = np.array(values)\n",
    "        ax.scatter(0*values+x, values, marker='_', alpha=0.1, c='C1')\n",
    "        x += 1\n",
    "        \n",
    "        \n",
    "    ax.set_xticklabels(samps.keys())    \n",
    "    ax.set_ylabel(\"b\")\n",
    "    rotate_labels()\n",
    "\n",
    "def show_samples_swarm(products):\n",
    "    fig, ax = plt.subplots()\n",
    "    samps = products\n",
    "    data = np.array(list(samps.values()))[:,::50]\n",
    "    data += np.random.normal(0,0.01,data.shape)\n",
    "    \n",
    "    \n",
    "    sns.swarmplot(data=list(data))\n",
    "    ax.set_xticklabels(samps.keys())    \n",
    "    ax.set_ylabel(\"b\")    \n",
    "    rotate_labels()\n",
    "    \n",
    "def show_samples_strip(products):\n",
    "    fig, ax = plt.subplots()\n",
    "    x = 0\n",
    "    ax.set_xlim(-0.1,len(products)/5)\n",
    "    ax.set_ylim(0,1)    \n",
    "    for product, samples in products.items():\n",
    "        pdf = ss.gaussian_kde(samples)\n",
    "        xs = np.linspace(0.2,0.6,512)\n",
    "        cs = np.sqrt(pdf(xs))\n",
    "        ax.imshow(6-np.tile(cs[None, :], (8, 1)).T, cmap='gray', vmin=0, vmax=6, \n",
    "                   extent=[x, x+0.1, 0, 1], origin='lower')\n",
    "        ax.text(x, -0.3, product, rotation=45, ha='center')        \n",
    "        x += 0.2\n",
    "        \n",
    "        rotate_labels()\n",
    "    \n",
    "    ax.set_ylabel(\"b\") \n",
    "    \n",
    "\n",
    "def update_strip(ax, products):\n",
    "    x = 0\n",
    "    for product, samples in products.items():\n",
    "        pdf = ss.gaussian_kde(samples)\n",
    "        xs = np.linspace(0.2,0.6,512)\n",
    "        cs = np.sqrt(pdf(xs))\n",
    "        ax.imshow(6-np.tile(cs[None, :], (8, 1)).T, cmap='gray', vmin=0, vmax=6, \n",
    "                   extent=[x, x+0.1, 0, 1], origin='lower')\n",
    "        x += 0.2\n",
    "    \n",
    "    "
   ]
  },
  {
   "cell_type": "code",
   "execution_count": null,
   "id": "9de3c999",
   "metadata": {
    "ExecuteTime": {
     "end_time": "2022-06-10T20:54:05.521910Z",
     "start_time": "2022-06-10T20:54:05.202502Z"
    }
   },
   "outputs": [],
   "source": [
    "show_samples_box(extracted_b)"
   ]
  },
  {
   "cell_type": "code",
   "execution_count": null,
   "id": "2d59e9d1",
   "metadata": {
    "ExecuteTime": {
     "end_time": "2022-06-10T20:54:05.839493Z",
     "start_time": "2022-06-10T20:54:05.663511Z"
    }
   },
   "outputs": [],
   "source": [
    "show_samples_violin(extracted_b)"
   ]
  },
  {
   "cell_type": "code",
   "execution_count": null,
   "id": "f0962f36",
   "metadata": {
    "ExecuteTime": {
     "end_time": "2022-06-10T13:18:23.991244Z",
     "start_time": "2022-06-10T13:18:23.780337Z"
    }
   },
   "outputs": [],
   "source": [
    "show_samples_swarm(extracted_b)"
   ]
  },
  {
   "cell_type": "code",
   "execution_count": null,
   "id": "c7556f38",
   "metadata": {
    "ExecuteTime": {
     "end_time": "2022-06-10T13:18:25.241519Z",
     "start_time": "2022-06-10T13:18:25.154613Z"
    }
   },
   "outputs": [],
   "source": [
    "show_samples_raw(extracted_b)"
   ]
  },
  {
   "cell_type": "code",
   "execution_count": null,
   "id": "d7fb042b",
   "metadata": {
    "ExecuteTime": {
     "end_time": "2022-06-10T13:18:26.318112Z",
     "start_time": "2022-06-10T13:18:25.758087Z"
    }
   },
   "outputs": [],
   "source": [
    "show_samples_strip(extracted_b);"
   ]
  },
  {
   "cell_type": "markdown",
   "id": "b1693342",
   "metadata": {
    "ExecuteTime": {
     "end_time": "2022-06-09T13:41:51.388914Z",
     "start_time": "2022-06-09T13:41:51.385007Z"
    }
   },
   "source": [
    "## Animated\n",
    "\n",
    "### Hypothetical outcome plots\n",
    "A hypothetical outcome plot or HOP is an animated plot showing definite samples drawn from a distribution over time. This gives a more immediate sense of the variation, and has been shown to improve judgments under uncertainty in some settings."
   ]
  },
  {
   "cell_type": "code",
   "execution_count": null,
   "id": "63c678f1",
   "metadata": {
    "ExecuteTime": {
     "end_time": "2022-06-11T17:40:49.286224Z",
     "start_time": "2022-06-11T17:40:49.165134Z"
    }
   },
   "outputs": [],
   "source": [
    "from matplotlib.animation import FuncAnimation\n",
    "\n",
    "def show_HOP(products):\n",
    "    fig, ax = plt.subplots()\n",
    "    samps = products\n",
    "    x = 0\n",
    "    \n",
    "    hops = []\n",
    "    all_values = []\n",
    "    for name, values in samps.items():\n",
    "        values = np.array(values)\n",
    "        vs = values[0:1]\n",
    "        hop, = ax.plot(0*vs+x, vs, 'o', alpha=1, c='C1')\n",
    "        hops.append(hop)\n",
    "        ax.set_ylim(0.3, 0.7)\n",
    "        \n",
    "        all_values.append(values)\n",
    "        x += 1\n",
    "        \n",
    "    def animate(frame):\n",
    "        for hop, vs in zip(hops, all_values):        \n",
    "            hop.set_ydata([np.random.choice(vs, 1)])\n",
    "        \n",
    "            \n",
    "            \n",
    "    ax.set_xticklabels(samps.keys())    \n",
    "    ax.set_ylabel(\"b\")\n",
    "    rotate_labels()\n",
    "    \n",
    "    anim = FuncAnimation(fig, animate, frames=200, interval=50)\n",
    "    return anim\n",
    "\n",
    "anim = show_HOP(extracted_b)    \n"
   ]
  },
  {
   "cell_type": "markdown",
   "id": "de71803c",
   "metadata": {
    "ExecuteTime": {
     "end_time": "2022-06-09T13:41:51.388914Z",
     "start_time": "2022-06-09T13:41:51.385007Z"
    }
   },
   "source": [
    "### Ballistic HOPs\n",
    "The jumpy nature of HOPs reflects the unordered nature of the samples. We can artificially order the samples and add some pseudo-physical \"springyness\" to the animation to generate a plot that looks as if we \"plucked\" the dataset and saw the samples echo around the posterior."
   ]
  },
  {
   "cell_type": "code",
   "execution_count": null,
   "id": "27c3bd9f",
   "metadata": {
    "ExecuteTime": {
     "end_time": "2022-06-10T20:54:36.865628Z",
     "start_time": "2022-06-10T20:54:36.786534Z"
    }
   },
   "outputs": [],
   "source": [
    "def show_ballistic_HOP(products):\n",
    "    fig, ax = plt.subplots()\n",
    "    \n",
    "    x = 0\n",
    "    samps = {name:np.array(sorted(samples)) for name, samples in products.items()}\n",
    "        \n",
    "    hops = []\n",
    "    all_values = []\n",
    "    for name, values in samps.items():        \n",
    "        vs = values[0:1]\n",
    "        hop, = ax.plot(0*vs+x, vs, 'o', alpha=0.01, c='C1')\n",
    "        ax.set_ylim(0.3, 0.7)\n",
    "        hops.append(hop)\n",
    "        all_values.append(values)\n",
    "        x += 1\n",
    "        \n",
    "    def animate(frame):\n",
    "        for hop, vs in zip(hops, all_values):        \n",
    "            index = np.cos(frame * 0.4) * np.exp(-frame * 0.015) * 850 + 1000            \n",
    "            hop.set_ydata(vs[int(index):int(index+150)])                                \n",
    "            \n",
    "    ax.set_xticklabels(samps.keys())    \n",
    "    ax.set_ylabel(\"b\")\n",
    "    rotate_labels()\n",
    "    \n",
    "    anim = FuncAnimation(fig, animate, frames=250, interval=10)\n",
    "    return anim\n",
    "\n",
    "anim = show_ballistic_HOP(extracted_b)    \n"
   ]
  },
  {
   "cell_type": "markdown",
   "id": "e8d04978",
   "metadata": {
    "ExecuteTime": {
     "end_time": "2022-06-09T13:41:51.388914Z",
     "start_time": "2022-06-09T13:41:51.385007Z"
    }
   },
   "source": [
    "## Interactive\n",
    "Posteriors are high-dimensional, and we can't show every aspect of the joint distribution at once in a single plot. One way to mitigate that is to slice (or stratify) the joint posterior distribution interactively. This allows *conditional* relationships in a posterior to be obtained.\n",
    "\n",
    "### Slicing posteriors"
   ]
  },
  {
   "cell_type": "code",
   "execution_count": null,
   "id": "bc48d045",
   "metadata": {
    "ExecuteTime": {
     "end_time": "2022-06-10T13:19:25.428755Z",
     "start_time": "2022-06-10T13:19:25.421918Z"
    }
   },
   "outputs": [],
   "source": [
    "from ipywidgets import  interactive\n",
    "\n",
    "\n",
    "\n",
    "def make_slicer(var_name, strat_width=0.01):\n",
    "    show_samples_strip(extracted_b)\n",
    "    def show_slice(**kwargs):\n",
    "    \n",
    "        stratum = posterior_trace[np.abs(posterior_trace[var_name]-kwargs[var_name])<strat_width]    \n",
    "        extracted_b_stratum = extract_b_cols(stratum)    \n",
    "        if len(extracted_b_stratum)>3:\n",
    "            update_strip(plt.gca(), extracted_b_stratum)\n",
    "    \n",
    "        plt.gcf().canvas.draw()\n",
    "    return show_slice"
   ]
  },
  {
   "cell_type": "code",
   "execution_count": null,
   "id": "a637ca43",
   "metadata": {
    "ExecuteTime": {
     "end_time": "2022-06-10T13:19:26.666911Z",
     "start_time": "2022-06-10T13:19:25.940402Z"
    }
   },
   "outputs": [],
   "source": [
    "    \n",
    "interactive(make_slicer(\"b_pop\"), b_pop = (0.33, 0.55, 0.01))"
   ]
  },
  {
   "cell_type": "code",
   "execution_count": null,
   "id": "21f81bf4",
   "metadata": {
    "ExecuteTime": {
     "end_time": "2022-06-10T13:19:55.103598Z",
     "start_time": "2022-06-10T13:19:54.398882Z"
    }
   },
   "outputs": [],
   "source": [
    "interactive(make_slicer(\"b_std\", 0.002), b_std = (0.001, 0.1, 0.01))"
   ]
  },
  {
   "cell_type": "markdown",
   "id": "127e2b5d",
   "metadata": {},
   "source": [
    "## Reflection\n",
    "\n",
    "### What was gained?\n",
    "* We could visualise the uncertainty and quantify our confidence in the estimates\n",
    "* Animation helps spread out the information over time, and also brings a visceral sense of variation\n",
    "* Interaction can help reduce \"slice\" up the posterior into more manageable chunks, and give a clearer sense of *conditional* relationships within a posterior.\n",
    "\n",
    "### What were the challenges?\n",
    "* Lots of choices for visualisation of uncertainty, and not always obvious which one to use\n",
    "* Scaling to a posterior with more dimensions would be challenging to do\n",
    "* Even with these techniques, its obvious the posterior of even a simple Bayesian analysis can be quite complex to deal with.\n",
    "\n",
    "### What else could we have done\n",
    "* We only looked at representations of single dimensions (albeit multiple dimensions at once). 2D and 3D representations can be important (e.g. displaying cursor uncertainty).\n",
    "* We could have used ML to reduce the dimensionality of our posterior (e.g. via UMAP or tSNE)\n",
    "* We could have made more sophisticated interactions\n",
    "* We could have suggested interactive tours of the posterior to show (as in the ballistic HOP example)\n"
   ]
  },
  {
   "cell_type": "code",
   "execution_count": null,
   "id": "d3e8b185",
   "metadata": {},
   "outputs": [],
   "source": []
  }
 ],
 "metadata": {
  "kernelspec": {
   "display_name": "Python 3 (ipykernel)",
   "language": "python",
   "name": "python3"
  },
  "language_info": {
   "codemirror_mode": {
    "name": "ipython",
    "version": 3
   },
   "file_extension": ".py",
   "mimetype": "text/x-python",
   "name": "python",
   "nbconvert_exporter": "python",
   "pygments_lexer": "ipython3",
   "version": "3.9.12"
  },
  "toc": {
   "base_numbering": 1,
   "nav_menu": {},
   "number_sections": true,
   "sideBar": true,
   "skip_h1_title": false,
   "title_cell": "Table of Contents",
   "title_sidebar": "Contents",
   "toc_cell": false,
   "toc_position": {},
   "toc_section_display": true,
   "toc_window_display": false
  },
  "varInspector": {
   "cols": {
    "lenName": 16,
    "lenType": 16,
    "lenVar": 40
   },
   "kernels_config": {
    "python": {
     "delete_cmd_postfix": "",
     "delete_cmd_prefix": "del ",
     "library": "var_list.py",
     "varRefreshCmd": "print(var_dic_list())"
    },
    "r": {
     "delete_cmd_postfix": ") ",
     "delete_cmd_prefix": "rm(",
     "library": "var_list.r",
     "varRefreshCmd": "cat(var_dic_list()) "
    }
   },
   "types_to_exclude": [
    "module",
    "function",
    "builtin_function_or_method",
    "instance",
    "_Feature"
   ],
   "window_display": false
  }
 },
 "nbformat": 4,
 "nbformat_minor": 5
}
