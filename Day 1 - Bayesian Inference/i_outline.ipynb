{
 "cells": [
  {
   "cell_type": "markdown",
   "id": "c57a28ff",
   "metadata": {},
   "source": [
    "# I: Outline and introduction\n",
    "\n",
    "## Who am I?\n",
    "\n",
    "I'm **John H. Williamson**, from the University of Glasgow. \n",
    "\n",
    "* JohnH.Williamson@glasgow.ac.uk  | [johnhw.com](johnhw.com) | @jhnhw  | [github.com/johnhw](https://github.com/johnhw)\n",
    "\n",
    "<img src=\"imgs/uofg.jpg\">\n",
    "\n",
    "### Why am I here?\n",
    "* I'm interested in computational approaches to HCI, particularly probabilistic and Bayesian methods, as well as control theoretic and unsupervised learning approaches.\n",
    "* I've been doing this for a long time (~20 years!)\n",
    "* I organised the very first Summer School on Computational Interaction, in Glasgow (back in 2015)"
   ]
  },
  {
   "cell_type": "markdown",
   "id": "ffc94a85",
   "metadata": {},
   "source": [
    "### Interactive elements\n",
    "\n",
    "Interact via https://app.sli.do/event/v7844SWHoFf22YYSq7QfVC\n",
    "\n",
    "**NOTE: Each part has a separate sli.do link!**\n",
    "\n",
    "* **You can always just ask questions verbally!**\n",
    "* If you want to ask questions *anonymously*, use sli.do.\n",
    "* We'll also have some polls via `sli.do`, so **please keep it open in a tab**.\n"
   ]
  },
  {
   "cell_type": "markdown",
   "id": "38c12d45",
   "metadata": {},
   "source": [
    "## Computational interaction?\n",
    "\n",
    "![imgs/comp_interaction_book.jpeg](imgs/comp_interaction_book.jpg)\n",
    "*Computational Interaction, Oxford University Press, Oulasvirta et. al. (eds.)*\n",
    "\n",
    "---\n",
    "\n",
    "**Computational interaction** applies computational thinking (abstraction, automation, analysis) to explain and enhance interaction between a user and a system. It is underpinned by modelling which admits formal reasoning, and which is amenable to computational approaches.\n",
    "\n",
    "Computational interaction would typically involve at least one of:\n",
    "\n",
    "* I. an explicit **mathematical model** of user-system behaviour;\n",
    "* II. a way of **updating** that model with observed data from users;\n",
    "* III. an algorithmic element that, using this model, can **directly synthesise or adapt** the\n",
    "design;\n",
    "* IV. a way of **automating and instrumenting** the modelling and design process;\n",
    "* V. the ability to **simulate or synthesise** elements of the expected user-system behaviour.\n",
    "\n",
    "Computational interaction often involves elements from machine learning, signal processing, information theory, optimisation, inference, control theory and formal modelling."
   ]
  },
  {
   "cell_type": "markdown",
   "id": "aa74e877",
   "metadata": {},
   "source": [
    "# Bayesian HCI: why and what?\n",
    "\n",
    "Why are we talking about Bayesian methods? What are they, and how do they address challenges in human-computer interaction?\n",
    "\n",
    "## What are Bayesian methods?\n",
    "\n",
    "* Mathematically and philosophically rigorous way to manipulate **uncertainty**, based on probability theory.\n",
    "* Implementable as computational models, with a rich collection of algorithms ready and waiting.\n",
    "* Complements other computational approaches (e.g. representation learning via deep learning, optimisation approaches).\n",
    "\n",
    "> The purpose of today is to learn to *think like a Bayesian*, as well as to have a little experience *doing*. \n",
    "\n",
    "## How do they address challenges in HCI?\n",
    "Bayesian methods allow us to deal with the noisy, imprecise and weakly known human world. Computers of old were so rigid that humans had to adapt very precisely to them. How would we throw off this yoke? How could *computational power* help us do that? By reasoning about uncertainty.\n",
    "\n",
    "We'll see how Bayesian methods can: \n",
    "\n",
    "* improve interaction in-the-loop; help you type faster and more accurately, or build better touch input devices, for example;\n",
    "* improve design processes by optimising configurations even when we know very little about what works well and what doesn't -- for example, tuning games to make them fun without have a clear idea of what \"fun\" is;\n",
    "* improve empirical analyses of user interfaces by robustly answering questions about evaluations that we actually want to know, as opposed to those that we are forced to ask;\n",
    "* improve how we model how humans think about interacting, even when we have limited psychological insight.\n",
    "\n",
    "### A wider view\n",
    "\n",
    "Bayesian methods can: \n",
    "\n",
    "* help systems act when they are sure and can account for the value of actions;\n",
    "* unshackle us from \"doing something now\", and let us run free from being bound to real-time, acting on both the possible pasts and the possible futures;\n",
    "* make informed choices without relying so heavily on heuristics, and reduce our evaluation burden;\n",
    "* answer questions about interfaces that we want to know, and express our confidence in them quantitatively, and in a way that is constructive;\n",
    "* give us a productive way to soak up those flops!"
   ]
  },
  {
   "cell_type": "markdown",
   "id": "cba602f1",
   "metadata": {},
   "source": [
    "# Some warm-up thoughts"
   ]
  },
  {
   "cell_type": "markdown",
   "id": "396dffe1",
   "metadata": {},
   "source": [
    "## Questions to ponder"
   ]
  },
  {
   "cell_type": "markdown",
   "id": "5ec8366f",
   "metadata": {},
   "source": [
    "### A word"
   ]
  },
  {
   "cell_type": "code",
   "execution_count": null,
   "id": "bbcecc01",
   "metadata": {},
   "outputs": [],
   "source": [
    "from IPython.display import display, Audio\n",
    "display(Audio(\"sounds/prior.wav\"))"
   ]
  },
  {
   "cell_type": "markdown",
   "id": "ca3e2c94",
   "metadata": {},
   "source": [
    "    \n",
    "Write down what was said.\n",
    "    \n",
    "* Clue 1\n",
    "    * Write down what was said.\n",
    "* Clue 2 \n",
    "    * Write down what was said.\n",
    "* Clue 3 \n",
    "    * Write down what was said."
   ]
  },
  {
   "cell_type": "markdown",
   "id": "36883202",
   "metadata": {},
   "source": [
    "### A game\n",
    "\n",
    "I will write a number...\n",
    "\n",
    "* Run sli.do poll"
   ]
  },
  {
   "cell_type": "markdown",
   "id": "04618dfe",
   "metadata": {},
   "source": [
    "### An image\n",
    "![image.png](imgs/tjmahr.png)\n",
    "[From TJ Mahr / @tjmahr on Twitter]"
   ]
  },
  {
   "cell_type": "markdown",
   "id": "5ac2954f",
   "metadata": {},
   "source": [
    "\n",
    "## Scenarios of use\n",
    "\n",
    "Where might we use Bayesian methods?\n",
    "\n",
    "> * Is a user's pointing movements indicating an intention to press button A or button B?\n",
    "> * Is now a good moment to pop-up a dialog?\n",
    "> * How many touch interaction events will happen in the next 500ms?\n",
    "> * How tired is the user right now?\n",
    "> * Is it better to allocate a shorter keyboard shortcut to Save or for Refresh?\n",
    "> * Does adding spring-back to a scrolling menu increase or decrease user stress?\n",
    "> * Which volatility visualisation strategy helps users make more rational decisions?\n",
    "> * Is this interactive system more or less likely to polarise society?\n",
    ">\n",
    "> [From Bayesian Methods for Interaction and Design, Williamson et al., eds. CUP, 2022]\n",
    "\n"
   ]
  },
  {
   "cell_type": "markdown",
   "id": "73a7d48a",
   "metadata": {},
   "source": [
    "## Survey results\n",
    "\n",
    "**What were *you* interested in?**\n",
    "\n",
    "* automated vehicles\n",
    "* human-in-the-loop machine learning\n",
    "* modelling human decision-making in interactive system\n",
    "* classifying user state, activity, intent\n",
    "* Human-AI Interaction\n",
    "* acoustic metamaterials for haptics\n",
    "* latency compensation\n",
    "* Spatial Design and Socio-Cultural Awareness\n",
    "* Privacy and security\n",
    "* wearable robots, actuation technologies and empirical user studies\n",
    "* Human-Robot Interaction\n",
    "* exploring and controlling generative systems\n",
    "* XAI through visualization\n",
    "* Visualization comparision\n",
    "* context-aware interactions for Augmented Reality\n",
    "* dialogue systems, reinforcement learning\n",
    "* Virtual reality and proxy-based haptic interaction\n",
    "* integrating intelligence in critical systems without deskilling\n",
    "* HCI, ML, and Cognitive Neuroscience\n",
    "* acceptability of decisions of Intelligent Self Service Systems\n",
    "* AI-assisted development of digitized photo products\n",
    "* movement of [the] mouse and idiosyncratic elements in trajectories\n",
    "\n",
    "\n",
    "**What did you think you were getting today?**\n",
    "* **No Idea**\n",
    "* Learning something new\n",
    "* Introduction and practical application / the method and its advantages, and when it is not useful\n",
    "* Understand the use of Bayesian optimization\n",
    "* tips on constructing Bayesian models (priors, likelihoods) in the context of HCI /  best software to use \n",
    "* probabilistic insights on interaction\n",
    "* Improve my conceptual knowledge of Bayesian method\n",
    "* I am interested in getting a basic understanding of the possibilities for interaction scenarios\n",
    "* inferring the relations between virtual UI elements/tasks and real-world scene\n",
    "* if/how Bayesian optimization can be used to optimize AR interfaces\n",
    "\n",
    "\n"
   ]
  },
  {
   "cell_type": "markdown",
   "id": "63ac2d2a",
   "metadata": {},
   "source": [
    "\n",
    "\n",
    "# Resources\n",
    "## Bayesian Methods for Interaction and Design\n",
    "\n",
    "![Bayesian Methods for Interaction and Design](imgs/bayes_book_cover.PNG)\n",
    "\n",
    "* **Cambridge University Press**, release date August 2022\n",
    "* Edited by: J. H. Williamson [Today!], A. Oulasvirta [Friday], P. O. Kristensson, N. Banovic [Wednesday]\n",
    "\n",
    "* A full tutorial introduction to Bayesian HCI \n",
    "* Ten contributed research chapters from top researchers in the HCI community.\n",
    "* Nice orange cover; looks smart on your bookshelf."
   ]
  },
  {
   "cell_type": "markdown",
   "id": "f73af112",
   "metadata": {},
   "source": [
    "## Bibliography\n",
    "\n",
    "[The references notebook](references.ipynb) has a list of books, papers, blogs and videos that are either directly referenced today, or that will provide background or more depth on the topics.\n",
    "\n",
    "These are particularly recommended texts if you want to read further:\n",
    "\n",
    "<img src=\"imgs/bayesian_books.png\">\n",
    "\n",
    "## Notebooks\n",
    "\n",
    "All of the notes for this course are executable Jupyter notebooks, using Python. See [readme.md](readme.md) for installation and setup instructions.\n"
   ]
  },
  {
   "cell_type": "markdown",
   "id": "567e475f",
   "metadata": {},
   "source": [
    "# Timeline for today\n",
    "\n",
    "* 0930-0940 [I: Introduction and outline](i_outline.ipynb)\n",
    "* 0940-1100 [II: Introduction to Bayesian theory](ii_theory_and_practice.ipynb)\n",
    "* 1100-1200 **Geraldine's talk**\n",
    "* 1200-1300 Lunch\n",
    "* 1300-1530 [III: Bayesian HCI](iii_bayesian_hci.ipynb)\n",
    "* 1500-1530 **Break**\n",
    "* 1530-1600 [IV: Setup for practical task](iv_practical.ipynb)\n",
    "* 1600-1700 Practical task"
   ]
  },
  {
   "cell_type": "markdown",
   "id": "f4efe0b7",
   "metadata": {},
   "source": [
    "---\n",
    "Next part: [II - Theory and Practice](ii_theory_and_practice.ipynb)"
   ]
  }
 ],
 "metadata": {
  "kernelspec": {
   "display_name": "Python 3 (ipykernel)",
   "language": "python",
   "name": "python3"
  },
  "language_info": {
   "codemirror_mode": {
    "name": "ipython",
    "version": 3
   },
   "file_extension": ".py",
   "mimetype": "text/x-python",
   "name": "python",
   "nbconvert_exporter": "python",
   "pygments_lexer": "ipython3",
   "version": "3.9.7"
  },
  "toc": {
   "base_numbering": 1,
   "nav_menu": {},
   "number_sections": true,
   "sideBar": true,
   "skip_h1_title": false,
   "title_cell": "Table of Contents",
   "title_sidebar": "Contents",
   "toc_cell": false,
   "toc_position": {},
   "toc_section_display": true,
   "toc_window_display": false
  },
  "varInspector": {
   "cols": {
    "lenName": 16,
    "lenType": 16,
    "lenVar": 40
   },
   "kernels_config": {
    "python": {
     "delete_cmd_postfix": "",
     "delete_cmd_prefix": "del ",
     "library": "var_list.py",
     "varRefreshCmd": "print(var_dic_list())"
    },
    "r": {
     "delete_cmd_postfix": ") ",
     "delete_cmd_prefix": "rm(",
     "library": "var_list.r",
     "varRefreshCmd": "cat(var_dic_list()) "
    }
   },
   "types_to_exclude": [
    "module",
    "function",
    "builtin_function_or_method",
    "instance",
    "_Feature"
   ],
   "window_display": false
  }
 },
 "nbformat": 4,
 "nbformat_minor": 5
}
