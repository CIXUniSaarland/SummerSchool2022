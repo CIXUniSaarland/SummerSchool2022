{
 "cells": [
  {
   "cell_type": "code",
   "execution_count": null,
   "id": "7266ec02",
   "metadata": {},
   "outputs": [],
   "source": [
    "import numpy as np\n",
    "import matplotlib.pyplot as plt\n",
    "import scipy.stats\n",
    "import pandas as pd\n",
    "\n",
    "np.random.seed(2022)\n",
    "\n",
    "## Fitts law examples\n",
    "n_participants = 16\n",
    "n_reps = 4\n",
    "n_ids = 5\n",
    "\n",
    "ID = np.tile(np.linspace(0.5, 4.0, n_ids), (n_participants * n_reps))\n",
    "\n",
    "ID = ID.reshape(n_participants, n_reps, n_ids)\n",
    "ID = np.einsum('pri -> irp', ID)\n",
    "\n",
    "i_id, r_id, p_id = np.meshgrid(np.arange(n_ids), np.arange(n_reps), np.arange(n_participants))\n",
    "\n",
    "a = np.random.normal(0.05, 0.01, n_participants)\n",
    "b = np.random.normal(0.5, 0.04, n_participants)\n",
    "c = np.random.normal(-0.008, 0.001, n_participants)\n",
    "s = np.random.normal(0.05, 0.02, n_participants)\n",
    "\n",
    "MT = a + b * ID + c * ID ** 2 + np.random.normal(0, s+s*ID*2, ID.shape)\n",
    "print(MT.shape)\n",
    "\n",
    "fig, ax = plt.subplots()\n",
    "ax.set_xlim(0, 5)\n",
    "ax.set_ylim(0, 2.5)\n",
    "ax.scatter(ID, MT,  s=18, c=p_id.ravel())\n",
    "ax.set_xlabel(\"Index of difficulty (ID)\")\n",
    "ax.set_ylabel(\"Movement time (s)\")\n",
    "ax.set_title(\"Synthetic Fitts' law data\")\n",
    "\n",
    "fitts_data = pd.DataFrame({\"ID\":ID.ravel(), \"MT\":MT.ravel(), \"participant\":p_id.ravel(), \"repetition\":r_id.ravel(), \"step\":i_id.ravel()})\n",
    "fitts_data.sort_values(by='participant')\n",
    "\n",
    "fitts_data.to_csv(\"fitts_a.csv\")"
   ]
  },
  {
   "cell_type": "code",
   "execution_count": null,
   "id": "ecfef37b",
   "metadata": {},
   "outputs": [],
   "source": [
    "## Fitts law examples\n",
    "n_participants = 3\n",
    "n_reps = 1\n",
    "n_ids = 5\n",
    "\n",
    "ID = np.tile(np.linspace(0.5, 4.0, n_ids), (n_participants * n_reps))\n",
    "ID = np.random.uniform(0.5, 5.0, ID.shape)\n",
    "print(ID.shape)\n",
    "ID = ID.reshape(n_participants, n_reps, n_ids)\n",
    "ID = np.einsum('pri -> irp', ID)\n",
    "\n",
    "i_id, r_id, p_id = np.meshgrid(np.arange(n_ids), np.arange(n_reps), np.arange(n_participants))\n",
    "\n",
    "a = np.random.normal(0.02, 0.01, n_participants)\n",
    "b = np.random.normal(0.65, 0.04, n_participants)\n",
    "c = np.random.normal(-0.02, 0.002, n_participants)\n",
    "s = np.random.normal(0.05, 0.02, n_participants)\n",
    "\n",
    "MT = a + b * ID + c * ID ** 2 + np.random.normal(0, s+s*ID*2, ID.shape)\n",
    "print(MT.shape)\n",
    "\n",
    "fig, ax = plt.subplots()\n",
    "ax.set_xlim(0, 5)\n",
    "ax.set_ylim(0, 2.5)\n",
    "ax.scatter(ID, MT,  s=18, c=p_id.ravel())\n",
    "ax.set_xlabel(\"Index of difficulty (ID)\")\n",
    "ax.set_ylabel(\"Movement time (s)\")\n",
    "ax.set_title(\"Synthetic Fitts' law data\")\n",
    "\n",
    "fitts_data = pd.DataFrame({\"ID\":ID.ravel(), \"MT\":MT.ravel(), \"participant\":p_id.ravel(), \"repetition\":r_id.ravel(), \"step\":i_id.ravel()})\n",
    "fitts_data.sort_values(by='participant')\n",
    "\n",
    "fitts_data.to_csv(\"fitts_b.csv\")"
   ]
  },
  {
   "cell_type": "code",
   "execution_count": null,
   "id": "6049f1f2",
   "metadata": {},
   "outputs": [],
   "source": [
    "## Fitts law examples\n",
    "n_participants = 1\n",
    "n_reps = 10\n",
    "n_ids = 10\n",
    "\n",
    "ID = np.tile(np.linspace(0.5, 4.0, n_ids), (n_participants * n_reps))\n",
    "print(ID.shape)\n",
    "ID = ID.reshape(n_participants, n_reps, n_ids)\n",
    "ID = np.einsum('pri -> irp', ID)\n",
    "\n",
    "i_id, r_id, p_id = np.meshgrid(np.arange(n_ids), np.arange(n_reps), np.arange(n_participants))\n",
    "\n",
    "a = np.random.normal(0.01, 0.01, n_participants)\n",
    "b = np.random.normal(0.45, 0.04, n_participants)\n",
    "c = np.random.normal(-0.01, 0.002, n_participants)\n",
    "s = np.random.normal(0.1, 0.02, n_participants)\n",
    "\n",
    "MT = a + b * ID + c * ID ** 2 + np.random.normal(0, s+s*ID*1.5, ID.shape)\n",
    "print(MT.shape)\n",
    "\n",
    "fig, ax = plt.subplots()\n",
    "ax.set_xlim(0, 5)\n",
    "ax.set_ylim(0, 2.5)\n",
    "ax.scatter(ID, MT,  s=18, c=p_id.ravel())\n",
    "ax.set_xlabel(\"Index of difficulty (ID)\")\n",
    "ax.set_ylabel(\"Movement time (s)\")\n",
    "ax.set_title(\"Synthetic Fitts' law data\")\n",
    "\n",
    "fitts_data = pd.DataFrame({\"ID\":ID.ravel(), \"MT\":MT.ravel(), \"participant\":p_id.ravel(), \"repetition\":r_id.ravel(), \"step\":i_id.ravel()})\n",
    "fitts_data.sort_values(by='participant')\n",
    "\n",
    "fitts_data.to_csv(\"fitts_c.csv\")"
   ]
  },
  {
   "cell_type": "code",
   "execution_count": null,
   "id": "5b31c0d3",
   "metadata": {},
   "outputs": [],
   "source": []
  },
  {
   "cell_type": "code",
   "execution_count": null,
   "id": "8f93d185",
   "metadata": {},
   "outputs": [],
   "source": []
  }
 ],
 "metadata": {
  "kernelspec": {
   "display_name": "Python 3 (ipykernel)",
   "language": "python",
   "name": "python3"
  },
  "language_info": {
   "codemirror_mode": {
    "name": "ipython",
    "version": 3
   },
   "file_extension": ".py",
   "mimetype": "text/x-python",
   "name": "python",
   "nbconvert_exporter": "python",
   "pygments_lexer": "ipython3",
   "version": "3.8.12"
  },
  "toc": {
   "base_numbering": 1,
   "nav_menu": {},
   "number_sections": true,
   "sideBar": true,
   "skip_h1_title": false,
   "title_cell": "Table of Contents",
   "title_sidebar": "Contents",
   "toc_cell": false,
   "toc_position": {},
   "toc_section_display": true,
   "toc_window_display": false
  },
  "varInspector": {
   "cols": {
    "lenName": 16,
    "lenType": 16,
    "lenVar": 40
   },
   "kernels_config": {
    "python": {
     "delete_cmd_postfix": "",
     "delete_cmd_prefix": "del ",
     "library": "var_list.py",
     "varRefreshCmd": "print(var_dic_list())"
    },
    "r": {
     "delete_cmd_postfix": ") ",
     "delete_cmd_prefix": "rm(",
     "library": "var_list.r",
     "varRefreshCmd": "cat(var_dic_list()) "
    }
   },
   "types_to_exclude": [
    "module",
    "function",
    "builtin_function_or_method",
    "instance",
    "_Feature"
   ],
   "window_display": false
  }
 },
 "nbformat": 4,
 "nbformat_minor": 5
}
