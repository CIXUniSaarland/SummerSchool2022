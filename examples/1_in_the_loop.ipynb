{
 "cells": [
  {
   "cell_type": "code",
   "execution_count": 3,
   "metadata": {
    "ExecuteTime": {
     "end_time": "2022-06-11T16:41:49.844619Z",
     "start_time": "2022-06-11T16:41:49.834856Z"
    }
   },
   "outputs": [
    {
     "data": {
      "text/plain": [
       "'%.3f'"
      ]
     },
     "execution_count": 3,
     "metadata": {},
     "output_type": "execute_result"
    }
   ],
   "source": [
    "import pandas as pd \n",
    "import numpy as np\n",
    "import scipy.stats as ss\n",
    "import time\n",
    "\n",
    "import matplotlib as mpl\n",
    "import matplotlib.pyplot as plt\n",
    "import numpy as np\n",
    "from IPython.display import display\n",
    "# set some styling defaults for matplotlib\n",
    "plt.style.use(\"seaborn-talk\")\n",
    "mpl.rcParams[\"figure.dpi\"] = 90  # change this to set apparent figure size\n",
    "mpl.rcParams[\"figure.figsize\"] = (7, 3)\n",
    "mpl.rcParams[\"figure.frameon\"] = False\n",
    "\n",
    "# set decimal precision to 3 dec. places\n",
    "%precision 3"
   ]
  },
  {
   "cell_type": "code",
   "execution_count": 4,
   "metadata": {
    "ExecuteTime": {
     "end_time": "2022-06-11T16:41:50.017460Z",
     "start_time": "2022-06-11T16:41:50.013556Z"
    }
   },
   "outputs": [],
   "source": [
    "#%pip install pfilter\n",
    "#%pip install ipycanvas\n",
    "# uncomment and run the above if you don't have pfilter and/or ipycanvas installed"
   ]
  },
  {
   "cell_type": "code",
   "execution_count": 5,
   "metadata": {
    "ExecuteTime": {
     "end_time": "2022-06-11T16:41:50.267960Z",
     "start_time": "2022-06-11T16:41:50.175654Z"
    }
   },
   "outputs": [],
   "source": [
    "from pfilter import ParticleFilter, gaussian_noise, squared_error, independent_sample\n",
    "from scipy.stats import norm, gamma, uniform \n",
    "from particle_tools import FilterCanvas\n"
   ]
  },
  {
   "cell_type": "markdown",
   "metadata": {},
   "source": [
    "# Example 1: probabilistic filters\n",
    "\n",
    "## Outcomes\n",
    "You will understand:\n",
    "* How probabilistic filtering works\n",
    "* How to implement basic probabilistic filters\n",
    "* How filtering can be used to extract hidden states\n",
    "* How to integrate a particle filter into an interactive system\n",
    "\n",
    "    "
   ]
  },
  {
   "cell_type": "markdown",
   "metadata": {},
   "source": [
    "\n",
    "## Goal\n",
    "* Estimate a hidden state in a continuous process from a stream of observations.\n",
    "* Be able to deal with missing or noisy observations.\n",
    "* Be able to project forward into the future as needed.\n",
    "* Be able to quantify uncertainty and the expected value of possible states.\n",
    "\n",
    "## Task\n",
    "We'll build a simple \"swipe\" gesture recogniser. This is intended to recognise a swipe-left or swipe-right movement. Obviously, this is a relatively simple problem to solve, but we'll see how to properly represent uncertainty when approaching it from a Bayesian perspective.\n",
    "\n",
    "<img src=\"imgs/swipe.png\" width=\"50%\">\n",
    "\n",
    "## Process\n",
    "* We build a **filter**, which in this context means a process that combines observations that occur sequentially.\n",
    "* Note: it's not really the same as a filter in the sense of signal processing, though the concept of processing sequential signals is the same.\n",
    "    \n",
    "* The data generating process is assumed to have some temporal coherence; predictions of the future depend on past states.\n",
    "* Typically, we make a *Markov assumption*: that the current unobserved state encodes everything we know about the next state.\n",
    "    \n",
    "### Predictor-corrector\n",
    "\n",
    "The concept is simple: we first build a model that just predicts what we think might be going on -- a pure simulator. Then we can take observations and use them to \"filter out\" predictions that are unrealistic given those observations. This is formulated as a Bayesian belief update.\n",
    "\n",
    "* Prior at time t + evidence at time t -> posterior at time t\n",
    "\n",
    "$$P(X_{t+1}|Y_t, X_t) \\propto P(Y_t | X_{t+1}) P(X_{t+1})$$\n",
    "$$P(X_{t+1}|Y_t, X_t) \\propto P(Y_t | X_{t+1}) P(X_{t})$$\n",
    "\n",
    "* (we don't typically care about normalising this distribution, we just want to track *relative* likelihoods of hypotheses)\n",
    "\n",
    "<img src=\"imgs/stochastic.png\" width=\"50%\">"
   ]
  },
  {
   "cell_type": "markdown",
   "metadata": {},
   "source": [
    "## Package: `pfilter`\n",
    "\n",
    "We'll use the `pfilter` package for this example. This implements a simple interface to a particle filter. *Caveat: I wrote `pfilter`, so my definition of simple may not be everyone's!*\n",
    "\n",
    "### Particle filter\n",
    "A particle filter just represents the current posterior distribution as a collection of samples (definite estimates) and updates them given evidence observed, and a forward model of what evidence *would be expected* for any given sample. It operates in discrete time, feeding the posterior from one step as the prior from the next.\n",
    "\n",
    "We can include dynamics, which specify how the unknown state is believed to be changing over time. Usually, these are *stochastic* dynamics -- they add some diffusion or noise to accommodate the inexact dynamics we implement.\n",
    "\n",
    "Likelihood is implemented by *weighting* samples according to how similar their hypothesised observations are to the true observation. This gives a pseudo-likelihood that is easy to apply.\n",
    "\n",
    "This is a sequential Monte Carlo: we push forward a block of samples through some expected dynamics, compare them to an observation, and reproduce those samples that best approximate the current observation: predict-correct.\n",
    "\n"
   ]
  },
  {
   "cell_type": "markdown",
   "metadata": {},
   "source": [
    "## Setup\n",
    "\n",
    "### Latent variables\n",
    "\n",
    "We need define the variables we want to infer; we'll form distributions over these. We'll stick to a very simple model, which has three variables:\n",
    "\n",
    "* `direction`: + or - for left or right swipe\n",
    "* `phase`: the proportion through the swipe, as a number from 0->1\n",
    "* `phase_rate`: the current rate of movement through the swipe, as a number from 0->1\n",
    "\n",
    "From this, we'll compute a distribution over whether or not a gesture is completed, which we can use to trigger actions. We'll do this by computing the how much evidence there is that the user is at the end of a swipe, with a consistent direction."
   ]
  },
  {
   "cell_type": "markdown",
   "metadata": {},
   "source": [
    "### Initial priors for time t=0\n",
    "We need to set prior distributions on these variables at time t=0. We'll assume we can equally likely be going left or right, and that swipes  start at the beginning (phase close to 0) and have some variable possible rates.\n",
    "\n",
    "* direction: uniform -1, 1\n",
    "* phase: uniform 0, 0.2 (could start just a bit through a swipe)\n",
    "* phase_rate: normal 1, 0.5 (going at a steady rate, with some variation)"
   ]
  },
  {
   "cell_type": "code",
   "execution_count": 6,
   "metadata": {
    "ExecuteTime": {
     "end_time": "2022-06-11T16:41:52.605638Z",
     "start_time": "2022-06-11T16:41:52.594896Z"
    }
   },
   "outputs": [
    {
     "data": {
      "text/plain": [
       "array([[ 0.185,  0.192,  0.874],\n",
       "       [-0.628,  0.132,  0.812],\n",
       "       [-0.553,  0.196,  1.21 ],\n",
       "       [ 0.133,  0.033,  1.358],\n",
       "       [ 0.986,  0.087,  1.494],\n",
       "       [ 0.435,  0.057,  0.887],\n",
       "       [-0.62 ,  0.027,  0.848],\n",
       "       [ 0.374,  0.161,  0.83 ],\n",
       "       [ 0.812,  0.127,  1.126],\n",
       "       [-0.459,  0.171,  0.766]])"
      ]
     },
     "execution_count": 6,
     "metadata": {},
     "output_type": "execute_result"
    }
   ],
   "source": [
    "columns = [\"direction\", \"phase\", \"phase_rate\"]\n",
    "\n",
    "# some basic guesses for how these variables might start out\n",
    "# note: direction is actually -1, 0 or 1, but I've used a continuous\n",
    "# distribution just to make things a bit easier\n",
    "prior_fn = independent_sample([uniform(loc=-1, scale=2).rvs, \n",
    "                                uniform(loc=0.0, scale=0.2).rvs, \n",
    "                                norm(loc=1,scale=0.25).rvs])\n",
    "                               \n",
    "prior_fn(10)\n"
   ]
  },
  {
   "cell_type": "markdown",
   "metadata": {},
   "source": [
    "### Dynamic model\n",
    "Our filter is applied to a *process* that unfolds over time. The previous timestep posterior is used as the prior for the next timestep. Because we can *predict* what will happen, we can push this posterior through some dynamics to make a better prior for the next timestep.\n",
    "\n",
    "Now we need a model of what would happen in the future *if we had no information about what the user was doing* -- that is, a pure forward simulator. We'll assume that a gesture that is active will continue in the direction it was going, at the same phase rate."
   ]
  },
  {
   "cell_type": "code",
   "execution_count": 80,
   "metadata": {
    "ExecuteTime": {
     "end_time": "2022-06-11T17:12:49.326102Z",
     "start_time": "2022-06-11T17:12:49.241615Z"
    }
   },
   "outputs": [],
   "source": [
    "def dynamics(x):\n",
    "    dt = 0.05\n",
    "    # phase += direction * phase_rate    \n",
    "    x[:,1] = np.tanh(x[:,1] + x[:,2] * dt)\n",
    "    return x"
   ]
  },
  {
   "cell_type": "code",
   "execution_count": 81,
   "metadata": {
    "ExecuteTime": {
     "end_time": "2022-06-11T17:12:51.185350Z",
     "start_time": "2022-06-11T17:12:51.097909Z"
    }
   },
   "outputs": [
    {
     "data": {
      "text/plain": [
       "array([[-0.923,  0.153,  0.667],\n",
       "       [-0.759,  0.202,  0.62 ],\n",
       "       [-0.861,  0.145,  1.177],\n",
       "       [-0.672,  0.139,  1.26 ],\n",
       "       [-0.126,  0.122,  1.174],\n",
       "       [ 0.244,  0.091,  1.249],\n",
       "       [-0.027,  0.207,  1.237],\n",
       "       [-0.566,  0.234,  1.147],\n",
       "       [-0.938,  0.157,  1.026],\n",
       "       [-0.717,  0.166,  1.01 ]])"
      ]
     },
     "execution_count": 81,
     "metadata": {},
     "output_type": "execute_result"
    }
   ],
   "source": [
    "dynamics(prior_fn(10)) # moves forward one timestep"
   ]
  },
  {
   "cell_type": "code",
   "execution_count": 9,
   "metadata": {
    "ExecuteTime": {
     "end_time": "2022-06-11T16:41:57.842200Z",
     "start_time": "2022-06-11T16:41:57.730818Z"
    }
   },
   "outputs": [],
   "source": [
    "%load_ext autoreload\n",
    "%autoreload 2"
   ]
  },
  {
   "cell_type": "code",
   "execution_count": 82,
   "metadata": {
    "ExecuteTime": {
     "end_time": "2022-06-11T17:12:53.255222Z",
     "start_time": "2022-06-11T17:12:53.140455Z"
    }
   },
   "outputs": [
    {
     "data": {
      "application/vnd.jupyter.widget-view+json": {
       "model_id": "53c595d516194c8ea7625bf14d050c6c",
       "version_major": 2,
       "version_minor": 0
      },
      "text/plain": [
       "Label(value='')"
      ]
     },
     "metadata": {},
     "output_type": "display_data"
    },
    {
     "data": {
      "application/vnd.jupyter.widget-view+json": {
       "model_id": "ff5ed1814985480d8ba78e2fb0f68f7f",
       "version_major": 2,
       "version_minor": 0
      },
      "text/plain": [
       "Button(icon='stop', style=ButtonStyle())"
      ]
     },
     "metadata": {},
     "output_type": "display_data"
    },
    {
     "data": {
      "application/vnd.jupyter.widget-view+json": {
       "model_id": "6b03aff7173c4d0fa47983a77f1d0774",
       "version_major": 2,
       "version_minor": 0
      },
      "text/plain": [
       "Output()"
      ]
     },
     "metadata": {},
     "output_type": "display_data"
    },
    {
     "data": {
      "application/vnd.jupyter.widget-view+json": {
       "model_id": "c1bf13e416064951b5b29e596d04720e",
       "version_major": 2,
       "version_minor": 0
      },
      "text/plain": [
       "Canvas(width=800)"
      ]
     },
     "metadata": {},
     "output_type": "display_data"
    }
   ],
   "source": [
    "pf = ParticleFilter(prior_fn=prior_fn, n_particles=100, dynamics_fn=dynamics)        \n",
    "c = FilterCanvas(pf)\n",
    "c.draw()\n",
    "c.start()"
   ]
  },
  {
   "cell_type": "markdown",
   "metadata": {},
   "source": [
    "### Diffusion\n",
    "The dynamics we implemented are *deterministic*; they assume that, for example, an initial hypothesis that a gesture is swiping left at 10px per second will continue to behave that way in the future. Given that we know our estimation is uncertain, this is a very strong assumption. A way to ameliorate this is to introduce some **diffusion**: stochastic (random) dynamics, that cause the distribution over latent states to \"spread out\" over time. This is trivial to implement: we just add a bit of noise to each of our particles at each time step:"
   ]
  },
  {
   "cell_type": "code",
   "execution_count": 83,
   "metadata": {
    "ExecuteTime": {
     "end_time": "2022-06-11T17:13:01.531564Z",
     "start_time": "2022-06-11T17:13:01.442186Z"
    }
   },
   "outputs": [],
   "source": [
    "def noise(x):\n",
    "    return gaussian_noise(x, sigmas=[0.00, 0.02, 0.05])"
   ]
  },
  {
   "cell_type": "markdown",
   "metadata": {},
   "source": [
    "If we look at the simulation now, we can see that the particles \"wander\" rather than following straight line paths."
   ]
  },
  {
   "cell_type": "code",
   "execution_count": 84,
   "metadata": {
    "ExecuteTime": {
     "end_time": "2022-06-11T17:13:03.515300Z",
     "start_time": "2022-06-11T17:13:03.399559Z"
    }
   },
   "outputs": [
    {
     "data": {
      "application/vnd.jupyter.widget-view+json": {
       "model_id": "794e0b5d0d664eb4a99c6487bcd1b11f",
       "version_major": 2,
       "version_minor": 0
      },
      "text/plain": [
       "Label(value='')"
      ]
     },
     "metadata": {},
     "output_type": "display_data"
    },
    {
     "data": {
      "application/vnd.jupyter.widget-view+json": {
       "model_id": "f18dc8eba9cd493d903bea81af75e15a",
       "version_major": 2,
       "version_minor": 0
      },
      "text/plain": [
       "Button(icon='stop', style=ButtonStyle())"
      ]
     },
     "metadata": {},
     "output_type": "display_data"
    },
    {
     "data": {
      "application/vnd.jupyter.widget-view+json": {
       "model_id": "12899cfb52e5419cb47055b2a81d6444",
       "version_major": 2,
       "version_minor": 0
      },
      "text/plain": [
       "Output()"
      ]
     },
     "metadata": {},
     "output_type": "display_data"
    },
    {
     "data": {
      "application/vnd.jupyter.widget-view+json": {
       "model_id": "89d6bee1715c489a812a35d62b6d8174",
       "version_major": 2,
       "version_minor": 0
      },
      "text/plain": [
       "Canvas(width=800)"
      ]
     },
     "metadata": {},
     "output_type": "display_data"
    }
   ],
   "source": [
    "pf = ParticleFilter(prior_fn=prior_fn, n_particles=100, dynamics_fn=dynamics, noise_fn=noise)        \n",
    "c = FilterCanvas(pf)\n",
    "c.draw()\n",
    "c.start()"
   ]
  },
  {
   "cell_type": "markdown",
   "metadata": {},
   "source": [
    "### Observation and likelihood\n",
    "\n",
    "So far, we have a forward model that can sample: a data generating process that behaves as we expect the hidden state to behave. We need to implement the *corrector* step, by introducing likelihood. \n",
    "\n",
    "To do this, we introduce observations, and specify a function that tells us: given a hidden (latent) state predict a *definite* hypothesised observation. We can them approximate the (relative) likelihood by comparing each hypothesised observation against the real one, and weighting the result according to how close they are.\n",
    "\n",
    "We'll assume all we can see is the mouse x position at a given instant."
   ]
  },
  {
   "cell_type": "code",
   "execution_count": 85,
   "metadata": {
    "ExecuteTime": {
     "end_time": "2022-06-11T17:13:11.423707Z",
     "start_time": "2022-06-11T17:13:11.322153Z"
    }
   },
   "outputs": [],
   "source": [
    "def observe(x):\n",
    "    # return what we *expect* to observe, given the hypotheses we have\n",
    "    direction = np.sign(np.where(np.abs(x[:,0])<0.5, 0, x[:,0]))\n",
    "    return np.where(direction==0, np.random.uniform(-1,1,direction.shape), x[:, 1] * direction)\n",
    "\n",
    "def weight(x, y):\n",
    "    return squared_error(x, y, sigma=0.1)"
   ]
  },
  {
   "cell_type": "code",
   "execution_count": 86,
   "metadata": {
    "ExecuteTime": {
     "end_time": "2022-06-11T17:13:13.499267Z",
     "start_time": "2022-06-11T17:13:13.405008Z"
    }
   },
   "outputs": [],
   "source": [
    "pf = ParticleFilter(prior_fn=prior_fn, n_particles=200, dynamics_fn=dynamics, noise_fn=noise, observe_fn=observe,\n",
    "                   weight_fn=weight, resample_proportion=0.01)  \n",
    "pf.update([0.5]) # pass an observation"
   ]
  },
  {
   "cell_type": "code",
   "execution_count": 87,
   "metadata": {
    "ExecuteTime": {
     "end_time": "2022-06-11T17:13:15.825994Z",
     "start_time": "2022-06-11T17:13:15.697497Z"
    }
   },
   "outputs": [
    {
     "data": {
      "application/vnd.jupyter.widget-view+json": {
       "model_id": "688d1d82fe804a90bb874d817896b352",
       "version_major": 2,
       "version_minor": 0
      },
      "text/plain": [
       "Label(value='')"
      ]
     },
     "metadata": {},
     "output_type": "display_data"
    },
    {
     "data": {
      "application/vnd.jupyter.widget-view+json": {
       "model_id": "51245faa64bf43548b8da83962d7382c",
       "version_major": 2,
       "version_minor": 0
      },
      "text/plain": [
       "Button(icon='stop', style=ButtonStyle())"
      ]
     },
     "metadata": {},
     "output_type": "display_data"
    },
    {
     "data": {
      "application/vnd.jupyter.widget-view+json": {
       "model_id": "8210b38af864439a8aee436b8e12a832",
       "version_major": 2,
       "version_minor": 0
      },
      "text/plain": [
       "Output()"
      ]
     },
     "metadata": {},
     "output_type": "display_data"
    },
    {
     "data": {
      "application/vnd.jupyter.widget-view+json": {
       "model_id": "07be7a36888e4f34a90ff4aa8e16f817",
       "version_major": 2,
       "version_minor": 0
      },
      "text/plain": [
       "Canvas(width=800)"
      ]
     },
     "metadata": {},
     "output_type": "display_data"
    }
   ],
   "source": [
    "c = FilterCanvas(pf, observing=True)\n",
    "c.draw()\n",
    "c.start()"
   ]
  },
  {
   "cell_type": "markdown",
   "metadata": {},
   "source": [
    "## Applying"
   ]
  },
  {
   "cell_type": "markdown",
   "metadata": {},
   "source": [
    "### Estimating intention and triggering actions"
   ]
  },
  {
   "cell_type": "markdown",
   "metadata": {},
   "source": [
    "Now we can track *state*; what we want to do is form a distribution over *intention*. We'll apply simple post-processing to\n",
    "the particles to estimate how likely it is we have completed a left or right swipe. We'll just count the number of particles in different states, and use the proportions as our probabilities.\n",
    "\n",
    "This will give us a distribution over `swipe` with three outcomes:\n",
    "\n",
    "* no swipe\n",
    "* left swipe\n",
    "* right swipe\n"
   ]
  },
  {
   "cell_type": "code",
   "execution_count": 95,
   "metadata": {
    "ExecuteTime": {
     "end_time": "2022-06-11T17:14:18.813706Z",
     "start_time": "2022-06-11T17:14:18.722893Z"
    }
   },
   "outputs": [],
   "source": [
    "def estimate_swipe(particles):\n",
    "    # find all particles that have finished, and separate them into left and right\n",
    "    terminated_particles = particles[(particles[:,1]>0.5)]\n",
    "    left_particles = terminated_particles[terminated_particles[:,0]<0]\n",
    "    right_particles = terminated_particles[terminated_particles[:,0]>0]\n",
    "    n_left =len(left_particles)\n",
    "    n_right = len(right_particles)\n",
    "    n_total = len(particles)\n",
    "    n_none = n_total - (n_left+n_right)    \n",
    "    \n",
    "    swipe = {\"left\":n_left/n_total,\n",
    "             \"right\":n_right/n_total,\n",
    "             \"no\":n_none/n_total}\n",
    "    return swipe\n",
    "             \n",
    "    \n",
    "    "
   ]
  },
  {
   "cell_type": "code",
   "execution_count": 96,
   "metadata": {
    "ExecuteTime": {
     "end_time": "2022-06-11T17:14:20.699755Z",
     "start_time": "2022-06-11T17:14:20.608943Z"
    }
   },
   "outputs": [
    {
     "data": {
      "text/plain": [
       "{'left': 0.140, 'right': 0.000, 'no': 0.860}"
      ]
     },
     "execution_count": 96,
     "metadata": {},
     "output_type": "execute_result"
    }
   ],
   "source": [
    "estimate_swipe(pf.particles)"
   ]
  },
  {
   "cell_type": "code",
   "execution_count": 97,
   "metadata": {
    "ExecuteTime": {
     "end_time": "2022-06-11T17:14:22.699958Z",
     "start_time": "2022-06-11T17:14:22.576405Z"
    }
   },
   "outputs": [
    {
     "data": {
      "application/vnd.jupyter.widget-view+json": {
       "model_id": "e846125c53b4498e92d9090b527a980a",
       "version_major": 2,
       "version_minor": 0
      },
      "text/plain": [
       "Label(value='')"
      ]
     },
     "metadata": {},
     "output_type": "display_data"
    },
    {
     "data": {
      "application/vnd.jupyter.widget-view+json": {
       "model_id": "2984a1ccc9464312b0b30ca5946f6f33",
       "version_major": 2,
       "version_minor": 0
      },
      "text/plain": [
       "Button(icon='stop', style=ButtonStyle())"
      ]
     },
     "metadata": {},
     "output_type": "display_data"
    },
    {
     "data": {
      "application/vnd.jupyter.widget-view+json": {
       "model_id": "20bf19d409fe47e3803a77cdd5eb8171",
       "version_major": 2,
       "version_minor": 0
      },
      "text/plain": [
       "Output()"
      ]
     },
     "metadata": {},
     "output_type": "display_data"
    },
    {
     "data": {
      "application/vnd.jupyter.widget-view+json": {
       "model_id": "bb1cd2e5b4a143ada96a36f4d3f4be35",
       "version_major": 2,
       "version_minor": 0
      },
      "text/plain": [
       "Canvas(width=800)"
      ]
     },
     "metadata": {},
     "output_type": "display_data"
    }
   ],
   "source": [
    "pf = ParticleFilter(prior_fn=prior_fn, n_particles=100, dynamics_fn=dynamics, noise_fn=noise, observe_fn=observe,\n",
    "                   weight_fn=weight, resample_proportion=0.01)      \n",
    "c = FilterCanvas(pf, observing=True, estimator=estimate_swipe)\n",
    "c.draw()\n",
    "c.start()"
   ]
  },
  {
   "cell_type": "markdown",
   "metadata": {},
   "source": [
    "### Actuation\n",
    "Bayesian interface estimate *beliefs* about state as probability distributions. While this is elegant, it does pose problems when we want to actually do something. \"Doing something\" means making an irreversible change of state. This is the **barrier of action**  -- the barrier that separates movement in belief space from discrete state changes.\n",
    "\n",
    "We need to decide on a decision rule to actuate based on beliefs.\n",
    "\n",
    "The *rational* way to do this is to compute the expected value of each outcome (using some utility function to ascribe a numerical goodness to each action) and choose the action with the highest expected value. In this case, we don't have different values for our actions, so we'll just use the probabilities directly. We'll threshold on the probability of each intention state, and if there is enough evidence, we'll trigger the action."
   ]
  },
  {
   "cell_type": "code",
   "execution_count": 101,
   "metadata": {
    "ExecuteTime": {
     "end_time": "2022-06-11T17:16:09.732996Z",
     "start_time": "2022-06-11T17:16:09.644136Z"
    }
   },
   "outputs": [],
   "source": [
    "def trigger_action(swipe):\n",
    "    # we trigger on crossing a probability threshold\n",
    "    # this is not the only choice; we could e.g. use entropy \n",
    "    # to detect a certain state, and select the max. prob. result\n",
    "    p_threshold = 0.75\n",
    "    if swipe[\"left\"]>p_threshold:\n",
    "        return \"left\"\n",
    "    if swipe[\"right\"]>p_threshold:\n",
    "        return \"right\"\n",
    "    return \"no\""
   ]
  },
  {
   "cell_type": "code",
   "execution_count": 102,
   "metadata": {
    "ExecuteTime": {
     "end_time": "2022-06-11T17:16:11.630123Z",
     "start_time": "2022-06-11T17:16:11.525577Z"
    }
   },
   "outputs": [
    {
     "data": {
      "application/vnd.jupyter.widget-view+json": {
       "model_id": "87d1174facc74f20ba6e3ae9c2668f10",
       "version_major": 2,
       "version_minor": 0
      },
      "text/plain": [
       "Label(value='')"
      ]
     },
     "metadata": {},
     "output_type": "display_data"
    },
    {
     "data": {
      "application/vnd.jupyter.widget-view+json": {
       "model_id": "2096b0d533564decac8f45f7c4aa32bd",
       "version_major": 2,
       "version_minor": 0
      },
      "text/plain": [
       "Button(icon='stop', style=ButtonStyle())"
      ]
     },
     "metadata": {},
     "output_type": "display_data"
    },
    {
     "data": {
      "application/vnd.jupyter.widget-view+json": {
       "model_id": "9e69ef96a66244d3878c90dd401e1640",
       "version_major": 2,
       "version_minor": 0
      },
      "text/plain": [
       "Output()"
      ]
     },
     "metadata": {},
     "output_type": "display_data"
    },
    {
     "data": {
      "application/vnd.jupyter.widget-view+json": {
       "model_id": "bccdd37d3f1b46c194624da52dbf8c65",
       "version_major": 2,
       "version_minor": 0
      },
      "text/plain": [
       "Canvas(width=800)"
      ]
     },
     "metadata": {},
     "output_type": "display_data"
    }
   ],
   "source": [
    "pf = ParticleFilter(prior_fn=prior_fn, n_particles=200, dynamics_fn=dynamics, noise_fn=noise, observe_fn=observe,\n",
    "                   weight_fn=weight, resample_proportion=0.05)      \n",
    "c = FilterCanvas(pf, observing=True, estimator=estimate_swipe, trigger=trigger_action)\n",
    "c.draw()\n",
    "c.start()"
   ]
  },
  {
   "cell_type": "markdown",
   "metadata": {},
   "source": [
    "### Prediction\n",
    "One of the major advantages of the particle filtering approach is that we have a generative model which we can *run without data* to make predictions about the future evolution of the system. This can be used to implement **predictive interfaces** which have appropriate uncertainty.\n",
    "\n",
    "All we do is call the particle filter update but decline to provide an observations; the particles are then driven by their internal dynamics alone (like disengaging the clutch in a car and coasting along)."
   ]
  },
  {
   "cell_type": "code",
   "execution_count": 103,
   "metadata": {
    "ExecuteTime": {
     "end_time": "2022-06-11T17:16:32.520199Z",
     "start_time": "2022-06-11T17:16:32.422549Z"
    }
   },
   "outputs": [
    {
     "name": "stdout",
     "output_type": "stream",
     "text": [
      "[[ 0.102  0.546  1.073]\n",
      " [-0.947  0.114  0.774]\n",
      " [-0.522  0.145  0.84 ]\n",
      " [ 0.841  0.257  1.169]\n",
      " [ 0.102  0.526  1.135]\n",
      " [ 0.316  0.248  0.702]\n",
      " [ 0.102  0.523  1.151]\n",
      " [-0.423  0.042  0.904]\n",
      " [ 0.102  0.489  1.197]\n",
      " [-0.213  0.266  0.51 ]\n",
      " [ 0.112  0.23   0.744]\n",
      " [ 0.102  0.522  1.026]\n",
      " [ 0.102  0.473  0.88 ]\n",
      " [ 0.102  0.519  1.146]\n",
      " [ 0.102  0.504  1.168]\n",
      " [ 0.102  0.546  1.234]\n",
      " [-0.278  0.206  1.148]\n",
      " [ 0.102  0.564  1.254]\n",
      " [ 0.102  0.527  0.963]\n",
      " [ 0.102  0.494  1.01 ]\n",
      " [-0.965  0.166  0.96 ]\n",
      " [ 0.102  0.543  1.309]\n",
      " [ 0.102  0.502  1.207]\n",
      " [-0.697  0.168  1.481]\n",
      " [ 0.102  0.543  1.096]\n",
      " [ 0.102  0.557  1.345]\n",
      " [ 0.102  0.546  1.308]\n",
      " [ 0.102  0.534  1.24 ]\n",
      " [-0.731  0.291  0.827]\n",
      " [-0.192  0.459  1.054]\n",
      " [ 0.535  0.285  1.005]\n",
      " [-0.192  0.493  0.972]\n",
      " [ 0.368  0.216  0.07 ]\n",
      " [-0.192  0.441  0.952]\n",
      " [-0.192  0.554  1.284]\n",
      " [-0.995  0.062  1.145]\n",
      " [-0.461  0.317  1.338]\n",
      " [-0.025  0.376  0.938]\n",
      " [-0.191  0.33   1.309]\n",
      " [-0.192  0.531  0.974]\n",
      " [-0.192  0.499  1.079]\n",
      " [-0.192  0.631  1.292]\n",
      " [-0.192  0.524  0.996]\n",
      " [-0.192  0.524  1.148]\n",
      " [ 0.74   0.189  0.961]\n",
      " [-0.224  0.498  0.795]\n",
      " [ 0.029  0.205  0.513]\n",
      " [-0.999  0.095  1.126]\n",
      " [-0.224  0.487  0.716]\n",
      " [-0.224  0.462  0.905]\n",
      " [-0.224  0.469  0.683]\n",
      " [-0.224  0.477  0.696]\n",
      " [-0.773  0.155  0.966]\n",
      " [-0.874  0.202  0.699]\n",
      " [-0.224  0.477  0.952]\n",
      " [-0.224  0.397  1.162]\n",
      " [-0.224  0.444  0.775]\n",
      " [-0.224  0.452  1.021]\n",
      " [ 0.756  0.291  0.798]\n",
      " [-0.224  0.461  1.073]\n",
      " [-0.224  0.384  0.75 ]\n",
      " [-0.224  0.49   1.01 ]\n",
      " [-0.677  0.424  1.495]\n",
      " [ 0.036  0.31   1.185]\n",
      " [-0.729  0.113  0.334]\n",
      " [-0.224  0.474  0.744]\n",
      " [-0.224  0.518  1.039]\n",
      " [-0.224  0.472  1.005]\n",
      " [-0.224  0.431  0.939]\n",
      " [-0.224  0.504  1.131]\n",
      " [-0.224  0.48   1.039]\n",
      " [ 0.998  0.403  1.322]\n",
      " [-0.861  0.089  0.785]\n",
      " [-0.646  0.325  1.139]\n",
      " [-0.224  0.503  1.143]\n",
      " [-0.224  0.546  1.085]\n",
      " [-0.689  0.526  1.208]\n",
      " [-0.145  0.373  0.772]\n",
      " [-0.689  0.504  1.053]\n",
      " [-0.689  0.489  1.154]\n",
      " [-0.689  0.51   1.198]\n",
      " [-0.63   0.351  1.285]\n",
      " [-0.689  0.54   1.223]\n",
      " [-0.689  0.518  1.297]\n",
      " [-0.689  0.457  0.693]\n",
      " [-0.995  0.512  1.461]\n",
      " [ 0.448  0.404  1.556]\n",
      " [ 0.168  0.243  0.568]\n",
      " [-0.689  0.504  1.186]\n",
      " [-0.689  0.491  0.945]\n",
      " [-0.689  0.396  0.643]\n",
      " [-0.689  0.499  0.961]\n",
      " [ 0.321  0.348  1.038]\n",
      " [-0.689  0.438  0.882]\n",
      " [-0.689  0.504  1.088]\n",
      " [-0.689  0.537  1.251]\n",
      " [-0.552  0.387  0.89 ]\n",
      " [-0.689  0.497  0.927]\n",
      " [-0.689  0.463  0.772]\n",
      " [-0.157  0.239  0.82 ]\n",
      " [-0.087  0.211  1.198]\n",
      " [-0.689  0.456  1.088]\n",
      " [-0.689  0.481  0.86 ]\n",
      " [ 0.999  0.242  1.016]\n",
      " [ 0.15   0.046  1.317]\n",
      " [-0.689  0.517  0.944]\n",
      " [-0.689  0.556  1.232]\n",
      " [-0.209  0.204  0.943]\n",
      " [ 0.204  0.095  0.473]\n",
      " [-0.578  0.205  1.3  ]\n",
      " [ 0.143  0.417  1.209]\n",
      " [-0.716  0.422  0.885]\n",
      " [-0.689  0.466  1.033]\n",
      " [-0.689  0.443  1.064]\n",
      " [-0.858  0.323  1.099]\n",
      " [-0.689  0.458  0.922]\n",
      " [-0.689  0.544  1.092]\n",
      " [-0.689  0.47   0.889]\n",
      " [-0.689  0.527  1.069]\n",
      " [-0.689  0.542  1.188]\n",
      " [-0.689  0.526  1.164]\n",
      " [ 0.197  0.206  0.703]\n",
      " [-0.689  0.54   1.412]\n",
      " [-0.689  0.468  1.058]\n",
      " [-0.258  0.236  0.868]\n",
      " [ 0.041  0.295  1.107]\n",
      " [ 0.577  0.278  1.51 ]\n",
      " [ 0.294  0.182  1.033]\n",
      " [-0.689  0.514  1.055]\n",
      " [-0.689  0.481  0.764]\n",
      " [-0.689  0.51   1.08 ]\n",
      " [-0.689  0.449  0.835]\n",
      " [-0.689  0.455  0.965]\n",
      " [ 0.746  0.2    0.966]\n",
      " [-0.689  0.512  1.119]\n",
      " [ 0.583  0.083  0.774]\n",
      " [-0.689  0.482  1.032]\n",
      " [-0.689  0.499  0.729]\n",
      " [-0.689  0.559  1.048]\n",
      " [-0.689  0.504  1.041]\n",
      " [-0.689  0.522  0.721]\n",
      " [-0.689  0.466  0.638]\n",
      " [-0.689  0.479  1.045]\n",
      " [-0.689  0.5    1.142]\n",
      " [-0.689  0.482  1.009]\n",
      " [ 0.532  0.204  1.098]\n",
      " [ 0.457  0.046  0.898]\n",
      " [-0.424  0.284  1.088]\n",
      " [-0.689  0.446  0.941]\n",
      " [-0.689  0.452  0.802]\n",
      " [-0.689  0.452  0.695]\n",
      " [-0.689  0.475  1.123]\n",
      " [-0.689  0.462  0.969]\n",
      " [-0.738  0.272  0.794]\n",
      " [-0.689  0.537  1.242]\n",
      " [ 0.898  0.255  0.773]\n",
      " [ 0.428  0.394  1.438]\n",
      " [ 0.346  0.387  0.924]\n",
      " [-0.689  0.504  0.906]\n",
      " [ 0.346  0.48   1.653]\n",
      " [-0.689  0.472  0.823]\n",
      " [-0.689  0.497  0.761]\n",
      " [-0.689  0.497  0.884]\n",
      " [-0.689  0.505  1.197]\n",
      " [ 0.536  0.431  0.903]\n",
      " [-0.689  0.524  1.018]\n",
      " [-0.689  0.507  1.219]\n",
      " [-0.423  0.433  0.688]\n",
      " [-0.423  0.447  0.8  ]\n",
      " [-0.423  0.474  1.028]\n",
      " [-0.423  0.426  0.834]\n",
      " [-0.502  0.164  1.097]\n",
      " [-0.192  0.514  1.213]\n",
      " [-0.192  0.53   0.986]\n",
      " [-0.127  0.531  1.404]\n",
      " [-0.192  0.59   1.175]\n",
      " [-0.428  0.192  0.754]\n",
      " [-0.192  0.51   1.088]\n",
      " [-0.192  0.542  1.318]\n",
      " [ 0.734  0.017  1.125]\n",
      " [-0.192  0.535  1.218]\n",
      " [-0.268  0.103  0.669]\n",
      " [-0.192  0.538  1.404]\n",
      " [ 0.564  0.252  1.378]\n",
      " [-0.192  0.545  1.077]\n",
      " [-0.192  0.515  1.126]\n",
      " [-0.192  0.533  0.742]\n",
      " [-0.528  0.53   1.103]\n",
      " [-0.528  0.533  1.282]\n",
      " [ 0.203  0.426  1.21 ]\n",
      " [-0.192  0.561  1.363]\n",
      " [ 0.244  0.288  0.982]\n",
      " [-0.922  0.176  0.768]\n",
      " [-0.192  0.516  1.38 ]\n",
      " [ 0.716  0.472  0.998]\n",
      " [-0.869  0.396  0.922]\n",
      " [-0.85   0.274  1.201]\n",
      " [-0.164  0.276  1.014]\n",
      " [-0.192  0.544  1.344]\n",
      " [-0.192  0.52   1.392]]\n"
     ]
    }
   ],
   "source": [
    "# update, but don't provide observations\n",
    "pf.update()\n",
    "pf.update()\n",
    "pf.update()\n",
    "\n",
    "print(pf.particles)"
   ]
  },
  {
   "cell_type": "code",
   "execution_count": 107,
   "metadata": {
    "ExecuteTime": {
     "end_time": "2022-06-11T17:17:49.042313Z",
     "start_time": "2022-06-11T17:17:48.842073Z"
    }
   },
   "outputs": [
    {
     "data": {
      "application/vnd.jupyter.widget-view+json": {
       "model_id": "ade5a8fc5efa4d908de9491801500f66",
       "version_major": 2,
       "version_minor": 0
      },
      "text/plain": [
       "Label(value='')"
      ]
     },
     "metadata": {},
     "output_type": "display_data"
    },
    {
     "data": {
      "application/vnd.jupyter.widget-view+json": {
       "model_id": "d1d03da8f99244ada2f4ba07d86528bb",
       "version_major": 2,
       "version_minor": 0
      },
      "text/plain": [
       "Button(icon='stop', style=ButtonStyle())"
      ]
     },
     "metadata": {},
     "output_type": "display_data"
    },
    {
     "data": {
      "application/vnd.jupyter.widget-view+json": {
       "model_id": "b16c755145f94f149aaf15c6d5e6121b",
       "version_major": 2,
       "version_minor": 0
      },
      "text/plain": [
       "Output()"
      ]
     },
     "metadata": {},
     "output_type": "display_data"
    },
    {
     "data": {
      "application/vnd.jupyter.widget-view+json": {
       "model_id": "2fe2008d16f748439117a70826f9af42",
       "version_major": 2,
       "version_minor": 0
      },
      "text/plain": [
       "Canvas(width=800)"
      ]
     },
     "metadata": {},
     "output_type": "display_data"
    }
   ],
   "source": [
    "pf = ParticleFilter(prior_fn=prior_fn, n_particles=50, dynamics_fn=dynamics, noise_fn=noise, observe_fn=observe,\n",
    "                   weight_fn=weight, resample_proportion=0.01)      \n",
    "c = FilterCanvas(pf, observing=True, predict=True)\n",
    "c.draw()\n",
    "c.start()"
   ]
  },
  {
   "cell_type": "markdown",
   "metadata": {},
   "source": [
    "## Reflection\n",
    "### What did we gain?\n",
    "* We were able to track gestures even with not-very-reliable mouse input.\n",
    "* We maintained uncertainty, and could choose to actuate gestures actions when we were quantifiably sure the intention was there.\n",
    "* We could display uncertainty in estimation to the user.\n",
    "* We could also predict the future: this could be useful for display or to reduce apparent latency.\n",
    "### What was difficult?\n",
    "* The filter can be tricky to tune, particularly in weighting the hypothesised sensor values against the real ones\n",
    "* A sample based approach is easy to understand, but isn't the most efficient, and the quality of interaction depends on the sample number.\n",
    "* Any time we are dealing with uncertainty in the loop we have to find ways of reflecting that to the user -- doing so in effectively can be challenging.\n",
    "\n",
    "### What else could we do?\n",
    "* We could obviously extend this to much more complex gestures, or other input devices.\n",
    "* We could use the uncertainty more intelligently in the interaction\n",
    "* We could take better advantage of the fact we don't have to be locked to real-time"
   ]
  },
  {
   "cell_type": "code",
   "execution_count": null,
   "metadata": {},
   "outputs": [],
   "source": []
  }
 ],
 "metadata": {
  "kernelspec": {
   "display_name": "Python 3 (ipykernel)",
   "language": "python",
   "name": "python3"
  },
  "language_info": {
   "codemirror_mode": {
    "name": "ipython",
    "version": 3
   },
   "file_extension": ".py",
   "mimetype": "text/x-python",
   "name": "python",
   "nbconvert_exporter": "python",
   "pygments_lexer": "ipython3",
   "version": "3.9.7"
  },
  "toc": {
   "base_numbering": 1,
   "nav_menu": {},
   "number_sections": true,
   "sideBar": true,
   "skip_h1_title": false,
   "title_cell": "Table of Contents",
   "title_sidebar": "Contents",
   "toc_cell": false,
   "toc_position": {},
   "toc_section_display": true,
   "toc_window_display": false
  },
  "varInspector": {
   "cols": {
    "lenName": 16,
    "lenType": 16,
    "lenVar": 40
   },
   "kernels_config": {
    "python": {
     "delete_cmd_postfix": "",
     "delete_cmd_prefix": "del ",
     "library": "var_list.py",
     "varRefreshCmd": "print(var_dic_list())"
    },
    "r": {
     "delete_cmd_postfix": ") ",
     "delete_cmd_prefix": "rm(",
     "library": "var_list.r",
     "varRefreshCmd": "cat(var_dic_list()) "
    }
   },
   "types_to_exclude": [
    "module",
    "function",
    "builtin_function_or_method",
    "instance",
    "_Feature"
   ],
   "window_display": false
  }
 },
 "nbformat": 4,
 "nbformat_minor": 2
}
