{
 "cells": [
  {
   "cell_type": "markdown",
   "id": "recovered-bottle",
   "metadata": {},
   "source": [
    "# Foveated vision\n",
    "\n",
    "Andrew Howes\n",
    "\n",
    "May 2022\n",
    "\n",
    "This notebook illustrates the effect of foveal eccentricity on acuity of vision.\n",
    "\n",
    "It is assumed that noise in location estimates increases with eccentricity and that the noise is Gaussian distributed."
   ]
  },
  {
   "cell_type": "code",
   "execution_count": null,
   "id": "fixed-truck",
   "metadata": {},
   "outputs": [],
   "source": [
    "# This cell and the following are only if you are running on Google Colab.\n",
    "\n",
    "#from google.colab import drive\n",
    "#drive.mount('/content/drive')"
   ]
  },
  {
   "cell_type": "code",
   "execution_count": null,
   "id": "changing-squad",
   "metadata": {},
   "outputs": [],
   "source": [
    "#%cd '/content/drive/MyDrive/CHI22CMT/CHI22_CogMod_Tutorial/01-Introduction'"
   ]
  },
  {
   "cell_type": "code",
   "execution_count": null,
   "id": "growing-alarm",
   "metadata": {},
   "outputs": [],
   "source": [
    "import matplotlib.pyplot as plt\n",
    "import matplotlib as mpl\n",
    "import scipy.stats\n",
    "import numpy as np\n",
    "\n",
    "mpl.style.use('fivethirtyeight')\n",
    "\n",
    "def plot_gaussian(mean,sigma,fmt,label):\n",
    "    # plot a Gaussian distributed at 'mean' with standard deviation sigma.\n",
    "    x_min = mean-3*sigma\n",
    "    x_max = mean+3*sigma\n",
    "    x = np.linspace(x_min, x_max, 100)\n",
    "    y = scipy.stats.norm.pdf(x,mean,abs(sigma))\n",
    "    plt.xlim(-80,80)\n",
    "    plt.ylim(0,0.2)\n",
    "    plt.plot(x,y,fmt,label=label)\n"
   ]
  },
  {
   "cell_type": "code",
   "execution_count": null,
   "id": "homeless-young",
   "metadata": {},
   "outputs": [],
   "source": [
    "# fixed_noise is the noise at the fovea.\n",
    "fixed_noise = 2\n",
    "\n",
    "# the noise parameter determines how much noise increases with eccentricity\n",
    "noise_parameter = 0.25\n",
    "\n",
    "eccentricity = np.arange(-60,70,20)\n",
    "plt.figure(figsize=(10,6))\n",
    "\n",
    "for i in eccentricity:\n",
    "    plot_gaussian(i, fixed_noise+abs(noise_parameter*i), 'g:',f'{i}')\n",
    "\n",
    "x = plt.xlabel('Eccentricity')\n"
   ]
  },
  {
   "cell_type": "markdown",
   "id": "portable-accommodation",
   "metadata": {},
   "source": [
    "In the figure above it is assumed that the fovea (gaze) is at 0 eccentricity. Each curve then represents the distribution of perceived target locations given that the actual target location is at the centre of the distribution. \n",
    "\n",
    "So, for example, if the target is at eccentricity 60 then the probability of perceiving it at 60 is about 0.025, whereas if the target is at 20 then the probability of perceiving it at 20 is over 0.05.\n",
    "\n",
    "The figure also illustrates the range of perceived locations at each eccentricity. If the target is at eccentricity 20 then the range of possible perceived locations is between about 0 and 40.\n",
    "\n",
    "Parameter values do not represent the actual human acuity function and are for illustration only."
   ]
  },
  {
   "cell_type": "markdown",
   "id": "metallic-gather",
   "metadata": {},
   "source": [
    "## Exercise\n",
    "\n",
    "* Build a Python model of human vision which returns the (stochastic) perceived location of a target given the true location.\n",
    "\n",
    "* Assume that the eyes are moved to the perceived location and a new observation is made of the target (which has not moved). Show, through simulated trials, how the error in the perceived location reduces as each successive observation is made."
   ]
  }
 ],
 "metadata": {
  "kernelspec": {
   "display_name": "Python 3",
   "language": "python",
   "name": "python3"
  },
  "language_info": {
   "codemirror_mode": {
    "name": "ipython",
    "version": 3
   },
   "file_extension": ".py",
   "mimetype": "text/x-python",
   "name": "python",
   "nbconvert_exporter": "python",
   "pygments_lexer": "ipython3",
   "version": "3.8.8"
  }
 },
 "nbformat": 4,
 "nbformat_minor": 5
}
